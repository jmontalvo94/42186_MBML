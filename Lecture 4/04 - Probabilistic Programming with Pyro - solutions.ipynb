{
 "cells": [
  {
   "cell_type": "markdown",
   "metadata": {
    "colab_type": "text",
    "id": "6PeTjpczZyjx"
   },
   "source": [
    "# Week 4 - Probabilistic Programming with Pyro"
   ]
  },
  {
   "cell_type": "markdown",
   "metadata": {
    "colab_type": "text",
    "id": "Wy_KJNZEZyj1"
   },
   "source": [
    "## Part 1 - Introduction to Pyro"
   ]
  },
  {
   "cell_type": "markdown",
   "metadata": {
    "colab_type": "text",
    "id": "NS_yO9qoZyj2"
   },
   "source": [
    "Hello again. We've finally arrived to Pyro - a platform for probabilistic programming!\n",
    "\n",
    "The main purpose of this notebook is to introduce Pyro. Afterwards, **it is highly recommended that you complement the information in this notebook with the following 2 official introduction tutorials from the Pyro developers**:\n",
    "- https://pyro.ai/examples/intro_part_i.html\n",
    "- https://pyro.ai/examples/intro_part_ii.html"
   ]
  },
  {
   "cell_type": "markdown",
   "metadata": {
    "colab_type": "text",
    "id": "rDkddc93Zyj3"
   },
   "source": [
    "...the usual imports...\n",
    "\n",
    "well, notice the new packages!!"
   ]
  },
  {
   "cell_type": "code",
   "execution_count": 1,
   "metadata": {
    "colab": {
     "base_uri": "https://localhost:8080/",
     "height": 397
    },
    "colab_type": "code",
    "executionInfo": {
     "elapsed": 8713,
     "status": "ok",
     "timestamp": 1582876237602,
     "user": {
      "displayName": "Filipe Rodrigues",
      "photoUrl": "https://lh3.googleusercontent.com/a-/AAuE7mDaWEE0j1oWjHLxVkWKYDXRh8NUBFCgGYF0XZOsvA=s64",
      "userId": "15636531912642599438"
     },
     "user_tz": -60
    },
    "id": "RQUnWcAsSb2g",
    "outputId": "5b36ff52-75ce-4181-cf4b-78351c87df29"
   },
   "outputs": [
    {
     "name": "stdout",
     "output_type": "stream",
     "text": [
      "Collecting pyro-ppl\n",
      "\u001b[?25l  Downloading https://files.pythonhosted.org/packages/92/7a/4dc4d39d6db1aae0825a2a2ab60178fc4afb92efd9669be02715d3a16734/pyro_ppl-1.2.1-py3-none-any.whl (486kB)\n",
      "\r",
      "\u001b[K     |▊                               | 10kB 9.8MB/s eta 0:00:01\r",
      "\u001b[K     |█▍                              | 20kB 1.8MB/s eta 0:00:01\r",
      "\u001b[K     |██                              | 30kB 2.3MB/s eta 0:00:01\r",
      "\u001b[K     |██▊                             | 40kB 1.6MB/s eta 0:00:01\r",
      "\u001b[K     |███▍                            | 51kB 1.9MB/s eta 0:00:01\r",
      "\u001b[K     |████                            | 61kB 2.2MB/s eta 0:00:01\r",
      "\u001b[K     |████▊                           | 71kB 2.4MB/s eta 0:00:01\r",
      "\u001b[K     |█████▍                          | 81kB 2.6MB/s eta 0:00:01\r",
      "\u001b[K     |██████                          | 92kB 2.9MB/s eta 0:00:01\r",
      "\u001b[K     |██████▊                         | 102kB 2.7MB/s eta 0:00:01\r",
      "\u001b[K     |███████▍                        | 112kB 2.7MB/s eta 0:00:01\r",
      "\u001b[K     |████████                        | 122kB 2.7MB/s eta 0:00:01\r",
      "\u001b[K     |████████▊                       | 133kB 2.7MB/s eta 0:00:01\r",
      "\u001b[K     |█████████▍                      | 143kB 2.7MB/s eta 0:00:01\r",
      "\u001b[K     |██████████                      | 153kB 2.7MB/s eta 0:00:01\r",
      "\u001b[K     |██████████▊                     | 163kB 2.7MB/s eta 0:00:01\r",
      "\u001b[K     |███████████▍                    | 174kB 2.7MB/s eta 0:00:01\r",
      "\u001b[K     |████████████▏                   | 184kB 2.7MB/s eta 0:00:01\r",
      "\u001b[K     |████████████▉                   | 194kB 2.7MB/s eta 0:00:01\r",
      "\u001b[K     |█████████████▌                  | 204kB 2.7MB/s eta 0:00:01\r",
      "\u001b[K     |██████████████▏                 | 215kB 2.7MB/s eta 0:00:01\r",
      "\u001b[K     |██████████████▉                 | 225kB 2.7MB/s eta 0:00:01\r",
      "\u001b[K     |███████████████▌                | 235kB 2.7MB/s eta 0:00:01\r",
      "\u001b[K     |████████████████▏               | 245kB 2.7MB/s eta 0:00:01\r",
      "\u001b[K     |████████████████▉               | 256kB 2.7MB/s eta 0:00:01\r",
      "\u001b[K     |█████████████████▌              | 266kB 2.7MB/s eta 0:00:01\r",
      "\u001b[K     |██████████████████▏             | 276kB 2.7MB/s eta 0:00:01\r",
      "\u001b[K     |██████████████████▉             | 286kB 2.7MB/s eta 0:00:01\r",
      "\u001b[K     |███████████████████▌            | 296kB 2.7MB/s eta 0:00:01\r",
      "\u001b[K     |████████████████████▏           | 307kB 2.7MB/s eta 0:00:01\r",
      "\u001b[K     |████████████████████▉           | 317kB 2.7MB/s eta 0:00:01\r",
      "\u001b[K     |█████████████████████▌          | 327kB 2.7MB/s eta 0:00:01\r",
      "\u001b[K     |██████████████████████▏         | 337kB 2.7MB/s eta 0:00:01\r",
      "\u001b[K     |██████████████████████▉         | 348kB 2.7MB/s eta 0:00:01\r",
      "\u001b[K     |███████████████████████▋        | 358kB 2.7MB/s eta 0:00:01\r",
      "\u001b[K     |████████████████████████▎       | 368kB 2.7MB/s eta 0:00:01\r",
      "\u001b[K     |█████████████████████████       | 378kB 2.7MB/s eta 0:00:01\r",
      "\u001b[K     |█████████████████████████▋      | 389kB 2.7MB/s eta 0:00:01\r",
      "\u001b[K     |██████████████████████████▎     | 399kB 2.7MB/s eta 0:00:01\r",
      "\u001b[K     |███████████████████████████     | 409kB 2.7MB/s eta 0:00:01\r",
      "\u001b[K     |███████████████████████████▋    | 419kB 2.7MB/s eta 0:00:01\r",
      "\u001b[K     |████████████████████████████▎   | 430kB 2.7MB/s eta 0:00:01\r",
      "\u001b[K     |█████████████████████████████   | 440kB 2.7MB/s eta 0:00:01\r",
      "\u001b[K     |█████████████████████████████▋  | 450kB 2.7MB/s eta 0:00:01\r",
      "\u001b[K     |██████████████████████████████▎ | 460kB 2.7MB/s eta 0:00:01\r",
      "\u001b[K     |███████████████████████████████ | 471kB 2.7MB/s eta 0:00:01\r",
      "\u001b[K     |███████████████████████████████▋| 481kB 2.7MB/s eta 0:00:01\r",
      "\u001b[K     |████████████████████████████████| 491kB 2.7MB/s \n",
      "\u001b[?25hRequirement already satisfied: numpy>=1.7 in /usr/local/lib/python3.6/dist-packages (from pyro-ppl) (1.17.5)\n",
      "Requirement already satisfied: torch>=1.4.0 in /usr/local/lib/python3.6/dist-packages (from pyro-ppl) (1.4.0)\n",
      "Collecting tqdm>=4.36\n",
      "\u001b[?25l  Downloading https://files.pythonhosted.org/packages/47/55/fd9170ba08a1a64a18a7f8a18f088037316f2a41be04d2fe6ece5a653e8f/tqdm-4.43.0-py2.py3-none-any.whl (59kB)\n",
      "\u001b[K     |████████████████████████████████| 61kB 6.1MB/s \n",
      "\u001b[?25hRequirement already satisfied: opt-einsum>=2.3.2 in /usr/local/lib/python3.6/dist-packages (from pyro-ppl) (3.1.0)\n",
      "Collecting pyro-api>=0.1.1\n",
      "  Downloading https://files.pythonhosted.org/packages/c2/bc/6cdbd1929e32fff62a33592633c2cc0393c7f7739131ccc9c9c4e28ac8dd/pyro_api-0.1.1-py3-none-any.whl\n",
      "Installing collected packages: tqdm, pyro-api, pyro-ppl\n",
      "  Found existing installation: tqdm 4.28.1\n",
      "    Uninstalling tqdm-4.28.1:\n",
      "      Successfully uninstalled tqdm-4.28.1\n",
      "Successfully installed pyro-api-0.1.1 pyro-ppl-1.2.1 tqdm-4.43.0\n"
     ]
    },
    {
     "data": {
      "application/vnd.colab-display-data+json": {
       "pip_warning": {
        "packages": [
         "tqdm"
        ]
       }
      }
     },
     "metadata": {
      "tags": []
     },
     "output_type": "display_data"
    }
   ],
   "source": [
    "# If Pyro is not installed in your Jupyter environment, you can install it using the following command. \n",
    "# Note: you will probably also need to restart you runtime.\n",
    "!pip install pyro-ppl"
   ]
  },
  {
   "cell_type": "code",
   "execution_count": 1,
   "metadata": {
    "colab": {},
    "colab_type": "code",
    "id": "-s0pyO9BZyj4"
   },
   "outputs": [],
   "source": [
    "import numpy as np\n",
    "import matplotlib.pyplot as plt\n",
    "import random\n",
    "import torch\n",
    "import pyro\n",
    "\n",
    "# matplotlib options\n",
    "plt.style.use('ggplot')\n",
    "%matplotlib inline\n",
    "plt.rcParams['figure.figsize'] = (12, 8)"
   ]
  },
  {
   "cell_type": "code",
   "execution_count": 2,
   "metadata": {
    "colab": {},
    "colab_type": "code",
    "id": "mv7BHAhLZyj9"
   },
   "outputs": [],
   "source": [
    "# usually have to run this twice to take effect\n",
    "plt.style.use('ggplot')\n",
    "%matplotlib inline\n",
    "plt.rcParams['figure.figsize'] = (12, 8)"
   ]
  },
  {
   "cell_type": "markdown",
   "metadata": {
    "colab_type": "text",
    "id": "jwTyQok6ZykB"
   },
   "source": [
    "### 1.1. Pyro's distribution library"
   ]
  },
  {
   "cell_type": "markdown",
   "metadata": {
    "colab_type": "text",
    "id": "f-kVCq5UTH2I"
   },
   "source": [
    "Pyro's distribution library ```pyro.distributions``` is built on top of PyTorch's distributions ```torch.distributions``` in order to make use of PyTorch's fast tensor math and autograd (automatic differentiation) capabilities during inference. \n",
    "\n",
    "You can define a new distribution as follows:"
   ]
  },
  {
   "cell_type": "code",
   "execution_count": 4,
   "metadata": {
    "colab": {},
    "colab_type": "code",
    "id": "BCuR0PTzTfUr"
   },
   "outputs": [],
   "source": [
    "mu = 0.\n",
    "sigma = 1.\n",
    "my_dist = pyro.distributions.Normal(loc=mu, scale=sigma)"
   ]
  },
  {
   "cell_type": "markdown",
   "metadata": {
    "colab_type": "text",
    "id": "-Q7vBBfXT3QL"
   },
   "source": [
    "Using the ```my_dist``` object that we have just instantiated, we can draw samples from the corresponding distribution:"
   ]
  },
  {
   "cell_type": "code",
   "execution_count": 5,
   "metadata": {
    "colab": {
     "base_uri": "https://localhost:8080/",
     "height": 34
    },
    "colab_type": "code",
    "executionInfo": {
     "elapsed": 777,
     "status": "ok",
     "timestamp": 1581933218157,
     "user": {
      "displayName": "Filipe Rodrigues",
      "photoUrl": "https://lh3.googleusercontent.com/a-/AAuE7mDaWEE0j1oWjHLxVkWKYDXRh8NUBFCgGYF0XZOsvA=s64",
      "userId": "15636531912642599438"
     },
     "user_tz": -60
    },
    "id": "DjeK4tKyULi9",
    "outputId": "1d3f68e6-5300-4777-84cc-5380a4741093"
   },
   "outputs": [
    {
     "name": "stdout",
     "output_type": "stream",
     "text": [
      "x: tensor(-0.8968)\n"
     ]
    }
   ],
   "source": [
    "x = my_dist.sample()\n",
    "print(\"x:\", x)"
   ]
  },
  {
   "cell_type": "markdown",
   "metadata": {
    "colab_type": "text",
    "id": "IuYl4HeMkG74"
   },
   "source": [
    "Notice that the function returns a PyTorch ```tensor``` object. Fortunately, it is extremely easy to convert back and forward between Numpy vectors and matrices and PyTorch tensors. Check the some of the options below:"
   ]
  },
  {
   "cell_type": "code",
   "execution_count": 6,
   "metadata": {
    "colab": {
     "base_uri": "https://localhost:8080/",
     "height": 68
    },
    "colab_type": "code",
    "executionInfo": {
     "elapsed": 824,
     "status": "ok",
     "timestamp": 1581933235871,
     "user": {
      "displayName": "Filipe Rodrigues",
      "photoUrl": "https://lh3.googleusercontent.com/a-/AAuE7mDaWEE0j1oWjHLxVkWKYDXRh8NUBFCgGYF0XZOsvA=s64",
      "userId": "15636531912642599438"
     },
     "user_tz": -60
    },
    "id": "T4l_6hAJkVNX",
    "outputId": "1c24453c-f8f9-414f-b81b-e0cdbcfd804c"
   },
   "outputs": [
    {
     "name": "stdout",
     "output_type": "stream",
     "text": [
      "tensor([1, 2, 3]) <class 'torch.Tensor'>\n",
      "[1 2 3] <class 'numpy.ndarray'>\n",
      "tensor([1, 2, 3]) <class 'torch.Tensor'>\n"
     ]
    }
   ],
   "source": [
    "# from Python list to PyTorch tensor\n",
    "x = [1,2,3]\n",
    "x = torch.tensor(x)\n",
    "print(x, type(x))\n",
    "\n",
    "# from PyTorch tensor to Numpy ndarray\n",
    "x = x.numpy()\n",
    "print(x, type(x))\n",
    "\n",
    "# from Numpy ndarray back to PyTorch tensor\n",
    "x = torch.from_numpy(x)\n",
    "print(x, type(x))"
   ]
  },
  {
   "cell_type": "markdown",
   "metadata": {
    "colab_type": "text",
    "id": "KWzWzroaUVVv"
   },
   "source": [
    "\n",
    "\n",
    "We can also draw multiple independent samples (in this case a 20x2 matrix of independent samples) using the following PyTorch-style syntax:"
   ]
  },
  {
   "cell_type": "code",
   "execution_count": 7,
   "metadata": {
    "colab": {
     "base_uri": "https://localhost:8080/",
     "height": 204
    },
    "colab_type": "code",
    "executionInfo": {
     "elapsed": 1074,
     "status": "ok",
     "timestamp": 1581933308745,
     "user": {
      "displayName": "Filipe Rodrigues",
      "photoUrl": "https://lh3.googleusercontent.com/a-/AAuE7mDaWEE0j1oWjHLxVkWKYDXRh8NUBFCgGYF0XZOsvA=s64",
      "userId": "15636531912642599438"
     },
     "user_tz": -60
    },
    "id": "Pm8I54ioUUhW",
    "outputId": "6a219105-605c-4315-b372-aa2e7ce85786"
   },
   "outputs": [
    {
     "name": "stdout",
     "output_type": "stream",
     "text": [
      "Shape of x: torch.Size([10, 2])\n",
      "x: tensor([[-3.9848e-01, -1.1176e+00],\n",
      "        [-4.3960e-01, -4.1634e-01],\n",
      "        [-7.9817e-01, -4.1935e-01],\n",
      "        [-1.2660e+00,  3.7938e-01],\n",
      "        [-7.7700e-01, -2.2369e+00],\n",
      "        [ 5.2229e-01, -2.6657e-01],\n",
      "        [ 3.6832e-01,  1.8534e+00],\n",
      "        [-9.8393e-03, -2.2959e-03],\n",
      "        [ 7.3927e-01, -9.4240e-01],\n",
      "        [-7.3318e-02, -2.4246e+00]])\n"
     ]
    }
   ],
   "source": [
    "x = my_dist.sample(sample_shape=torch.Size([10,2]))\n",
    "print(\"Shape of x:\", x.shape)\n",
    "print(\"x:\", x)"
   ]
  },
  {
   "cell_type": "markdown",
   "metadata": {
    "colab_type": "text",
    "id": "0qeAeIS7WBve"
   },
   "source": [
    "Given a collection of samples ```x```, we can also compute their log-probability under the distribution ```my_dist``` as follows:"
   ]
  },
  {
   "cell_type": "code",
   "execution_count": 8,
   "metadata": {
    "colab": {
     "base_uri": "https://localhost:8080/",
     "height": 204
    },
    "colab_type": "code",
    "executionInfo": {
     "elapsed": 770,
     "status": "ok",
     "timestamp": 1581933334473,
     "user": {
      "displayName": "Filipe Rodrigues",
      "photoUrl": "https://lh3.googleusercontent.com/a-/AAuE7mDaWEE0j1oWjHLxVkWKYDXRh8NUBFCgGYF0XZOsvA=s64",
      "userId": "15636531912642599438"
     },
     "user_tz": -60
    },
    "id": "wW-0E4rVWS4M",
    "outputId": "8d00198f-b786-4c97-d16b-2e85f71f924f"
   },
   "outputs": [
    {
     "name": "stdout",
     "output_type": "stream",
     "text": [
      "Loglikelihood of samples in x:\n",
      " tensor([[-0.9983, -1.5434],\n",
      "        [-1.0156, -1.0056],\n",
      "        [-1.2375, -1.0069],\n",
      "        [-1.7203, -0.9909],\n",
      "        [-1.2208, -3.4209],\n",
      "        [-1.0553, -0.9545],\n",
      "        [-0.9868, -2.6365],\n",
      "        [-0.9190, -0.9189],\n",
      "        [-1.1922, -1.3630],\n",
      "        [-0.9216, -3.8583]])\n"
     ]
    }
   ],
   "source": [
    "print(\"Loglikelihood of samples in x:\\n\", my_dist.log_prob(x))"
   ]
  },
  {
   "cell_type": "markdown",
   "metadata": {
    "colab_type": "text",
    "id": "ZGtWmpWOWZlJ"
   },
   "source": [
    "Notice that, because the samples are assumed to be independent, the code above returns a log probability score for each sample. However, we can compute the log probability of the entire set of samples easily:"
   ]
  },
  {
   "cell_type": "code",
   "execution_count": 9,
   "metadata": {
    "colab": {
     "base_uri": "https://localhost:8080/",
     "height": 34
    },
    "colab_type": "code",
    "executionInfo": {
     "elapsed": 690,
     "status": "ok",
     "timestamp": 1581933375674,
     "user": {
      "displayName": "Filipe Rodrigues",
      "photoUrl": "https://lh3.googleusercontent.com/a-/AAuE7mDaWEE0j1oWjHLxVkWKYDXRh8NUBFCgGYF0XZOsvA=s64",
      "userId": "15636531912642599438"
     },
     "user_tz": -60
    },
    "id": "7Fb3AJZwW3kd",
    "outputId": "ffab3a62-ae75-49ab-ec02-25c9530b0c5a"
   },
   "outputs": [
    {
     "name": "stdout",
     "output_type": "stream",
     "text": [
      "Loglikelihood of entire dataset x: tensor(-28.9662)\n"
     ]
    }
   ],
   "source": [
    "print(\"Loglikelihood of entire dataset x:\", my_dist.log_prob(x).sum())"
   ]
  },
  {
   "cell_type": "markdown",
   "metadata": {
    "colab_type": "text",
    "id": "h3z3GB4inuUa"
   },
   "source": [
    "### 1.2. Tensor shapes and batch semantics in Pyro "
   ]
  },
  {
   "cell_type": "markdown",
   "metadata": {
    "colab_type": "text",
    "id": "xzePX_17n32U"
   },
   "source": [
    "Like Numpy ndarrays, PyTorch tensors have a single ```.shape``` attribute, but Pyro distributions have two shape attributions with special meaning: ```.batch_shape``` and ```.event_shape```. Can you check the ```.batch_shape``` and ```.event_shape``` of ```my_dist```?"
   ]
  },
  {
   "cell_type": "code",
   "execution_count": 0,
   "metadata": {
    "colab": {},
    "colab_type": "code",
    "id": "jfOIkSOud5Rs"
   },
   "outputs": [],
   "source": [
    "my_dist = pyro.distributions.Normal(torch.zeros(10, 2), torch.ones(10, 2))\n",
    "print(\"batch_shape:\", my_dist.batch_shape)\n",
    "print(\"event_shape:\", my_dist.event_shape)"
   ]
  },
  {
   "cell_type": "markdown",
   "metadata": {
    "colab_type": "text",
    "id": "j-K6ZiL5d_Hb"
   },
   "source": [
    "Let's now take a sample from ```my_dist```:"
   ]
  },
  {
   "cell_type": "code",
   "execution_count": 0,
   "metadata": {
    "colab": {},
    "colab_type": "code",
    "id": "RLjLZgj5oSYA"
   },
   "outputs": [],
   "source": [
    "x = my_dist.sample()"
   ]
  },
  {
   "cell_type": "markdown",
   "metadata": {
    "colab_type": "text",
    "id": "8ngR4i5AeIgH"
   },
   "source": [
    "Now check the shape of the sample that you just obtained. Does it make sense? Notice how that is equal to the sum of the ```batch_shape``` and the ```event_shape```. Why?"
   ]
  },
  {
   "cell_type": "code",
   "execution_count": 0,
   "metadata": {
    "colab": {},
    "colab_type": "code",
    "id": "0QTAU-pFeH7F"
   },
   "outputs": [],
   "source": [
    "print(x.shape)\n",
    "assert x.shape == my_dist.batch_shape + my_dist.event_shape"
   ]
  },
  {
   "cell_type": "markdown",
   "metadata": {
    "colab_type": "text",
    "id": "0v_L93YgofG2"
   },
   "source": [
    "Indices over ```.batch_shape``` denote conditionally independent random variables, whereas indices over ```.event_shape``` denote dependent random variables (ie one draw from a distribution). Because the dependent random variables define probability together, the ```.log_prob()``` method only produces a single number for each event of shape .event_shape. Thus the total shape of ```.log_prob()``` is ```.batch_shape```.\n",
    "\n",
    "Let's consider a concrete example:"
   ]
  },
  {
   "cell_type": "code",
   "execution_count": 0,
   "metadata": {
    "colab": {
     "base_uri": "https://localhost:8080/",
     "height": 68
    },
    "colab_type": "code",
    "executionInfo": {
     "elapsed": 745,
     "status": "ok",
     "timestamp": 1581934899556,
     "user": {
      "displayName": "Filipe Rodrigues",
      "photoUrl": "https://lh3.googleusercontent.com/a-/AAuE7mDaWEE0j1oWjHLxVkWKYDXRh8NUBFCgGYF0XZOsvA=s64",
      "userId": "15636531912642599438"
     },
     "user_tz": -60
    },
    "id": "xfWlU-dfo1zl",
    "outputId": "ede1cb71-2b3d-473f-e000-f52808563cf7"
   },
   "outputs": [
    {
     "name": "stdout",
     "output_type": "stream",
     "text": [
      "my_dist shape: torch.Size([10, 2])\n",
      "my_dist batch_shape: torch.Size([10, 2])\n",
      "my_dist event_shape: torch.Size([])\n"
     ]
    }
   ],
   "source": [
    "my_dist = pyro.distributions.Normal(torch.zeros(10, 2), torch.ones(10, 2))\n",
    "print(\"my_dist shape:\", my_dist.shape())\n",
    "print(\"my_dist batch_shape:\", my_dist.batch_shape)\n",
    "print(\"my_dist event_shape:\", my_dist.event_shape)"
   ]
  },
  {
   "cell_type": "markdown",
   "metadata": {
    "colab_type": "text",
    "id": "-jQiaLH3pJYR"
   },
   "source": [
    "This indicates that a sample from ```my_dist``` will correspond to 10x2 independent draws. Therefore, evaluating ```.log_prob()``` will return 10x2 log probability values:"
   ]
  },
  {
   "cell_type": "code",
   "execution_count": 0,
   "metadata": {
    "colab": {
     "base_uri": "https://localhost:8080/",
     "height": 51
    },
    "colab_type": "code",
    "executionInfo": {
     "elapsed": 835,
     "status": "ok",
     "timestamp": 1581934701880,
     "user": {
      "displayName": "Filipe Rodrigues",
      "photoUrl": "https://lh3.googleusercontent.com/a-/AAuE7mDaWEE0j1oWjHLxVkWKYDXRh8NUBFCgGYF0XZOsvA=s64",
      "userId": "15636531912642599438"
     },
     "user_tz": -60
    },
    "id": "ud4VsO9PpwCX",
    "outputId": "a3b928ed-c0c5-4d95-904e-b8268a23db2f"
   },
   "outputs": [
    {
     "name": "stdout",
     "output_type": "stream",
     "text": [
      "shape of sample x: torch.Size([10, 2])\n",
      "shape of log prob of x: torch.Size([10, 2])\n"
     ]
    }
   ],
   "source": [
    "x = my_dist.sample()\n",
    "print(\"shape of sample x:\", x.shape)\n",
    "print(\"shape of log prob of x:\", my_dist.log_prob(x).shape)"
   ]
  },
  {
   "cell_type": "markdown",
   "metadata": {
    "colab_type": "text",
    "id": "eh1DNCkhqAeL"
   },
   "source": [
    "In Pyro, we can treat a univariate distribution as multivariate by calling the ```.to_event(n)``` method where ```n``` is the number of batch dimensions (from the right) to declare as dependent. Try taking the distribution ```my_dist``` defined above, and declaring the right-most batch dimension as dependent using ```.to_event(1)```, and then check the ```batch_shape``` and the ```event_shape```. "
   ]
  },
  {
   "cell_type": "code",
   "execution_count": 0,
   "metadata": {
    "colab": {
     "base_uri": "https://localhost:8080/",
     "height": 68
    },
    "colab_type": "code",
    "executionInfo": {
     "elapsed": 912,
     "status": "ok",
     "timestamp": 1581934928228,
     "user": {
      "displayName": "Filipe Rodrigues",
      "photoUrl": "https://lh3.googleusercontent.com/a-/AAuE7mDaWEE0j1oWjHLxVkWKYDXRh8NUBFCgGYF0XZOsvA=s64",
      "userId": "15636531912642599438"
     },
     "user_tz": -60
    },
    "id": "m-dKHx09qWH4",
    "outputId": "5c171d7a-c4e4-428b-a8d2-095a46ee5eb1"
   },
   "outputs": [
    {
     "name": "stdout",
     "output_type": "stream",
     "text": [
      "my_multivariate_dist shape: torch.Size([10, 2])\n",
      "my_multivariate_dist batch_shape: torch.Size([10])\n",
      "my_multivariate_dist event_shape: torch.Size([2])\n"
     ]
    }
   ],
   "source": [
    "my_multivariate_dist = my_dist.to_event(1)\n",
    "print(\"my_multivariate_dist shape:\", my_multivariate_dist.shape())\n",
    "print(\"my_multivariate_dist batch_shape:\", my_multivariate_dist.batch_shape)\n",
    "print(\"my_multivariate_dist event_shape:\", my_multivariate_dist.event_shape)"
   ]
  },
  {
   "cell_type": "markdown",
   "metadata": {
    "colab_type": "text",
    "id": "JRKCcBZLqt8U"
   },
   "source": [
    "Compare these shapes with the ones from ```my_dist``` above. Does it make sense? \n",
    "\n",
    "If we now draw a sample from ```my_multivariate_dist```, what do you expect its shape to be? What about the log probability? Let's have a look:"
   ]
  },
  {
   "cell_type": "code",
   "execution_count": 0,
   "metadata": {
    "colab": {
     "base_uri": "https://localhost:8080/",
     "height": 51
    },
    "colab_type": "code",
    "executionInfo": {
     "elapsed": 805,
     "status": "ok",
     "timestamp": 1581935016260,
     "user": {
      "displayName": "Filipe Rodrigues",
      "photoUrl": "https://lh3.googleusercontent.com/a-/AAuE7mDaWEE0j1oWjHLxVkWKYDXRh8NUBFCgGYF0XZOsvA=s64",
      "userId": "15636531912642599438"
     },
     "user_tz": -60
    },
    "id": "RTzmDli8rIJq",
    "outputId": "a030dab7-3d5d-48da-80b6-dadd1b7c9513"
   },
   "outputs": [
    {
     "name": "stdout",
     "output_type": "stream",
     "text": [
      "shape of sample x: torch.Size([10, 2])\n",
      "shape of log prob of x: torch.Size([10])\n"
     ]
    }
   ],
   "source": [
    "x = my_multivariate_dist.sample()\n",
    "print(\"shape of sample x:\", x.shape)\n",
    "print(\"shape of log prob of x:\", my_multivariate_dist.log_prob(x).shape)"
   ]
  },
  {
   "cell_type": "markdown",
   "metadata": {
    "colab_type": "text",
    "id": "7KPRcuJ6rPw2"
   },
   "source": [
    "Notice that the shape of ```x``` is still the same, but there is no assumption of conditional independence over the last dimension (of size 2). This means that ```x``` now contains a batch of 10 samples of a multivariate distribution with event size 2. Therefore, when we call ```.log_prob()```, each of the 10 samples in the batch will be scored, and the results is a vector of 10 log probabilities (one for each of the 10 events in the batch).\n",
    "\n",
    "For more details about tensor shapes in Pyro read this: https://pyro.ai/examples/tensor_shapes.html"
   ]
  },
  {
   "cell_type": "markdown",
   "metadata": {
    "colab_type": "text",
    "id": "G2hI6DWoZa0Y"
   },
   "source": [
    "### 1.3. The pyro.sample primitive"
   ]
  },
  {
   "cell_type": "markdown",
   "metadata": {
    "colab_type": "text",
    "id": "FZI2iSD3az2z"
   },
   "source": [
    "The ```pyro.distributions``` library provides a way of specifying distributions from which we can efficiently draw samples and compute log probabilities. However, the distributions and corresponding samples that we defined above are detached from any meaning that could be exploited (e.g. by an inference engine) in the context of a large probabilistic model. In order to get a more meaningful definition we will make use of the ```pyro.sample``` primitive:"
   ]
  },
  {
   "cell_type": "code",
   "execution_count": 0,
   "metadata": {
    "colab": {
     "base_uri": "https://localhost:8080/",
     "height": 34
    },
    "colab_type": "code",
    "executionInfo": {
     "elapsed": 904,
     "status": "ok",
     "timestamp": 1581936190822,
     "user": {
      "displayName": "Filipe Rodrigues",
      "photoUrl": "https://lh3.googleusercontent.com/a-/AAuE7mDaWEE0j1oWjHLxVkWKYDXRh8NUBFCgGYF0XZOsvA=s64",
      "userId": "15636531912642599438"
     },
     "user_tz": -60
    },
    "id": "mEdBCbgpXyVJ",
    "outputId": "423f8833-9944-474f-93f9-92b8461faef6"
   },
   "outputs": [
    {
     "name": "stdout",
     "output_type": "stream",
     "text": [
      "tensor(-1.4073)\n"
     ]
    }
   ],
   "source": [
    "my_dist = pyro.distributions.Normal(0., 1.)\n",
    "x = pyro.sample(\"my_sample\", my_dist)\n",
    "print(x)"
   ]
  },
  {
   "cell_type": "markdown",
   "metadata": {
    "colab_type": "text",
    "id": "QsPPyPQTcohQ"
   },
   "source": [
    "Note that, like the sample statement from earlier, the ```pyro.sample``` primitive also returns a sample from the distribution. However, crucially, this sample is **named**. Pyro’s backend uses these names to uniquely identify sample statements when they are part of a larger model, and change their behavior at runtime depending on how the enclosing model uses them. As we will see, this is how Pyro can implement the various manipulations that underlie inference algorithms."
   ]
  },
  {
   "cell_type": "markdown",
   "metadata": {
    "colab_type": "text",
    "id": "dVKKXI-2ePTe"
   },
   "source": [
    "### 1.4. Defining models: Pyro's stochastic functions"
   ]
  },
  {
   "cell_type": "markdown",
   "metadata": {
    "colab_type": "text",
    "id": "44k-m7yEeZTI"
   },
   "source": [
    "All probabilistic programs are built up by composing primitive stochastic functions and deterministic computation. Using the primitives described above, we can then start building more complex stochastic functions. In Pyro, a probabilistic model is specified as a Python function that makes use of such stochastic primitives together with deterministic computation. For example, we can define the following simple model:"
   ]
  },
  {
   "cell_type": "code",
   "execution_count": 0,
   "metadata": {
    "colab": {},
    "colab_type": "code",
    "id": "ONcE_pptfdJD"
   },
   "outputs": [],
   "source": [
    "def my_model(x):\n",
    "    beta = pyro.sample(\"beta\", pyro.distributions.Normal(0., 1.))\n",
    "    y = torch.zeros(len(x))\n",
    "    for i in pyro.plate(\"data\", len(x)):\n",
    "        y[i] = pyro.sample(\"y_%d\"%i, pyro.distributions.Normal(beta*x[i], 1.))\n",
    "    return y"
   ]
  },
  {
   "cell_type": "markdown",
   "metadata": {
    "colab_type": "text",
    "id": "LxZGV7ZYbWNF"
   },
   "source": [
    "Notice that the model function can also take external variables as input (in this case ```x```). \n",
    "\n",
    "Also, notice that we have introduced another extremely important Pyro primitive: ```pyro.plate```. This primitive serves to instruct Pyro that the observations are conditionally indepedent given the latent random variables (in this case ```beta```). We see that ```pyro.plate``` is very similar to Python's ```range()``` with one main difference: each invocation of plate requires the user to provide a unique name. The second argument is an integer just like for ```range()```. From a PGM perspective, there is an obvious connection between this plate primitive and the use of plates to denote repetition in PGMs. "
   ]
  },
  {
   "cell_type": "markdown",
   "metadata": {
    "colab_type": "text",
    "id": "fIG56_FU-xfW"
   },
   "source": [
    "There is also a vectorized version of ```pyro.plate```, which enables large speed-ups compared to the sequential version above. Here is the equivalent vectorized version of the model definition above:"
   ]
  },
  {
   "cell_type": "code",
   "execution_count": 0,
   "metadata": {
    "colab": {},
    "colab_type": "code",
    "id": "jmfEld4--x6y"
   },
   "outputs": [],
   "source": [
    "def my_model(x):\n",
    "    beta = pyro.sample(\"beta\", pyro.distributions.Normal(0., 1.))\n",
    "    with pyro.plate(\"data\", len(x)):\n",
    "        y = pyro.sample(\"y\", pyro.distributions.Normal(beta*x, 1.))\n",
    "    return y"
   ]
  },
  {
   "cell_type": "markdown",
   "metadata": {
    "colab_type": "text",
    "id": "S6xFSSLR_HmA"
   },
   "source": [
    "Note that, with the vectorized version, we can simply write ```beta*x``` rather than ```beta*x[i]```.\n",
    "\n",
    "Given a model definition as a stochastic function like the one above, we can use it to sample observations according to the model - i.e. perform *ancestral sampling*:"
   ]
  },
  {
   "cell_type": "code",
   "execution_count": 0,
   "metadata": {
    "colab": {
     "base_uri": "https://localhost:8080/",
     "height": 51
    },
    "colab_type": "code",
    "executionInfo": {
     "elapsed": 860,
     "status": "ok",
     "timestamp": 1581936196862,
     "user": {
      "displayName": "Filipe Rodrigues",
      "photoUrl": "https://lh3.googleusercontent.com/a-/AAuE7mDaWEE0j1oWjHLxVkWKYDXRh8NUBFCgGYF0XZOsvA=s64",
      "userId": "15636531912642599438"
     },
     "user_tz": -60
    },
    "id": "NrBPzxv7cRAO",
    "outputId": "0682fecb-9999-4bd6-c264-d39af23be1f7"
   },
   "outputs": [
    {
     "name": "stdout",
     "output_type": "stream",
     "text": [
      "tensor([ 0.5180, -1.4353, -2.0281, -0.2185, -2.1831, -2.9126, -4.9738, -2.4215,\n",
      "        -6.1539, -6.8810])\n"
     ]
    }
   ],
   "source": [
    "input_x = torch.tensor([0,1,2,3,4,5,6,7,8,9])\n",
    "sampled_y = my_model(input_x)\n",
    "print(sampled_y)"
   ]
  },
  {
   "cell_type": "markdown",
   "metadata": {
    "colab_type": "text",
    "id": "yPQUCBq9dGQW"
   },
   "source": [
    "Let's visualize the data that we generated:"
   ]
  },
  {
   "cell_type": "code",
   "execution_count": 0,
   "metadata": {
    "colab": {
     "base_uri": "https://localhost:8080/",
     "height": 517
    },
    "colab_type": "code",
    "executionInfo": {
     "elapsed": 893,
     "status": "ok",
     "timestamp": 1581943595342,
     "user": {
      "displayName": "Filipe Rodrigues",
      "photoUrl": "https://lh3.googleusercontent.com/a-/AAuE7mDaWEE0j1oWjHLxVkWKYDXRh8NUBFCgGYF0XZOsvA=s64",
      "userId": "15636531912642599438"
     },
     "user_tz": -60
    },
    "id": "1LPSdwGncmbR",
    "outputId": "c90c8712-9990-4805-df9f-e5be17686c92"
   },
   "outputs": [
    {
     "data": {
      "text/plain": [
       "Text(0, 0.5, 'sampled_y')"
      ]
     },
     "execution_count": 77,
     "metadata": {
      "tags": []
     },
     "output_type": "execute_result"
    },
    {
     "data": {
      "image/png": "[encoded data removed]",
      "text/plain": [
       "<Figure size 864x576 with 1 Axes>"
      ]
     },
     "metadata": {
      "tags": []
     },
     "output_type": "display_data"
    }
   ],
   "source": [
    "sns.scatterplot(input_x, sampled_y)\n",
    "plt.xlabel(\"input_x\")\n",
    "plt.ylabel(\"sampled_y\")"
   ]
  },
  {
   "cell_type": "markdown",
   "metadata": {
    "colab_type": "text",
    "id": "FCl6RPigdbXG"
   },
   "source": [
    "### 1.5. Inference in Pyro"
   ]
  },
  {
   "cell_type": "markdown",
   "metadata": {
    "colab_type": "text",
    "id": "Kog2bLORcdb1"
   },
   "source": [
    "So far, the model definition from above (```my_model```) only allows us to draw samples from the model by following its generative process. In order to do the reverse procedure, i.e. *inference*, we need to be able to condition the model according to some real observations ```y_obs```. This can be easily done by modifying the model definition in order to take ```y_obs``` as input and using it to condition the corresponding ```pyro.sample``` statement:"
   ]
  },
  {
   "cell_type": "code",
   "execution_count": 0,
   "metadata": {
    "colab": {},
    "colab_type": "code",
    "id": "6DCf1JwbhPt7"
   },
   "outputs": [],
   "source": [
    "def my_model(x, y_obs):\n",
    "    beta = pyro.sample(\"beta\", pyro.distributions.Normal(0., 1.))\n",
    "    with pyro.plate(\"data\", len(y_obs)):\n",
    "        y = pyro.sample(\"y\", pyro.distributions.Normal(beta*x, 1.), obs=y_obs)\n",
    "    return y"
   ]
  },
  {
   "cell_type": "markdown",
   "metadata": {
    "colab_type": "text",
    "id": "aa80R2RyfHM9"
   },
   "source": [
    "Given the model definition above, we can still generate samples from the model by passing ```y_obs=None``` as the argument. However, most importantly, we can now pass the model some actual observations ```y_obs``` and ask Pyro to perform Bayesian inference on the remaining random variables (in this case ```beta```). In order to do so, Pyro supports 2 main types of inference: MCMC (namely a technique called Hamiltonian Monte Carlo, or \"HMC\" for short) and Variational Inference (or \"VI\" for short). You will learn more about these later on in the course.\n",
    "\n",
    "Let's see how to use HMC (in particular something called the \"No-U-Turn Sampler\" or \"NUTS\") to perform inference on the random variable ```beta``` using Pyro:"
   ]
  },
  {
   "cell_type": "code",
   "execution_count": 0,
   "metadata": {
    "colab": {
     "base_uri": "https://localhost:8080/",
     "height": 119
    },
    "colab_type": "code",
    "executionInfo": {
     "elapsed": 9294,
     "status": "ok",
     "timestamp": 1581936308175,
     "user": {
      "displayName": "Filipe Rodrigues",
      "photoUrl": "https://lh3.googleusercontent.com/a-/AAuE7mDaWEE0j1oWjHLxVkWKYDXRh8NUBFCgGYF0XZOsvA=s64",
      "userId": "15636531912642599438"
     },
     "user_tz": -60
    },
    "id": "s3jZLKCNgmOA",
    "outputId": "f075fef8-1b74-4cab-93cd-ac336e9c69f8"
   },
   "outputs": [
    {
     "name": "stderr",
     "output_type": "stream",
     "text": [
      "Sample: 100%|██████████| 1500/1500 [00:08, 184.55it/s, step size=9.85e-01, acc. prob=0.935]\n"
     ]
    },
    {
     "name": "stdout",
     "output_type": "stream",
     "text": [
      "\n",
      "                mean       std    median      5.0%     95.0%     n_eff     r_hat\n",
      "      beta      1.17      0.06      1.18      1.09      1.27    386.97      1.00\n",
      "\n",
      "Number of divergences: 0\n"
     ]
    }
   ],
   "source": [
    "from pyro.infer import MCMC, NUTS\n",
    "\n",
    "y_obs = torch.tensor([-1, 1, 3, 4, 5, 7, 7, 8, 9, 10]) # Suppose this was the vector of observed y's\n",
    "\n",
    "# Run inference in Pyro\n",
    "nuts_kernel = NUTS(my_model)\n",
    "mcmc = MCMC(nuts_kernel, num_samples=1000, warmup_steps=500, num_chains=1)\n",
    "mcmc.run(input_x, y_obs)\n",
    "\n",
    "# Show summary of inference results\n",
    "mcmc.summary()"
   ]
  },
  {
   "cell_type": "markdown",
   "metadata": {
    "colab_type": "text",
    "id": "xIK31522iSon"
   },
   "source": [
    "Easy, right? :-)\n",
    "\n",
    "We can also directly access the samples drawn from the posterior distribution of the random variable ```beta```using:"
   ]
  },
  {
   "cell_type": "code",
   "execution_count": 0,
   "metadata": {
    "colab": {},
    "colab_type": "code",
    "id": "M8KmxuBsicJa"
   },
   "outputs": [],
   "source": [
    "posterior_samples = mcmc.get_samples()"
   ]
  },
  {
   "cell_type": "markdown",
   "metadata": {
    "colab_type": "text",
    "id": "j-Y6t91iijq5"
   },
   "source": [
    "The code above returns the samples from the posterior as a Python dictionary that uses the names of the variables that we defined in the ```pyro.sample``` statements as dictionary keys:"
   ]
  },
  {
   "cell_type": "code",
   "execution_count": 0,
   "metadata": {
    "colab": {
     "base_uri": "https://localhost:8080/",
     "height": 34
    },
    "colab_type": "code",
    "executionInfo": {
     "elapsed": 902,
     "status": "ok",
     "timestamp": 1581936341121,
     "user": {
      "displayName": "Filipe Rodrigues",
      "photoUrl": "https://lh3.googleusercontent.com/a-/AAuE7mDaWEE0j1oWjHLxVkWKYDXRh8NUBFCgGYF0XZOsvA=s64",
      "userId": "15636531912642599438"
     },
     "user_tz": -60
    },
    "id": "RsHmQi8nigWc",
    "outputId": "8401d082-11a8-4069-be6f-847676e8da22"
   },
   "outputs": [
    {
     "name": "stdout",
     "output_type": "stream",
     "text": [
      "dict_keys(['beta'])\n"
     ]
    }
   ],
   "source": [
    "print(posterior_samples.keys())"
   ]
  },
  {
   "cell_type": "markdown",
   "metadata": {
    "colab_type": "text",
    "id": "O7_M5H_0i5EP"
   },
   "source": [
    "Lastly, let's use the posterior samples that obtained in order to approximate the density function of the posterior distribution of ```beta```:"
   ]
  },
  {
   "cell_type": "code",
   "execution_count": 0,
   "metadata": {
    "colab": {
     "base_uri": "https://localhost:8080/",
     "height": 500
    },
    "colab_type": "code",
    "executionInfo": {
     "elapsed": 1008,
     "status": "ok",
     "timestamp": 1581936540568,
     "user": {
      "displayName": "Filipe Rodrigues",
      "photoUrl": "https://lh3.googleusercontent.com/a-/AAuE7mDaWEE0j1oWjHLxVkWKYDXRh8NUBFCgGYF0XZOsvA=s64",
      "userId": "15636531912642599438"
     },
     "user_tz": -60
    },
    "id": "tqn9op12jLw5",
    "outputId": "05ed2656-7047-4da6-e1b4-0a0b7c4500d8"
   },
   "outputs": [
    {
     "name": "stdout",
     "output_type": "stream",
     "text": [
      "torch.Size([1000])\n"
     ]
    },
    {
     "data": {
      "image/png": "[encoded data removed]",
      "text/plain": [
       "<Figure size 864x576 with 1 Axes>"
      ]
     },
     "metadata": {
      "tags": []
     },
     "output_type": "display_data"
    }
   ],
   "source": [
    "print(posterior_samples['beta'].shape)\n",
    "\n",
    "import seaborn as sns\n",
    "sns.distplot(posterior_samples['beta'].numpy())\n",
    "plt.show()"
   ]
  },
  {
   "cell_type": "markdown",
   "metadata": {
    "colab_type": "text",
    "id": "KT0MnzpwjlCL"
   },
   "source": [
    "Notice that we had to convert the PyTorch tensor to a Numpy array using the ```.numpy()``` method in order for this to be possible."
   ]
  },
  {
   "cell_type": "markdown",
   "metadata": {
    "colab_type": "text",
    "id": "CEsBNtTIZylZ"
   },
   "source": [
    "## 2 Your first Pyro model\n",
    "\n",
    "### 2.1 The cyclist problem\n",
    "\n",
    "Let's do the cyclist problem from the lecture slides: We have a dataset of observations (travel times of bicycle trips), and we want to estimate its distribution, assuming it follows a Gaussian curve of some form. \n",
    "\n",
    "We can code this model in Pyro as follows:"
   ]
  },
  {
   "cell_type": "code",
   "execution_count": 0,
   "metadata": {
    "colab": {},
    "colab_type": "code",
    "id": "m5eGGSLFmORb"
   },
   "outputs": [],
   "source": [
    "def cyclist_model(tt):\n",
    "    at = pyro.sample(\"at\", pyro.distributions.Normal(12, 10))\n",
    "    tu = pyro.sample(\"tu\", pyro.distributions.HalfCauchy(10))\n",
    "    with pyro.plate(\"data\", len(tt)):\n",
    "        pyro.sample(\"tt\", pyro.distributions.Normal(at, tu), obs=tt)"
   ]
  },
  {
   "cell_type": "markdown",
   "metadata": {
    "colab_type": "text",
    "id": "fk52AMqvm3um"
   },
   "source": [
    "Check that everything makes sense, and don't hesitate to ask for clarifications!\n",
    "\n",
    "As a curiosity, let's make the parallel with the corresponding STAN implementation of the equivalent model. Here is what it looks like in STAN. Try to identify the differences :-)"
   ]
  },
  {
   "cell_type": "code",
   "execution_count": 0,
   "metadata": {
    "colab": {
     "base_uri": "https://localhost:8080/",
     "height": 34
    },
    "colab_type": "code",
    "executionInfo": {
     "elapsed": 80509,
     "status": "ok",
     "timestamp": 1581798472625,
     "user": {
      "displayName": "Filipe Rodrigues",
      "photoUrl": "https://lh3.googleusercontent.com/a-/AAuE7mDaWEE0j1oWjHLxVkWKYDXRh8NUBFCgGYF0XZOsvA=s64",
      "userId": "15636531912642599438"
     },
     "user_tz": -60
    },
    "id": "oOjslkWHZyla",
    "outputId": "a821bf47-c508-4fd7-cf26-f001f92202d4"
   },
   "outputs": [
    {
     "name": "stderr",
     "output_type": "stream",
     "text": [
      "INFO:pystan:COMPILING THE C++ CODE FOR MODEL anon_model_ccb3819b279763841816de16b66e504d NOW.\n"
     ]
    }
   ],
   "source": [
    "cyclist_STAN=\"\"\"\n",
    "data {\n",
    "    int<lower=0> N; // number of samples\n",
    "    vector[N] tt;   // observed travel times\n",
    "}\n",
    "parameters {\n",
    "    real at;          // average travel time\n",
    "    real<lower=0> tu; // traffic uncertainty\n",
    "}\n",
    "model {\n",
    "    at ~ normal(12, 10);\n",
    "    tu ~ cauchy(0, 10);\n",
    "    tt ~ normal(at, tu);\n",
    "}\n",
    "\"\"\""
   ]
  },
  {
   "cell_type": "markdown",
   "metadata": {
    "colab_type": "text",
    "id": "N3NRk32JZylc"
   },
   "source": [
    "It is always good to have an intuitive notion of the prior forms (e.g. are they \"too\" informative, maybe? Or too wide?)\n",
    "\n",
    "Can you plot the priors for _at_ and _tu_?"
   ]
  },
  {
   "cell_type": "code",
   "execution_count": 0,
   "metadata": {
    "colab": {
     "base_uri": "https://localhost:8080/",
     "height": 500
    },
    "colab_type": "code",
    "executionInfo": {
     "elapsed": 1511,
     "status": "ok",
     "timestamp": 1581943545800,
     "user": {
      "displayName": "Filipe Rodrigues",
      "photoUrl": "https://lh3.googleusercontent.com/a-/AAuE7mDaWEE0j1oWjHLxVkWKYDXRh8NUBFCgGYF0XZOsvA=s64",
      "userId": "15636531912642599438"
     },
     "user_tz": -60
    },
    "id": "1kLX0ff2Zylc",
    "outputId": "a3af09c6-ed3e-4afe-8d02-ffdbae0a0710"
   },
   "outputs": [
    {
     "data": {
      "text/plain": [
       "<matplotlib.axes._subplots.AxesSubplot at 0x7f48fe5fef98>"
      ]
     },
     "execution_count": 71,
     "metadata": {
      "tags": []
     },
     "output_type": "execute_result"
    },
    {
     "data": {
      "image/png": "[encoded data removed]",
      "text/plain": [
       "<Figure size 864x576 with 1 Axes>"
      ]
     },
     "metadata": {
      "tags": []
     },
     "output_type": "display_data"
    }
   ],
   "source": [
    "from scipy.stats import cauchy, norm\n",
    "\n",
    "x1=np.arange(-50, 60, 0.1)\n",
    "x2=np.arange(0, 80, 0.1)\n",
    "\n",
    "y1=norm.pdf(x1, 12, 10)\n",
    "y2=cauchy.pdf(x2, 0, 10)\n",
    "\n",
    "sns.lineplot(x1, y1);\n",
    "sns.lineplot(x2, y2);"
   ]
  },
  {
   "cell_type": "markdown",
   "metadata": {
    "colab_type": "text",
    "id": "ZXX4u-prZylh"
   },
   "source": [
    "Given what we know of the problem, do they make sense? \n"
   ]
  },
  {
   "cell_type": "markdown",
   "metadata": {
    "colab_type": "text",
    "id": "O3FDngHsZyli"
   },
   "source": [
    "\n",
    "\n",
    "Below is the Python code that runs inference on the Pyro model ```cyclist_model``` defined above according to some observed data ```tt_obs```. "
   ]
  },
  {
   "cell_type": "code",
   "execution_count": 0,
   "metadata": {
    "colab": {
     "base_uri": "https://localhost:8080/",
     "height": 136
    },
    "colab_type": "code",
    "executionInfo": {
     "elapsed": 22039,
     "status": "ok",
     "timestamp": 1581936484665,
     "user": {
      "displayName": "Filipe Rodrigues",
      "photoUrl": "https://lh3.googleusercontent.com/a-/AAuE7mDaWEE0j1oWjHLxVkWKYDXRh8NUBFCgGYF0XZOsvA=s64",
      "userId": "15636531912642599438"
     },
     "user_tz": -60
    },
    "id": "5DSims7inugQ",
    "outputId": "57851e60-f4b3-4ce7-c53d-9cf536e27e8a"
   },
   "outputs": [
    {
     "name": "stderr",
     "output_type": "stream",
     "text": [
      "Sample: 100%|██████████| 1500/1500 [00:21, 71.35it/s, step size=8.53e-01, acc. prob=0.902]"
     ]
    },
    {
     "name": "stdout",
     "output_type": "stream",
     "text": [
      "\n",
      "                mean       std    median      5.0%     95.0%     n_eff     r_hat\n",
      "        at     19.07      2.54     19.14     14.52     22.75    346.45      1.00\n",
      "        tu      8.92      1.84      8.60      5.89     11.53    600.34      1.00\n",
      "\n",
      "Number of divergences: 0\n"
     ]
    },
    {
     "name": "stderr",
     "output_type": "stream",
     "text": [
      "\n"
     ]
    }
   ],
   "source": [
    "tt_obs = torch.tensor([13,17,16,32,12,13,28,12,14,18,36,16,16,31])\n",
    "\n",
    "# Run inference in Pyro\n",
    "nuts_kernel = NUTS(cyclist_model)\n",
    "mcmc = MCMC(nuts_kernel, num_samples=1000, warmup_steps=500, num_chains=1)\n",
    "mcmc.run(tt_obs)\n",
    "\n",
    "# Show summary of inference results\n",
    "mcmc.summary()"
   ]
  },
  {
   "cell_type": "markdown",
   "metadata": {
    "colab_type": "text",
    "id": "TYlP_eoVZyll"
   },
   "source": [
    "Try to **inspect** the samples obtained by MCMC from the posterior distribution, particularly do a histogram for the \"at\" and \"tu\" variables.\n",
    "\n",
    "Check how many samples you have, and relate the number with the statistics that Pyro provides above:\n",
    "- How many samples did it actually generate?\n",
    "- How many is it using for the final statistics?\n",
    "- How many chains is it using (and how many samples being used in the end by each chain?)\n",
    "- Plot the histogram of the samples\n",
    "\n"
   ]
  },
  {
   "cell_type": "code",
   "execution_count": 0,
   "metadata": {
    "colab": {
     "base_uri": "https://localhost:8080/",
     "height": 500
    },
    "colab_type": "code",
    "executionInfo": {
     "elapsed": 1090,
     "status": "ok",
     "timestamp": 1581936558886,
     "user": {
      "displayName": "Filipe Rodrigues",
      "photoUrl": "https://lh3.googleusercontent.com/a-/AAuE7mDaWEE0j1oWjHLxVkWKYDXRh8NUBFCgGYF0XZOsvA=s64",
      "userId": "15636531912642599438"
     },
     "user_tz": -60
    },
    "id": "jMRnXKBWZylm",
    "outputId": "20a19a52-df11-408d-8e1b-c1ec3bbb8c24"
   },
   "outputs": [
    {
     "name": "stdout",
     "output_type": "stream",
     "text": [
      "1000\n"
     ]
    },
    {
     "data": {
      "image/png": "[encoded data removed]",
      "text/plain": [
       "<Figure size 864x576 with 1 Axes>"
      ]
     },
     "metadata": {
      "tags": []
     },
     "output_type": "display_data"
    }
   ],
   "source": [
    "# Get posterior samples\n",
    "posterior_samples = mcmc.get_samples()\n",
    "\n",
    "# Visualize histogram of samples\n",
    "print(len(posterior_samples['at']))\n",
    "sns.distplot(posterior_samples['at'])"
   ]
  },
  {
   "cell_type": "code",
   "execution_count": 0,
   "metadata": {
    "colab": {
     "base_uri": "https://localhost:8080/",
     "height": 483
    },
    "colab_type": "code",
    "executionInfo": {
     "elapsed": 1389,
     "status": "ok",
     "timestamp": 1581936568273,
     "user": {
      "displayName": "Filipe Rodrigues",
      "photoUrl": "https://lh3.googleusercontent.com/a-/AAuE7mDaWEE0j1oWjHLxVkWKYDXRh8NUBFCgGYF0XZOsvA=s64",
      "userId": "15636531912642599438"
     },
     "user_tz": -60
    },
    "id": "BGW2YfyVZylo",
    "outputId": "4afbc877-6a58-4c23-b93d-6f157fc01d9c"
   },
   "outputs": [
    {
     "data": {
      "image/png": "[encoded data removed]",
      "text/plain": [
       "<Figure size 864x576 with 1 Axes>"
      ]
     },
     "metadata": {
      "tags": []
     },
     "output_type": "display_data"
    }
   ],
   "source": [
    "sns.distplot(posterior_samples['tu'])"
   ]
  },
  {
   "cell_type": "markdown",
   "metadata": {
    "colab_type": "text",
    "id": "AYEryPFQZyls"
   },
   "source": [
    "To add to Pyro's summary output, we can also try to compute the mode of the posterior distribution using for example:"
   ]
  },
  {
   "cell_type": "code",
   "execution_count": 0,
   "metadata": {
    "colab": {
     "base_uri": "https://localhost:8080/",
     "height": 119
    },
    "colab_type": "code",
    "executionInfo": {
     "elapsed": 862,
     "status": "ok",
     "timestamp": 1581936696413,
     "user": {
      "displayName": "Filipe Rodrigues",
      "photoUrl": "https://lh3.googleusercontent.com/a-/AAuE7mDaWEE0j1oWjHLxVkWKYDXRh8NUBFCgGYF0XZOsvA=s64",
      "userId": "15636531912642599438"
     },
     "user_tz": -60
    },
    "id": "dA1GpGjnZylt",
    "outputId": "156dd401-6214-4a20-82e3-7457786cef8a"
   },
   "outputs": [
    {
     "name": "stdout",
     "output_type": "stream",
     "text": [
      "\n",
      "Average travel time:\n",
      "posterior mode=20.00 mean=19.07 std=2.54\n",
      "\n",
      "Traffic uncertainty:\n",
      "posterior mode=7.90 mean=8.92 std=1.84\n"
     ]
    }
   ],
   "source": [
    "from scipy import stats\n",
    "\n",
    "print(\"\\nAverage travel time:\")\n",
    "print(\"posterior mode=%.2f mean=%.2f std=%.2f\" % (stats.mode(posterior_samples[\"at\"].numpy().round(0))[0][0], \n",
    "                                                  posterior_samples['at'].mean(), posterior_samples['at'].std()))\n",
    "\n",
    "print(\"\\nTraffic uncertainty:\")\n",
    "print(\"posterior mode=%.2f mean=%.2f std=%.2f\" % (stats.mode(posterior_samples[\"tu\"].numpy().round(1))[0][0], \n",
    "                                                  posterior_samples['tu'].mean(), posterior_samples['tu'].std()))"
   ]
  },
  {
   "cell_type": "markdown",
   "metadata": {
    "colab_type": "text",
    "id": "uMlJZo8sZyly"
   },
   "source": [
    "\n",
    "\n",
    "Redefine the priors above and re-estimate the model (try only a couple of extreme values, just to see the effect)"
   ]
  },
  {
   "cell_type": "markdown",
   "metadata": {
    "colab_type": "text",
    "id": "gAoGNDSiZyly"
   },
   "source": [
    "### 2.2 Obtaining useful results from your model"
   ]
  },
  {
   "cell_type": "markdown",
   "metadata": {
    "colab_type": "text",
    "id": "PHfoeWurZyl1"
   },
   "source": [
    "Using the generated MCMC samples, you can find \"cheap\" answers to some interesting questions. For example, can you use the posterior samples to approximate the probability that the next trip takes less than 18 minutes?"
   ]
  },
  {
   "cell_type": "code",
   "execution_count": 0,
   "metadata": {
    "colab": {
     "base_uri": "https://localhost:8080/",
     "height": 34
    },
    "colab_type": "code",
    "executionInfo": {
     "elapsed": 866,
     "status": "ok",
     "timestamp": 1581936707638,
     "user": {
      "displayName": "Filipe Rodrigues",
      "photoUrl": "https://lh3.googleusercontent.com/a-/AAuE7mDaWEE0j1oWjHLxVkWKYDXRh8NUBFCgGYF0XZOsvA=s64",
      "userId": "15636531912642599438"
     },
     "user_tz": -60
    },
    "id": "IZMsjj34qNrt",
    "outputId": "f753a4c5-1710-415a-c70d-ac1cbd270751"
   },
   "outputs": [
    {
     "name": "stdout",
     "output_type": "stream",
     "text": [
      "0.444\n"
     ]
    }
   ],
   "source": [
    "n_samples = len(posterior_samples['at'])\n",
    "count = 0\n",
    "for i in range(n_samples):\n",
    "    tt_sample = np.random.normal(posterior_samples['at'][i], posterior_samples['tu'][i])\n",
    "    if tt_sample < 18:\n",
    "        count += 1\n",
    "\n",
    "print(count / n_samples)"
   ]
  },
  {
   "cell_type": "markdown",
   "metadata": {
    "colab_type": "text",
    "id": "od8zbPZVZymE"
   },
   "source": [
    "Notice that the certainty of your answer depends on the number of samples that we have at our disposal...\n",
    "\n",
    "Alternatively, a more formal and robust way of estimate the probability that the next trip takes less than 18 minutes is to extend the ```cyclist_model``` from before, in order to also include predictions for unobserved travel times ``tt_pred``. Analyze the code below:"
   ]
  },
  {
   "cell_type": "code",
   "execution_count": 0,
   "metadata": {
    "colab": {},
    "colab_type": "code",
    "id": "YDs087eKsSZO"
   },
   "outputs": [],
   "source": [
    "def cyclist_model_pred(tt):\n",
    "    at = pyro.sample(\"at\", pyro.distributions.Normal(12, 10))\n",
    "    tu = pyro.sample(\"tu\", pyro.distributions.HalfCauchy(10))\n",
    "    with pyro.plate(\"data\", len(tt)):\n",
    "        pyro.sample(\"tt\", pyro.distributions.Normal(at, tu), obs=tt)\n",
    "        \n",
    "    tt_pred = pyro.sample(\"tt_pred\", pyro.distributions.Normal(at, tu))\n",
    "    return tt_pred < 18"
   ]
  },
  {
   "cell_type": "markdown",
   "metadata": {
    "colab_type": "text",
    "id": "w8gZDw08uNPz"
   },
   "source": [
    "We have extended the model to also sample prediction ```tt_pred```. The ```pyro.sample(\"tt_pred\", ...)``` samples new observations for the travel time according to ```at``` and ```tu```. However, the values of the two latter random variables are also constrained by the actual observed data ```obs_tt``` through conditioning in the statement ```pyro.sample(\"tt\", ..., obs=tt)```. From a graphical models perspective, while both ```tt``` and ```tt_pred``` nodes depend on ```at``` and ```tu```, ```tt``` is an observed node (shaded) and ```tt_pred``` is an unobserved/latent node (unshaded). Does that make sense? If not, do not hesitate to ask for a clarification! :-)"
   ]
  },
  {
   "cell_type": "markdown",
   "metadata": {
    "colab_type": "text",
    "id": "U3nJl79ZvyXa"
   },
   "source": [
    "Using the revised model definition (```cyclist_model_pred```), we can run Bayesian inference in order to answer the question of \"what is the probability that the next trip takes less than 18 minutes?\":"
   ]
  },
  {
   "cell_type": "code",
   "execution_count": 0,
   "metadata": {
    "colab": {
     "base_uri": "https://localhost:8080/",
     "height": 153
    },
    "colab_type": "code",
    "executionInfo": {
     "elapsed": 43969,
     "status": "ok",
     "timestamp": 1581936758042,
     "user": {
      "displayName": "Filipe Rodrigues",
      "photoUrl": "https://lh3.googleusercontent.com/a-/AAuE7mDaWEE0j1oWjHLxVkWKYDXRh8NUBFCgGYF0XZOsvA=s64",
      "userId": "15636531912642599438"
     },
     "user_tz": -60
    },
    "id": "N9IewCATsk84",
    "outputId": "b0947372-d6f0-4104-8440-c2bc02ef994d"
   },
   "outputs": [
    {
     "name": "stderr",
     "output_type": "stream",
     "text": [
      "Sample: 100%|██████████| 1500/1500 [00:43, 34.54it/s, step size=4.88e-01, acc. prob=0.956]"
     ]
    },
    {
     "name": "stdout",
     "output_type": "stream",
     "text": [
      "\n",
      "                mean       std    median      5.0%     95.0%     n_eff     r_hat\n",
      "        at     19.13      2.32     19.23     15.15     22.69    768.76      1.00\n",
      "        tu      8.98      1.91      8.66      6.00     11.62    657.47      1.00\n",
      "   tt_pred     18.72      9.45     18.52      5.08     34.56    713.49      1.00\n",
      "\n",
      "Number of divergences: 0\n"
     ]
    },
    {
     "name": "stderr",
     "output_type": "stream",
     "text": [
      "\n"
     ]
    }
   ],
   "source": [
    "# Run inference in Pyro\n",
    "nuts_kernel = NUTS(cyclist_model_pred)\n",
    "mcmc = MCMC(nuts_kernel, num_samples=1000, warmup_steps=500, num_chains=1)\n",
    "mcmc.run(tt_obs)\n",
    "\n",
    "# Show summary of inference results\n",
    "mcmc.summary()"
   ]
  },
  {
   "cell_type": "markdown",
   "metadata": {
    "colab_type": "text",
    "id": "-IGIVVUcwNHi"
   },
   "source": [
    "To get an answer, we just need to count the fraction of the samples of ```tt_pred``` that have a value lower than 18:"
   ]
  },
  {
   "cell_type": "code",
   "execution_count": 0,
   "metadata": {
    "colab": {
     "base_uri": "https://localhost:8080/",
     "height": 34
    },
    "colab_type": "code",
    "executionInfo": {
     "elapsed": 2181,
     "status": "ok",
     "timestamp": 1581936763116,
     "user": {
      "displayName": "Filipe Rodrigues",
      "photoUrl": "https://lh3.googleusercontent.com/a-/AAuE7mDaWEE0j1oWjHLxVkWKYDXRh8NUBFCgGYF0XZOsvA=s64",
      "userId": "15636531912642599438"
     },
     "user_tz": -60
    },
    "id": "5gYtDBtRwa9z",
    "outputId": "c0e5cecc-056e-4934-8a79-5086ff73f575"
   },
   "outputs": [
    {
     "data": {
      "text/plain": [
       "tensor(0.4760)"
      ]
     },
     "execution_count": 39,
     "metadata": {
      "tags": []
     },
     "output_type": "execute_result"
    }
   ],
   "source": [
    "posterior_samples = mcmc.get_samples()\n",
    "torch.sum(posterior_samples[\"tt_pred\"] < 18).float() / len(posterior_samples[\"tt_pred\"])"
   ]
  },
  {
   "cell_type": "markdown",
   "metadata": {
    "colab_type": "text",
    "id": "xZ3msUm7ZymK"
   },
   "source": [
    "Did you get a similar result to one from before?"
   ]
  },
  {
   "cell_type": "markdown",
   "metadata": {
    "colab_type": "text",
    "id": "yyp4GP2VwpRm"
   },
   "source": [
    "Alternatively, we can use Pyro's ```Predictive``` class, which is supposed to help with prediction tasks like this. Since the ```cyclist_model_pred``` definition from above already outputs whether ```tt_pred``` is smaller than 18 or not, we can just use the ```Predictive``` class to analyse the return statement:"
   ]
  },
  {
   "cell_type": "code",
   "execution_count": 0,
   "metadata": {
    "colab": {
     "base_uri": "https://localhost:8080/",
     "height": 34
    },
    "colab_type": "code",
    "executionInfo": {
     "elapsed": 2331,
     "status": "ok",
     "timestamp": 1581936768032,
     "user": {
      "displayName": "Filipe Rodrigues",
      "photoUrl": "https://lh3.googleusercontent.com/a-/AAuE7mDaWEE0j1oWjHLxVkWKYDXRh8NUBFCgGYF0XZOsvA=s64",
      "userId": "15636531912642599438"
     },
     "user_tz": -60
    },
    "id": "yE12ZeGYrZVZ",
    "outputId": "86ace37d-c9b3-4c27-ce57-a4766fbfcdad"
   },
   "outputs": [
    {
     "data": {
      "text/plain": [
       "tensor(0.4760)"
      ]
     },
     "execution_count": 40,
     "metadata": {
      "tags": []
     },
     "output_type": "execute_result"
    }
   ],
   "source": [
    "from pyro.infer import Predictive\n",
    "\n",
    "predictive = Predictive(cyclist_model_pred, posterior_samples=mcmc.get_samples(), num_samples=1000,\n",
    "                        return_sites=(\"tt_pred\", \"_RETURN\"))\n",
    "predictive_samples = predictive(tt_obs)\n",
    "predictive_samples[\"_RETURN\"].sum().float()  / len(predictive_samples[\"_RETURN\"])"
   ]
  },
  {
   "cell_type": "markdown",
   "metadata": {
    "colab_type": "text",
    "id": "vKTsBzGWxQkD"
   },
   "source": [
    "Although this may not be the most obvious case for making use of the ```Predictive``` class, it is a good idea to get familiar with it because, as you will see, it can be extremely useful in other contexts to make predictions in more complex models."
   ]
  },
  {
   "cell_type": "markdown",
   "metadata": {
    "colab_type": "text",
    "id": "FZCgs0oLZymL"
   },
   "source": [
    "### 2.3 Revised cyclist model: mixture model\n",
    "\n",
    "We will now consider a more realistic model. Since sometimes cyclists are prone to extraordinary circumstances (e.g. flat tire, forgot something at home, ran into a friend and started chatting, etc.), the distribution of travel times can be bimodal, such that on certain days (\"abnormal\" days) the distribution of travel times is radically different the distribution of \"normal\" days. \n",
    "\n",
    "We will formulate this assumption as mixture of two Gaussians. \n",
    "\n",
    "Can you write the new (revised) model in Pyro?\n",
    "\n",
    "Hints:\n",
    "- You will now have two possible Gaussians for ```tt``` instead of one; That implies that you also need a latent binary variable that \"selects\" one of the two Gaussians; Use indexing to select!\n",
    "- Create PyTorch tensors with the prior means and variances for ```at```, and similarly for the scale parameter of ```tu```;\n",
    "- Use a ```pyro.plate``` of length 2 in order to sample the priors of the two components; \n",
    "- You need a mixture parameter $\\pi$ (real parameter between 0 and 1) that controls the mixing proportions of the two Gaussians (see lecture slides);\n",
    "- For inferring the value of $\\pi$, you also need to assign it an appropriate prior. As you may recall, the conjugate prior for the Bernoulli is the Beta distribution. Try, for example, $\\pi \\sim \\mbox{Beta}(2,2)$;\n",
    "- Like in STAN, whenever you have discrete latent variables, you need to treat them specially by marginalizing over them explicitly. In Pyro, this is done through enumeration, and all you need to do is pass the following keyword argument ```infer={\"enumerate\": \"parallel\"}``` to the corresponding ```pyro.sample``` statement of the discrete latent variable."
   ]
  },
  {
   "cell_type": "code",
   "execution_count": 0,
   "metadata": {
    "colab": {},
    "colab_type": "code",
    "id": "olFagNvCIFrY"
   },
   "outputs": [],
   "source": [
    "def cyclist_mixture(tt):\n",
    "    # Prior for the mixing proportions\n",
    "    pi = pyro.sample(\"pi\", pyro.distributions.Beta(2., 2.))\n",
    "    \n",
    "    # Priors for the components\n",
    "    at_loc = torch.tensor([10., 20.])\n",
    "    at_scale = torch.tensor([10., 10.])\n",
    "    tu_scale = torch.tensor([10., 10.])\n",
    "    with pyro.plate('components', 2):\n",
    "        at = pyro.sample('at', pyro.distributions.Normal(at_loc, at_scale))\n",
    "        tu = pyro.sample('tu', pyro.distributions.HalfCauchy(tu_scale))\n",
    "    \n",
    "    with pyro.plate('data', len(tt)):\n",
    "        assignment = pyro.sample('assignment', pyro.distributions.Bernoulli(pi), infer={\"enumerate\": \"parallel\"}).long()\n",
    "        tt = pyro.sample('tt', pyro.distributions.Normal(at[assignment], tu[assignment]), obs=tt)\n",
    "    \n",
    "    return tt"
   ]
  },
  {
   "cell_type": "markdown",
   "metadata": {
    "colab_type": "text",
    "id": "RwBEVFsqZymO"
   },
   "source": [
    "Lets run inference on the revised model using the same cyclist data from before:"
   ]
  },
  {
   "cell_type": "code",
   "execution_count": 0,
   "metadata": {
    "colab": {
     "base_uri": "https://localhost:8080/",
     "height": 187
    },
    "colab_type": "code",
    "executionInfo": {
     "elapsed": 103135,
     "status": "ok",
     "timestamp": 1581937125209,
     "user": {
      "displayName": "Filipe Rodrigues",
      "photoUrl": "https://lh3.googleusercontent.com/a-/AAuE7mDaWEE0j1oWjHLxVkWKYDXRh8NUBFCgGYF0XZOsvA=s64",
      "userId": "15636531912642599438"
     },
     "user_tz": -60
    },
    "id": "CPrf21uciZXt",
    "outputId": "8e39cf8f-363f-4b7a-f4c6-2998465f0026"
   },
   "outputs": [
    {
     "name": "stderr",
     "output_type": "stream",
     "text": [
      "Sample: 100%|██████████| 1500/1500 [01:42, 14.63it/s, step size=4.07e-01, acc. prob=0.885]"
     ]
    },
    {
     "name": "stdout",
     "output_type": "stream",
     "text": [
      "\n",
      "                mean       std    median      5.0%     95.0%     n_eff     r_hat\n",
      "        pi      0.37      0.13      0.36      0.16      0.58    609.81      1.00\n",
      "     at[0]     14.61      0.80     14.60     13.23     15.81    604.70      1.00\n",
      "     at[1]     29.21      4.44     30.04     21.42     35.40    414.64      1.00\n",
      "     tu[0]      2.47      0.73      2.33      1.41      3.52    526.66      1.00\n",
      "     tu[1]      7.03      4.58      5.93      1.83     12.59    401.99      1.00\n",
      "\n",
      "Number of divergences: 0\n"
     ]
    },
    {
     "name": "stderr",
     "output_type": "stream",
     "text": [
      "\n"
     ]
    }
   ],
   "source": [
    "# Run inference in Pyro\n",
    "nuts_kernel = NUTS(cyclist_mixture)\n",
    "mcmc = MCMC(nuts_kernel, num_samples=1000, warmup_steps=500, num_chains=1)\n",
    "mcmc.run(tt_obs)\n",
    "\n",
    "# Show summary of inference results\n",
    "mcmc.summary()"
   ]
  },
  {
   "cell_type": "markdown",
   "metadata": {
    "colab_type": "text",
    "id": "XqQtdQVuZymU"
   },
   "source": [
    "Look at the results. What can you tell?"
   ]
  },
  {
   "cell_type": "markdown",
   "metadata": {
    "colab_type": "text",
    "id": "E2IGd3g-ZymU"
   },
   "source": [
    "### 2.4 Obtaining useful results from your revised model"
   ]
  },
  {
   "cell_type": "markdown",
   "metadata": {
    "colab_type": "text",
    "id": "ecNn50FuZymY"
   },
   "source": [
    "As you did for the previous model with a single Gaussian, can you compute the probability that the next trip takes less than 18 minutes (given the new and more realistic model)?"
   ]
  },
  {
   "cell_type": "code",
   "execution_count": 0,
   "metadata": {
    "colab": {
     "base_uri": "https://localhost:8080/",
     "height": 34
    },
    "colab_type": "code",
    "executionInfo": {
     "elapsed": 802,
     "status": "ok",
     "timestamp": 1581937258750,
     "user": {
      "displayName": "Filipe Rodrigues",
      "photoUrl": "https://lh3.googleusercontent.com/a-/AAuE7mDaWEE0j1oWjHLxVkWKYDXRh8NUBFCgGYF0XZOsvA=s64",
      "userId": "15636531912642599438"
     },
     "user_tz": -60
    },
    "id": "i95naq99OqOD",
    "outputId": "a9b135d4-a480-4287-d85c-da76182e218e"
   },
   "outputs": [
    {
     "name": "stdout",
     "output_type": "stream",
     "text": [
      "0.619\n"
     ]
    }
   ],
   "source": [
    "posterior_samples = mcmc.get_samples()\n",
    "\n",
    "n_samples = len(posterior_samples['at'])\n",
    "count = 0\n",
    "for i in range(n_samples):\n",
    "    assignment = np.random.binomial(1, posterior_samples['pi'][i])\n",
    "    tt_sample = np.random.normal(posterior_samples['at'][i,assignment], posterior_samples['tu'][i,assignment])\n",
    "    if tt_sample < 18:\n",
    "        count += 1\n",
    "\n",
    "print(count / n_samples)"
   ]
  },
  {
   "cell_type": "markdown",
   "metadata": {
    "colab_type": "text",
    "id": "aP56xIbdZymv"
   },
   "source": [
    "Did you notice how different the answer when compared to previous model (single Gaussian)? Which one makes more sense to you? "
   ]
  },
  {
   "cell_type": "markdown",
   "metadata": {
    "colab_type": "text",
    "id": "-NYT1z_nZymw"
   },
   "source": [
    "## Part 2 -  Mixture model"
   ]
  },
  {
   "cell_type": "markdown",
   "metadata": {
    "colab_type": "text",
    "id": "C4gwicftZymx"
   },
   "source": [
    "We know that by know you think you've had enough about Mixture Models... but in fact, there's (even) much more to it! :-)\n",
    "\n",
    "For example, your well-known K-Means clustering algorithm is in fact a special case of a mixture model. \n",
    "\n",
    "Let's create a dataset with 200 samples that are distributed around 2 centers with 0.6 standard deviation. We will use the function [`make_blobs` ](http://scikit-learn.org/stable/modules/generated/sklearn.datasets.make_blobs.html)that generates isotropic Gaussian blobs for clustering."
   ]
  },
  {
   "cell_type": "code",
   "execution_count": 0,
   "metadata": {
    "colab": {
     "base_uri": "https://localhost:8080/",
     "height": 71
    },
    "colab_type": "code",
    "executionInfo": {
     "elapsed": 1223,
     "status": "ok",
     "timestamp": 1581939913571,
     "user": {
      "displayName": "Filipe Rodrigues",
      "photoUrl": "https://lh3.googleusercontent.com/a-/AAuE7mDaWEE0j1oWjHLxVkWKYDXRh8NUBFCgGYF0XZOsvA=s64",
      "userId": "15636531912642599438"
     },
     "user_tz": -60
    },
    "id": "NH9LjxkhZymz",
    "outputId": "5884063a-8299-4c9c-a91e-e264950af40c"
   },
   "outputs": [
    {
     "name": "stderr",
     "output_type": "stream",
     "text": [
      "/usr/local/lib/python3.6/dist-packages/sklearn/utils/deprecation.py:144: FutureWarning: The sklearn.datasets.samples_generator module is  deprecated in version 0.22 and will be removed in version 0.24. The corresponding classes / functions should instead be imported from sklearn.datasets. Anything that cannot be imported from sklearn.datasets is now part of the private API.\n",
      "  warnings.warn(message, FutureWarning)\n"
     ]
    }
   ],
   "source": [
    "# Generate some data\n",
    "from sklearn.datasets.samples_generator import make_blobs\n",
    "X, y_true = make_blobs(n_samples=100, centers=2, cluster_std=0.60, random_state=0)\n",
    "X = X[:, ::-1] # flip axes for better plotting"
   ]
  },
  {
   "cell_type": "code",
   "execution_count": 0,
   "metadata": {
    "colab": {
     "base_uri": "https://localhost:8080/",
     "height": 500
    },
    "colab_type": "code",
    "executionInfo": {
     "elapsed": 1351,
     "status": "ok",
     "timestamp": 1581943514046,
     "user": {
      "displayName": "Filipe Rodrigues",
      "photoUrl": "https://lh3.googleusercontent.com/a-/AAuE7mDaWEE0j1oWjHLxVkWKYDXRh8NUBFCgGYF0XZOsvA=s64",
      "userId": "15636531912642599438"
     },
     "user_tz": -60
    },
    "id": "kK-C6irDZym2",
    "outputId": "1a7bbbd3-4093-41a9-e304-33312b322f8e"
   },
   "outputs": [
    {
     "data": {
      "image/png": "[encoded data removed]",
      "text/plain": [
       "<Figure size 864x576 with 1 Axes>"
      ]
     },
     "metadata": {
      "tags": []
     },
     "output_type": "display_data"
    }
   ],
   "source": [
    "# Plot the data with K Means Labels\n",
    "from sklearn.cluster import KMeans\n",
    "kmeans = KMeans(2, random_state=0)\n",
    "labels = kmeans.fit(X).predict(X)\n",
    "sns.scatterplot(X[:, 0], X[:, 1], hue=labels)\n",
    "plt.title('Dataset with k-means labels');"
   ]
  },
  {
   "cell_type": "markdown",
   "metadata": {
    "colab_type": "text",
    "id": "rj4IkkGsZym3"
   },
   "source": [
    "Let's look at their centers"
   ]
  },
  {
   "cell_type": "code",
   "execution_count": 0,
   "metadata": {
    "colab": {
     "base_uri": "https://localhost:8080/",
     "height": 51
    },
    "colab_type": "code",
    "executionInfo": {
     "elapsed": 675,
     "status": "ok",
     "timestamp": 1581939920144,
     "user": {
      "displayName": "Filipe Rodrigues",
      "photoUrl": "https://lh3.googleusercontent.com/a-/AAuE7mDaWEE0j1oWjHLxVkWKYDXRh8NUBFCgGYF0XZOsvA=s64",
      "userId": "15636531912642599438"
     },
     "user_tz": -60
    },
    "id": "wpBYzgtTZym4",
    "outputId": "900cb309-8bdc-44b8-db4f-5ccd84137f3c"
   },
   "outputs": [
    {
     "data": {
      "text/plain": [
       "array([[1.0168431 , 2.04544835],\n",
       "       [4.32924029, 0.96079228]])"
      ]
     },
     "execution_count": 48,
     "metadata": {
      "tags": []
     },
     "output_type": "execute_result"
    }
   ],
   "source": [
    "kmeans.cluster_centers_"
   ]
  },
  {
   "cell_type": "markdown",
   "metadata": {
    "colab_type": "text",
    "id": "-A7NHFszZym5"
   },
   "source": [
    "It's time for our Pyro GMM model. Get ready..."
   ]
  },
  {
   "cell_type": "markdown",
   "metadata": {
    "colab_type": "text",
    "collapsed": true,
    "id": "Ue_Py4GWZym6"
   },
   "source": [
    "Study the code below carefully:"
   ]
  },
  {
   "cell_type": "code",
   "execution_count": 0,
   "metadata": {
    "colab": {},
    "colab_type": "code",
    "id": "PCpux-RATCJu"
   },
   "outputs": [],
   "source": [
    "def gmm(data=None, K=2):\n",
    "    # Prior for the mixing proportions\n",
    "    weights = pyro.sample(\"weights\", pyro.distributions.Dirichlet(torch.ones(K)))\n",
    "    \n",
    "    # Priors for the mixture components\n",
    "    with pyro.plate('components', K):\n",
    "        mu = pyro.sample('mu', pyro.distributions.Normal(torch.zeros(2), 5.*torch.ones(2)).to_event(1))\n",
    "        sigma = pyro.sample('sigma', pyro.distributions.HalfCauchy(5.*torch.ones(2)).to_event(1))\n",
    "\n",
    "    with pyro.plate('data', len(data)):\n",
    "        assignment = pyro.sample('assignment', pyro.distributions.Categorical(weights), infer={\"enumerate\": \"parallel\"})\n",
    "        points = pyro.sample('obs', pyro.distributions.Normal(mu[assignment], sigma[assignment]).to_event(1), obs=data)\n",
    "\n",
    "    return points"
   ]
  },
  {
   "cell_type": "markdown",
   "metadata": {
    "colab_type": "text",
    "id": "QaJ8jJtk_p-r"
   },
   "source": [
    "Notice that since our data points are 2-dimensional, the mean ```mu``` and scale ```sigma``` of each cluster ```k``` must also be 2-dimensional. Therefore, we made use of the ```.to_event(1)``` to make ```mu``` and ```sigma``` be treated by Pyro as multivariate distributions. When in doubt, have a look at the ```batch_shape``` and ```event_shape```:"
   ]
  },
  {
   "cell_type": "code",
   "execution_count": 0,
   "metadata": {
    "colab": {
     "base_uri": "https://localhost:8080/",
     "height": 68
    },
    "colab_type": "code",
    "executionInfo": {
     "elapsed": 1434,
     "status": "ok",
     "timestamp": 1581940462204,
     "user": {
      "displayName": "Filipe Rodrigues",
      "photoUrl": "https://lh3.googleusercontent.com/a-/AAuE7mDaWEE0j1oWjHLxVkWKYDXRh8NUBFCgGYF0XZOsvA=s64",
      "userId": "15636531912642599438"
     },
     "user_tz": -60
    },
    "id": "qSyZGzdm_rDd",
    "outputId": "0e0c95a0-f3e9-4dd7-9ce9-ce6b81983a20"
   },
   "outputs": [
    {
     "name": "stdout",
     "output_type": "stream",
     "text": [
      "shape: torch.Size([2])\n",
      "batch_shape: torch.Size([])\n",
      "event_shape: torch.Size([2])\n"
     ]
    }
   ],
   "source": [
    "d = pyro.distributions.Normal(torch.zeros(2), 5.*torch.ones(2)).to_event(1)\n",
    "print(\"shape:\", d.shape())\n",
    "print(\"batch_shape:\", d.batch_shape)\n",
    "print(\"event_shape:\", d.event_shape)"
   ]
  },
  {
   "cell_type": "markdown",
   "metadata": {
    "colab_type": "text",
    "id": "Mw5WCR7hZym8"
   },
   "source": [
    "\n",
    "\n",
    "Inspect carefully the following code too. Particularly, notice that we're running with a single chain, instead of the default (chains=4, iterations=1000). Why would that be? \n",
    "\n",
    "To answer this question, run this code and check the results (compare with the centers above)."
   ]
  },
  {
   "cell_type": "code",
   "execution_count": 0,
   "metadata": {
    "colab": {
     "base_uri": "https://localhost:8080/",
     "height": 272
    },
    "colab_type": "code",
    "executionInfo": {
     "elapsed": 283221,
     "status": "ok",
     "timestamp": 1581940793295,
     "user": {
      "displayName": "Filipe Rodrigues",
      "photoUrl": "https://lh3.googleusercontent.com/a-/AAuE7mDaWEE0j1oWjHLxVkWKYDXRh8NUBFCgGYF0XZOsvA=s64",
      "userId": "15636531912642599438"
     },
     "user_tz": -60
    },
    "id": "PIv8T7fqhvMs",
    "outputId": "96a7deb4-c588-4582-f4bb-d17de6f52e1b"
   },
   "outputs": [
    {
     "name": "stderr",
     "output_type": "stream",
     "text": [
      "Sample: 100%|██████████| 1500/1500 [04:41,  5.33it/s, step size=7.02e-01, acc. prob=0.868]"
     ]
    },
    {
     "name": "stdout",
     "output_type": "stream",
     "text": [
      "\n",
      "                mean       std    median      5.0%     95.0%     n_eff     r_hat\n",
      "weights[0]      0.50      0.05      0.50      0.42      0.58   2837.95      1.00\n",
      "weights[1]      0.50      0.05      0.50      0.42      0.58   2837.95      1.00\n",
      "   mu[0,0]      4.33      0.08      4.33      4.19      4.47   1585.57      1.00\n",
      "   mu[0,1]      0.96      0.09      0.96      0.82      1.11   1499.38      1.00\n",
      "   mu[1,0]      1.02      0.10      1.02      0.86      1.17   1196.84      1.00\n",
      "   mu[1,1]      2.04      0.09      2.04      1.90      2.17   1383.86      1.00\n",
      "sigma[0,0]      0.60      0.06      0.59      0.50      0.70   1444.14      1.00\n",
      "sigma[0,1]      0.64      0.07      0.64      0.52      0.74   1656.09      1.00\n",
      "sigma[1,0]      0.64      0.07      0.63      0.53      0.75    992.98      1.00\n",
      "sigma[1,1]      0.61      0.07      0.60      0.50      0.71   1369.86      1.00\n",
      "\n",
      "Number of divergences: 0\n"
     ]
    },
    {
     "name": "stderr",
     "output_type": "stream",
     "text": [
      "\n"
     ]
    }
   ],
   "source": [
    "X_torch = torch.from_numpy(X.copy()).float()\n",
    "\n",
    "# Run inference in Pyro\n",
    "nuts_kernel = NUTS(gmm)\n",
    "mcmc = MCMC(nuts_kernel, num_samples=1000, warmup_steps=500, num_chains=1)\n",
    "mcmc.run(X_torch)\n",
    "\n",
    "# Show summary of inference results\n",
    "mcmc.summary()"
   ]
  },
  {
   "cell_type": "markdown",
   "metadata": {
    "colab_type": "text",
    "id": "Fro8DCkmZym_"
   },
   "source": [
    "Now, try to put the default values (chains=4, iterations=1000). What's the problem? \n"
   ]
  },
  {
   "cell_type": "code",
   "execution_count": 0,
   "metadata": {
    "colab": {},
    "colab_type": "code",
    "id": "5y28tvOuZynA"
   },
   "outputs": [],
   "source": []
  },
  {
   "cell_type": "markdown",
   "metadata": {
    "colab_type": "text",
    "id": "NyV1moE7ZynC"
   },
   "source": [
    "Create and test a new version of the code above with higher K (e.g. K=3). "
   ]
  },
  {
   "cell_type": "code",
   "execution_count": 0,
   "metadata": {
    "colab": {},
    "colab_type": "code",
    "id": "_0NqH9rYZynC"
   },
   "outputs": [],
   "source": []
  },
  {
   "cell_type": "markdown",
   "metadata": {
    "colab_type": "text",
    "id": "yNDVsHgnZynG"
   },
   "source": [
    "### Bonus: Alternative way of doing inference using Stochastic Variational Inference (optional)"
   ]
  },
  {
   "cell_type": "markdown",
   "metadata": {
    "colab_type": "text",
    "id": "1aYAZeGGAU1m"
   },
   "source": [
    "**Important:** The following code is rather advanced and is really meant to be a bonus. It shows how to perform another type of approximate Bayesian inference in the ```gmm``` model, namely variational inference (VI). In this particular case, running VI can be a bit tricky and requires the introduction of a new Pyro primitive ```pyro.param```. If this section confuses you, please ignore it entirely. You will learn about VI later in the course, and you will also learn how to run VI in Pyro starting with much simpler examples. We decided to keep this code here for the sake of completeness. Later on you may return to it and get useful insights. \n",
    "\n",
    "Briefly, in VI we specify a parametric distribution $q(\\textbf{z}|\\boldsymbol\\phi)$ (called the *variational distribution*) with parameters $\\boldsymbol\\phi$. The goal is the to find the values of the parameters $\\boldsymbol\\phi$ that make $q(\\textbf{z}|\\boldsymbol\\phi)$ and close as possible to the true posterior distribution $p(\\textbf{z}|\\textbf{x})$, thereby turning the problem of Bayesian inference into an optimization problem.\n",
    "\n",
    "In Pyro, the variational distribution is specified in a ```guide```, just like the model function. In fact, there are classes (e.g. ```AutoDiagonalNormal``` and ```AutoMultivariateNormal```) that generate the guide function automatically: \n",
    "\n",
    "```\n",
    "from pyro.contrib.autoguide import AutoDiagonalNormal, AutoMultivariateNormal\n",
    "guide = AutoMultivariateNormal(gmm)\n",
    "```\n",
    "\n",
    "However, for this particular problem, since there are a lot of constraints on the support of some of the distributions, we need to define the guide function manually:"
   ]
  },
  {
   "cell_type": "code",
   "execution_count": 0,
   "metadata": {
    "colab": {},
    "colab_type": "code",
    "id": "o1MJNWkvHJMr"
   },
   "outputs": [],
   "source": [
    "from torch.distributions import constraints\n",
    "\n",
    "def guide(data=None, K=2):\n",
    "    # Use a conjugate guide for global variables.\n",
    "    weights_posterior = pyro.param(\"weights_posterior\", 1.*torch.ones(K), constraint=constraints.positive)\n",
    "    pyro.sample(\"weights\", pyro.distributions.Dirichlet(weights_posterior))\n",
    "    \n",
    "    mu_loc = pyro.param(\"mu_loc\", torch.zeros(K,2))\n",
    "    mu_scale = pyro.param(\"mu_scale\", 1.*torch.ones(K,2), constraint=constraints.positive)\n",
    "    sigma_scale = pyro.param(\"sigma_scale\", 1.*torch.ones(K,2), constraint=constraints.positive)\n",
    "    with pyro.plate('components', K):\n",
    "        mu = pyro.sample('mu', pyro.distributions.Normal(mu_loc, mu_scale).to_event(1))\n",
    "        sigma = pyro.sample('sigma', pyro.distributions.Normal(sigma_scale, 0.1).to_event(1))"
   ]
  },
  {
   "cell_type": "markdown",
   "metadata": {
    "colab_type": "text",
    "id": "0ZdBLPPaHfSB"
   },
   "source": [
    "Notice how the structure of the guide function closely follows the one of the model function. In fact, the inputs to the function and names of the distributions and plates must match the ones in the model definition! To specify the learnable parameters of the guide we made use of the ```pyro.param``` primitive.\n",
    "\n",
    "Once the guide is properly defined, we can run variational inference in Pyro:"
   ]
  },
  {
   "cell_type": "code",
   "execution_count": 0,
   "metadata": {
    "colab": {
     "base_uri": "https://localhost:8080/",
     "height": 527
    },
    "colab_type": "code",
    "executionInfo": {
     "elapsed": 32590,
     "status": "ok",
     "timestamp": 1581942646725,
     "user": {
      "displayName": "Filipe Rodrigues",
      "photoUrl": "https://lh3.googleusercontent.com/a-/AAuE7mDaWEE0j1oWjHLxVkWKYDXRh8NUBFCgGYF0XZOsvA=s64",
      "userId": "15636531912642599438"
     },
     "user_tz": -60
    },
    "id": "Txms8qLNHNlr",
    "outputId": "6488e613-5068-49d3-bda3-c39a16ad1863"
   },
   "outputs": [
    {
     "name": "stdout",
     "output_type": "stream",
     "text": [
      "[0] ELBO: 699.5\n",
      "[100] ELBO: 380.2\n",
      "[200] ELBO: 350.8\n",
      "[300] ELBO: 353.5\n",
      "[400] ELBO: 358.1\n",
      "[500] ELBO: 352.4\n",
      "[600] ELBO: 344.8\n",
      "[700] ELBO: 328.6\n",
      "[800] ELBO: 284.9\n",
      "[900] ELBO: 306.7\n",
      "[1000] ELBO: 299.3\n",
      "[1100] ELBO: 350.1\n",
      "[1200] ELBO: 287.9\n",
      "[1300] ELBO: 310.1\n",
      "[1400] ELBO: 291.7\n",
      "[1500] ELBO: 284.6\n",
      "[1600] ELBO: 283.6\n",
      "[1700] ELBO: 314.1\n",
      "[1800] ELBO: 287.3\n",
      "[1900] ELBO: 307.3\n",
      "[2000] ELBO: 290.5\n",
      "[2100] ELBO: 286.8\n",
      "[2200] ELBO: 288.2\n",
      "[2300] ELBO: 363.2\n",
      "[2400] ELBO: 309.7\n",
      "[2500] ELBO: 287.2\n",
      "[2600] ELBO: 289.8\n",
      "[2700] ELBO: 287.2\n",
      "[2800] ELBO: 317.6\n",
      "[2900] ELBO: 293.9\n"
     ]
    }
   ],
   "source": [
    "from pyro.infer import SVI, TraceEnum_ELBO\n",
    "from pyro.optim import Adam, ClippedAdam\n",
    "\n",
    "# Define the number of optimization steps\n",
    "n_steps = 3000\n",
    "\n",
    "# Setup the optimizer\n",
    "adam_params = {\"lr\": 0.01}\n",
    "optimizer = ClippedAdam(adam_params)\n",
    "\n",
    "# Setup the inference algorithm\n",
    "elbo = TraceEnum_ELBO(num_particles=1, max_plate_nesting=1)\n",
    "svi = SVI(gmm, guide, optimizer, loss=elbo)\n",
    "\n",
    "# Reset parameter values\n",
    "pyro.clear_param_store()\n",
    "\n",
    "# Do gradient steps\n",
    "for step in range(n_steps):\n",
    "    elbo = svi.step(X_torch)\n",
    "    if step % 100 == 0:\n",
    "        print(\"[%d] ELBO: %.1f\" % (step, elbo))"
   ]
  },
  {
   "cell_type": "markdown",
   "metadata": {
    "colab_type": "text",
    "id": "6ELRNu9QIQHN"
   },
   "source": [
    "Variational inference is typically much faster than MCMC methods (especially when we make use of the GPU and CUDA for the computations, which is not the case). However, as you saw in this quick demo, in some situations, it requires a bit more work to set up. \n",
    "\n",
    "Let's have a look at the predictions:"
   ]
  },
  {
   "cell_type": "code",
   "execution_count": 0,
   "metadata": {
    "colab": {},
    "colab_type": "code",
    "id": "MCcyULEeldb6"
   },
   "outputs": [],
   "source": [
    "from pyro.infer import Predictive\n",
    "\n",
    "predictive = Predictive(gmm, guide=guide, num_samples=1000,\n",
    "                        return_sites=(\"mu\",\"sigma\", \"weights\"))\n",
    "samples = predictive(X_torch)"
   ]
  },
  {
   "cell_type": "markdown",
   "metadata": {
    "colab_type": "text",
    "id": "mdtosgCBInmH"
   },
   "source": [
    "Note that we now passed the ```guide``` function to the ```Predictive``` class."
   ]
  },
  {
   "cell_type": "code",
   "execution_count": 0,
   "metadata": {
    "colab": {
     "base_uri": "https://localhost:8080/",
     "height": 51
    },
    "colab_type": "code",
    "executionInfo": {
     "elapsed": 937,
     "status": "ok",
     "timestamp": 1581942771866,
     "user": {
      "displayName": "Filipe Rodrigues",
      "photoUrl": "https://lh3.googleusercontent.com/a-/AAuE7mDaWEE0j1oWjHLxVkWKYDXRh8NUBFCgGYF0XZOsvA=s64",
      "userId": "15636531912642599438"
     },
     "user_tz": -60
    },
    "id": "PUmQEjLolnpp",
    "outputId": "9baf1d17-3bc4-4a60-c2cf-3679280f574e"
   },
   "outputs": [
    {
     "data": {
      "text/plain": [
       "tensor([[1.0189, 2.0536],\n",
       "        [4.3010, 0.9683]], grad_fn=<MeanBackward1>)"
      ]
     },
     "execution_count": 57,
     "metadata": {
      "tags": []
     },
     "output_type": "execute_result"
    }
   ],
   "source": [
    "samples[\"mu\"].mean(axis=0)"
   ]
  },
  {
   "cell_type": "code",
   "execution_count": 0,
   "metadata": {
    "colab": {
     "base_uri": "https://localhost:8080/",
     "height": 34
    },
    "colab_type": "code",
    "executionInfo": {
     "elapsed": 864,
     "status": "ok",
     "timestamp": 1581942775987,
     "user": {
      "displayName": "Filipe Rodrigues",
      "photoUrl": "https://lh3.googleusercontent.com/a-/AAuE7mDaWEE0j1oWjHLxVkWKYDXRh8NUBFCgGYF0XZOsvA=s64",
      "userId": "15636531912642599438"
     },
     "user_tz": -60
    },
    "id": "RkgqgkSEmgbU",
    "outputId": "4c9a39c5-ea20-4f27-d482-01b3b667d4b8"
   },
   "outputs": [
    {
     "data": {
      "text/plain": [
       "tensor([[0.4587, 0.5413]], grad_fn=<MeanBackward1>)"
      ]
     },
     "execution_count": 58,
     "metadata": {
      "tags": []
     },
     "output_type": "execute_result"
    }
   ],
   "source": [
    "samples[\"weights\"].mean(axis=0)"
   ]
  },
  {
   "cell_type": "code",
   "execution_count": 0,
   "metadata": {
    "colab": {
     "base_uri": "https://localhost:8080/",
     "height": 51
    },
    "colab_type": "code",
    "executionInfo": {
     "elapsed": 710,
     "status": "ok",
     "timestamp": 1581942777897,
     "user": {
      "displayName": "Filipe Rodrigues",
      "photoUrl": "https://lh3.googleusercontent.com/a-/AAuE7mDaWEE0j1oWjHLxVkWKYDXRh8NUBFCgGYF0XZOsvA=s64",
      "userId": "15636531912642599438"
     },
     "user_tz": -60
    },
    "id": "VUskjicOmivN",
    "outputId": "d26490c2-b29e-40d5-909e-307fff8b9158"
   },
   "outputs": [
    {
     "data": {
      "text/plain": [
       "tensor([[0.6584, 0.5666],\n",
       "        [0.5877, 0.6114]], grad_fn=<MeanBackward1>)"
      ]
     },
     "execution_count": 59,
     "metadata": {
      "tags": []
     },
     "output_type": "execute_result"
    }
   ],
   "source": [
    "samples[\"sigma\"].mean(axis=0)"
   ]
  },
  {
   "cell_type": "markdown",
   "metadata": {
    "colab_type": "text",
    "id": "3IlU2juYIz3r"
   },
   "source": [
    "Quite accurate too, right? :-)"
   ]
  }
 ],
 "metadata": {
  "colab": {
   "collapsed_sections": [],
   "name": "04 - Probabilistic Programming with Pyro - solutions.ipynb",
   "provenance": []
  },
  "kernelspec": {
   "display_name": "Python 3",
   "language": "python",
   "name": "python3"
  },
  "language_info": {
   "codemirror_mode": {
    "name": "ipython",
    "version": 3
   },
   "file_extension": ".py",
   "mimetype": "text/x-python",
   "name": "python",
   "nbconvert_exporter": "python",
   "pygments_lexer": "ipython3",
   "version": "3.7.6"
  }
 },
 "nbformat": 4,
 "nbformat_minor": 1
}
