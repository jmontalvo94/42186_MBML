{
 "cells": [
  {
   "cell_type": "markdown",
   "metadata": {
    "colab_type": "text",
    "id": "w4sYHxpL-7CW"
   },
   "source": [
    "# Week 5 - Regression models\n",
    "\n",
    "Hello again. Welcome to week 5! In this week, we will focus on how to model continuous response (or target) variables in STAN.\n",
    "\n",
    "The usual imports..."
   ]
  },
  {
   "cell_type": "code",
   "execution_count": 1,
   "metadata": {
    "colab": {},
    "colab_type": "code",
    "id": "97Oq5tBK-7Cc"
   },
   "outputs": [],
   "source": [
    "import numpy as np\n",
    "from matplotlib import pyplot as plt\n",
    "\n",
    "# fix random generator seed (for reproducibility of results)\n",
    "np.random.seed(42)\n",
    "\n",
    "# matplotlib options\n",
    "plt.style.use('ggplot')\n",
    "%matplotlib inline\n",
    "plt.rcParams['figure.figsize'] = (16, 10)"
   ]
  },
  {
   "cell_type": "markdown",
   "metadata": {
    "colab_type": "text",
    "id": "nzN2_XqB-7F2"
   },
   "source": [
    "## Part 1 - Linear regression - Ancestral sampling\n",
    "\n",
    "In this first part, we will look at a Bayesian linear regression model. Particularly, we shall try to understand it better (e.g. its assumptions, modelling choices, etc.) by sampling from the model using ancestral sampling.\n",
    "\n",
    "We start by creating N data points corresponding to the inputs (X). Of course, these are assumed to be always given (i.e. we do not model them explicitly)! In this case, we use a simple normal distribution to generate some artificial X's."
   ]
  },
  {
   "cell_type": "code",
   "execution_count": 5,
   "metadata": {
    "colab": {},
    "colab_type": "code",
    "id": "nGQpIJ2y-7F5",
    "outputId": "6830a129-67f0-4453-ec72-520806899516",
    "scrolled": true
   },
   "outputs": [
    {
     "name": "stdout",
     "output_type": "stream",
     "text": [
      "Vector of 20 x 1\n",
      "[[-1.79174238e-01]\n",
      " [ 1.14341023e-01]\n",
      " [-8.06334974e-01]\n",
      " [-8.96206624e-01]\n",
      " [ 1.11252582e+00]\n",
      " [ 1.65624003e+00]\n",
      " [ 2.27989878e-01]\n",
      " [ 1.30353290e+00]\n",
      " [ 6.61636025e-01]\n",
      " [-3.45119755e-01]\n",
      " [ 6.61395606e-01]\n",
      " [ 1.83803657e+00]\n",
      " [ 2.64173961e-01]\n",
      " [ 1.86464366e+00]\n",
      " [-2.31974510e+00]\n",
      " [ 1.12190250e+00]\n",
      " [ 3.87047068e-01]\n",
      " [ 9.92649534e-04]\n",
      " [ 3.91760777e-01]\n",
      " [-1.68756891e+00]]\n"
     ]
    }
   ],
   "source": [
    "# X's are fixed (1D points)\n",
    "X = np.random.normal(0.3, 1, size=20)[:,np.newaxis] # 20 points\n",
    "N, D = X.shape\n",
    "print(\"Vector of\", N, \"x\", D)\n",
    "print(X)"
   ]
  },
  {
   "cell_type": "markdown",
   "metadata": {
    "colab_type": "text",
    "id": "5RRkRVHn-7GF"
   },
   "source": [
    "Now that we have the X's, it is time to sample from our Bayesian linear regression model using ancestral sampling. In ancestral sampling, we sample from each of the variables in turn, following the generative process of the model. In this case, we assume our model to have an intercept $\\alpha$ and a 1D slope $\\beta$. The generative process is as follows:\n",
    "\n",
    "1. Draw intercept $\\alpha \\sim \\mathcal{N}(0,1)$\n",
    "\n",
    "2. Draw slope $\\beta \\sim \\mathcal{N}(0,1)$\n",
    "\n",
    "3. For each input point $x_n$:\n",
    "\n",
    "    A. Draw target $y_n \\sim \\mathcal{N}(\\alpha + \\beta * x_n, \\sigma^2)$\n"
   ]
  },
  {
   "cell_type": "code",
   "execution_count": 32,
   "metadata": {
    "colab": {},
    "colab_type": "code",
    "id": "GqBPAkLL-7GI",
    "outputId": "50d86ae7-04d8-4e74-8f40-04553b4eb7bc"
   },
   "outputs": [
    {
     "name": "stdout",
     "output_type": "stream",
     "text": [
      "sigma: 1\n"
     ]
    }
   ],
   "source": [
    "# we assume sigma to be fixed\n",
    "sigma = 1\n",
    "print(\"sigma:\", sigma)"
   ]
  },
  {
   "cell_type": "markdown",
   "metadata": {
    "colab_type": "text",
    "id": "RQcuJR7H-7GT"
   },
   "source": [
    "Please perform ancestral sampling of the model described above:"
   ]
  },
  {
   "cell_type": "code",
   "execution_count": 33,
   "metadata": {},
   "outputs": [
    {
     "name": "stdout",
     "output_type": "stream",
     "text": [
      "[-0.17917424] 0\n",
      "[0.11434102] 1\n",
      "[-0.80633497] 2\n",
      "[-0.89620662] 3\n",
      "[1.11252582] 4\n",
      "[1.65624003] 5\n",
      "[0.22798988] 6\n",
      "[1.3035329] 7\n",
      "[0.66163603] 8\n",
      "[-0.34511975] 9\n",
      "[0.66139561] 10\n",
      "[1.83803657] 11\n",
      "[0.26417396] 12\n",
      "[1.86464366] 13\n",
      "[-2.3197451] 14\n",
      "[1.1219025] 15\n",
      "[0.38704707] 16\n",
      "[0.00099265] 17\n",
      "[0.39176078] 18\n",
      "[-1.68756891] 19\n"
     ]
    }
   ],
   "source": [
    "for i,x in enumerate(X):\n",
    "    print(x, i)"
   ]
  },
  {
   "cell_type": "code",
   "execution_count": 34,
   "metadata": {
    "colab": {},
    "colab_type": "code",
    "id": "Mi5dB9ia-7GW"
   },
   "outputs": [],
   "source": [
    "alpha = np.random.normal(0,1)\n",
    "beta = np.random.normal(0,1)\n",
    "y=[]\n",
    "for x in X:\n",
    "    y.append(np.random.normal(alpha+beta*x,sigma**2))"
   ]
  },
  {
   "cell_type": "markdown",
   "metadata": {
    "colab_type": "text",
    "id": "c09l8O7p-7Ge"
   },
   "source": [
    "Now that we have sampled some outputs, lets look at them and compare them with the underlying regression line defined by the sampled values of $\\alpha$ and $\\beta$. "
   ]
  },
  {
   "cell_type": "code",
   "execution_count": 35,
   "metadata": {
    "colab": {},
    "colab_type": "code",
    "id": "LWQd2G5h-7Gh",
    "outputId": "9ee3e421-2733-4d09-9b81-c57e70aac94a"
   },
   "outputs": [
    {
     "data": {
      "image/png": "[encoded data removed]",
      "text/plain": [
       "<Figure size 1152x720 with 1 Axes>"
      ]
     },
     "metadata": {
      "needs_background": "light"
     },
     "output_type": "display_data"
    }
   ],
   "source": [
    "plt.plot(X, y, \"rx\")\n",
    "plt.plot(X, alpha + beta * X)\n",
    "plt.legend([\"noisy data points\", \"underlying regression line\"])\n",
    "plt.show()"
   ]
  },
  {
   "cell_type": "markdown",
   "metadata": {
    "colab_type": "text",
    "id": "Ls4Vazy1-7Gt"
   },
   "source": [
    "Notice how the different observed y's are scattered around the (true) underlying regression line. \n",
    "\n",
    "Try running the ancestral sampling code multiple times and look at how your results differ. Notice how, depending on the values of $\\alpha$ and $\\beta$ that you sample, the N sampled targets $\\{y_n\\}_{n=1}^N$ vary dramatically. In the next sections/parts of this notebook, we will do inference in the Bayesian linear regression model (using STAN!), where the goal is to reverse this process, i.e. given the observed values of $y$, compute the posterior distribution of $\\alpha$ and $\\beta$. But more on that later...\n",
    "\n",
    "For now, go back to the ancestral samplig code and play with the parameters. Specifically, try changing the values of $\\sigma^2$ and look at the consequence in the generated targets y.\n",
    "\n"
   ]
  }
 ],
 "metadata": {
  "colab": {
   "collapsed_sections": [],
   "name": "05 - Regression models - Part 1.ipynb",
   "provenance": []
  },
  "kernelspec": {
   "display_name": "Python 3",
   "language": "python",
   "name": "python3"
  },
  "language_info": {
   "codemirror_mode": {
    "name": "ipython",
    "version": 3
   },
   "file_extension": ".py",
   "mimetype": "text/x-python",
   "name": "python",
   "nbconvert_exporter": "python",
   "pygments_lexer": "ipython3",
   "version": "3.7.6"
  }
 },
 "nbformat": 4,
 "nbformat_minor": 1
}
