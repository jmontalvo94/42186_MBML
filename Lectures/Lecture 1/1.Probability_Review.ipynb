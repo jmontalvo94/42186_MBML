{
 "cells": [
  {
   "cell_type": "markdown",
   "metadata": {},
   "source": [
    "### 42186 - Model Based Machine Learning"
   ]
  },
  {
   "cell_type": "markdown",
   "metadata": {},
   "source": [
    "Hello, welcome to our course on Model-Based Machine Learning. We hope you will enjoy and learn a lot of new powerful techniques for your future.\n",
    "\n"
   ]
  },
  {
   "cell_type": "markdown",
   "metadata": {},
   "source": [
    "# Week1. Probability and statistics review"
   ]
  },
  {
   "cell_type": "markdown",
   "metadata": {},
   "source": [
    "For a start, we need to review some concepts of probability and statistics. "
   ]
  },
  {
   "cell_type": "markdown",
   "metadata": {},
   "source": [
    "As usual in Python, the first thing to do is to import the necessary packages. Let's start with some usual ones for now..."
   ]
  },
  {
   "cell_type": "code",
   "execution_count": 1,
   "metadata": {},
   "outputs": [],
   "source": [
    "import numpy as np\n",
    "import matplotlib.pyplot as plt\n",
    "import math\n",
    "import pandas as pd\n",
    "%matplotlib inline"
   ]
  },
  {
   "cell_type": "markdown",
   "metadata": {},
   "source": [
    "## Part 1 - Random variables, independence, conditionality, Bayes theorem"
   ]
  },
  {
   "cell_type": "markdown",
   "metadata": {},
   "source": [
    "We are going to work on a 2D world for now, and a uniform distribution."
   ]
  },
  {
   "cell_type": "markdown",
   "metadata": {},
   "source": [
    "So, let's create N 2D points:"
   ]
  },
  {
   "cell_type": "code",
   "execution_count": 11,
   "metadata": {},
   "outputs": [
    {
     "data": {
      "text/plain": [
       "array([[0.03311676, 0.9811832 ],\n",
       "       [0.93458293, 0.3367466 ],\n",
       "       [0.11733475, 0.17383541],\n",
       "       ...,\n",
       "       [0.56249267, 0.13578641],\n",
       "       [0.67854004, 0.98884525],\n",
       "       [0.9603443 , 0.09571599]])"
      ]
     },
     "execution_count": 11,
     "metadata": {},
     "output_type": "execute_result"
    }
   ],
   "source": [
    "N=1000\n",
    "pts=np.random.uniform(size=(N,2)) \n",
    "pts"
   ]
  },
  {
   "cell_type": "markdown",
   "metadata": {},
   "source": [
    "Take a look at these points. You'll notice they all fall inside a [0,1]x[0,1] square..."
   ]
  },
  {
   "cell_type": "code",
   "execution_count": 12,
   "metadata": {},
   "outputs": [
    {
     "data": {
      "text/plain": [
       "array([[0.03311676, 0.9811832 ],\n",
       "       [0.93458293, 0.3367466 ],\n",
       "       [0.11733475, 0.17383541],\n",
       "       [0.95503786, 0.5817178 ],\n",
       "       [0.49638513, 0.27616801],\n",
       "       [0.56570936, 0.58704278],\n",
       "       [0.87897185, 0.64116221],\n",
       "       [0.13886326, 0.19481407],\n",
       "       [0.54347975, 0.22011879],\n",
       "       [0.64966035, 0.4753927 ]])"
      ]
     },
     "execution_count": 12,
     "metadata": {},
     "output_type": "execute_result"
    }
   ],
   "source": [
    "pts[:10]"
   ]
  },
  {
   "cell_type": "markdown",
   "metadata": {},
   "source": [
    "Can you count how many such points fall inside a circle centered at (0,0) and radius 1?"
   ]
  },
  {
   "cell_type": "code",
   "execution_count": 13,
   "metadata": {},
   "outputs": [],
   "source": [
    "def in_circ(x,y):\n",
    "     return x**2+y**2<1"
   ]
  },
  {
   "cell_type": "code",
   "execution_count": 14,
   "metadata": {},
   "outputs": [
    {
     "name": "stdout",
     "output_type": "stream",
     "text": [
      "772\n"
     ]
    }
   ],
   "source": [
    "inc=sum([in_circ(x,y) for x, y in pts])\n",
    "print(inc)"
   ]
  },
  {
   "cell_type": "markdown",
   "metadata": {},
   "source": [
    "Consider a={a given point (x,y) falls inside the circle centered at (0,0) with radius 1}"
   ]
  },
  {
   "cell_type": "markdown",
   "metadata": {},
   "source": [
    "Calculate the probability of a, p(a)"
   ]
  },
  {
   "cell_type": "code",
   "execution_count": 15,
   "metadata": {},
   "outputs": [],
   "source": [
    "total=N"
   ]
  },
  {
   "cell_type": "code",
   "execution_count": 16,
   "metadata": {},
   "outputs": [
    {
     "data": {
      "text/plain": [
       "0.772"
      ]
     },
     "execution_count": 16,
     "metadata": {},
     "output_type": "execute_result"
    }
   ],
   "source": [
    "p_a=inc/total\n",
    "p_a"
   ]
  },
  {
   "cell_type": "markdown",
   "metadata": {},
   "source": [
    "Visualizations are often quite useful. Can you visualize both the points as well as the circle line?"
   ]
  },
  {
   "cell_type": "code",
   "execution_count": 17,
   "metadata": {},
   "outputs": [
    {
     "data": {
      "text/plain": [
       "array([[0.        , 1.        ],\n",
       "       [0.001     , 0.9999995 ],\n",
       "       [0.002     , 0.999998  ],\n",
       "       ...,\n",
       "       [0.997     , 0.07740155],\n",
       "       [0.998     , 0.06321392],\n",
       "       [0.999     , 0.04471018]])"
      ]
     },
     "execution_count": 17,
     "metadata": {},
     "output_type": "execute_result"
    }
   ],
   "source": [
    "circle_line=[]\n",
    "for x in np.arange(0,1,0.001):\n",
    "    y=math.sqrt(1-x**2)\n",
    "    circle_line.append([x,y])\n",
    "    \n",
    "circle_line=np.array(circle_line)\n",
    "circle_line"
   ]
  },
  {
   "cell_type": "code",
   "execution_count": 18,
   "metadata": {},
   "outputs": [
    {
     "data": {
      "text/plain": [
       "<matplotlib.collections.PathCollection at 0x129e883d548>"
      ]
     },
     "execution_count": 18,
     "metadata": {},
     "output_type": "execute_result"
    },
    {
     "data": {
      "image/png": "[encoded data removed]",
      "text/plain": [
       "<Figure size 720x720 with 1 Axes>"
      ]
     },
     "metadata": {
      "needs_background": "light"
     },
     "output_type": "display_data"
    }
   ],
   "source": [
    "plt.figure(figsize=(10,10))\n",
    "plt.scatter(pts[:,0],pts[:,1])\n",
    "plt.scatter(circle_line[:,0],circle_line[:,1],c=\"black\",s=3)"
   ]
  },
  {
   "cell_type": "markdown",
   "metadata": {},
   "source": [
    "Just to link with your trigonometrics knowledge: what is the area of this circle (radius=1)? And what is the area of a quarter of that circle (the part that you just drew)?\n",
    "\n",
    "What is the relationship with that value and the probability that you just calculated (you can vary the number of points, N, to check your theory)?"
   ]
  },
  {
   "cell_type": "code",
   "execution_count": 19,
   "metadata": {},
   "outputs": [
    {
     "name": "stdout",
     "output_type": "stream",
     "text": [
      "0.7853981633974483\n",
      "0.772\n"
     ]
    }
   ],
   "source": [
    "radius=1.0\n",
    "area=math.pi*radius**2\n",
    "qarea=area/4\n",
    "print(qarea)\n",
    "print(p_a)"
   ]
  },
  {
   "cell_type": "markdown",
   "metadata": {},
   "source": [
    "Now, let's add a new event b={a point (x,y) falls on the right hand side of the [0,1]x[0,1] square}"
   ]
  },
  {
   "cell_type": "markdown",
   "metadata": {},
   "source": [
    "Calculate p(b) "
   ]
  },
  {
   "cell_type": "code",
   "execution_count": 20,
   "metadata": {},
   "outputs": [],
   "source": [
    "def outside_circ(x,y):\n",
    "     return x**2+y**2>1"
   ]
  },
  {
   "cell_type": "code",
   "execution_count": 21,
   "metadata": {},
   "outputs": [
    {
     "name": "stdout",
     "output_type": "stream",
     "text": [
      "228\n",
      "0.228\n"
     ]
    }
   ],
   "source": [
    "outc=sum([outside_circ(x,y) for x, y in pts])\n",
    "print(outc)\n",
    "p_b=outc/total\n",
    "print(p_b)"
   ]
  },
  {
   "cell_type": "markdown",
   "metadata": {},
   "source": [
    "So, now you have p(a) and p(b). Do you want to try calculating p(a,b)?\n",
    "\n",
    "Are they independent? Is there any reason to believe that they aren't?\n",
    "\n",
    "To check this, try two approaches:\n",
    "\n",
    "-- p(a,b)=p(a)*p(b)\n",
    "\n",
    "-- Just count the points that fulfill both a and b constraints (and divide by the total number of points... ;-) ).\n"
   ]
  },
  {
   "cell_type": "code",
   "execution_count": 44,
   "metadata": {},
   "outputs": [
    {
     "name": "stdout",
     "output_type": "stream",
     "text": [
      "0.16512\n"
     ]
    }
   ],
   "source": [
    "p_ab=p_a*p_b\n",
    "print(p_ab)"
   ]
  },
  {
   "cell_type": "code",
   "execution_count": 45,
   "metadata": {},
   "outputs": [
    {
     "ename": "NameError",
     "evalue": "name 'in_right' is not defined",
     "output_type": "error",
     "traceback": [
      "\u001b[1;31m---------------------------------------------------------------------------\u001b[0m",
      "\u001b[1;31mNameError\u001b[0m                                 Traceback (most recent call last)",
      "\u001b[1;32m<ipython-input-45-a3c2fc3eca48>\u001b[0m in \u001b[0;36m<module>\u001b[1;34m\u001b[0m\n\u001b[1;32m----> 1\u001b[1;33m \u001b[0minr_and_c\u001b[0m\u001b[1;33m=\u001b[0m\u001b[0msum\u001b[0m\u001b[1;33m(\u001b[0m\u001b[1;33m[\u001b[0m\u001b[0min_right\u001b[0m\u001b[1;33m(\u001b[0m\u001b[0mx\u001b[0m\u001b[1;33m,\u001b[0m\u001b[0my\u001b[0m\u001b[1;33m)\u001b[0m \u001b[1;32mand\u001b[0m \u001b[0min_circ\u001b[0m\u001b[1;33m(\u001b[0m\u001b[0mx\u001b[0m\u001b[1;33m,\u001b[0m\u001b[0my\u001b[0m\u001b[1;33m)\u001b[0m \u001b[1;32mfor\u001b[0m \u001b[0mx\u001b[0m\u001b[1;33m,\u001b[0m\u001b[0my\u001b[0m \u001b[1;32min\u001b[0m \u001b[0mpts\u001b[0m\u001b[1;33m]\u001b[0m\u001b[1;33m)\u001b[0m\u001b[1;33m\u001b[0m\u001b[1;33m\u001b[0m\u001b[0m\n\u001b[0m\u001b[0;32m      2\u001b[0m \u001b[0mprint\u001b[0m\u001b[1;33m(\u001b[0m\u001b[0minr_and_c\u001b[0m\u001b[1;33m/\u001b[0m\u001b[0mtotal\u001b[0m\u001b[1;33m)\u001b[0m\u001b[1;33m\u001b[0m\u001b[1;33m\u001b[0m\u001b[0m\n",
      "\u001b[1;32m<ipython-input-45-a3c2fc3eca48>\u001b[0m in \u001b[0;36m<listcomp>\u001b[1;34m(.0)\u001b[0m\n\u001b[1;32m----> 1\u001b[1;33m \u001b[0minr_and_c\u001b[0m\u001b[1;33m=\u001b[0m\u001b[0msum\u001b[0m\u001b[1;33m(\u001b[0m\u001b[1;33m[\u001b[0m\u001b[0min_right\u001b[0m\u001b[1;33m(\u001b[0m\u001b[0mx\u001b[0m\u001b[1;33m,\u001b[0m\u001b[0my\u001b[0m\u001b[1;33m)\u001b[0m \u001b[1;32mand\u001b[0m \u001b[0min_circ\u001b[0m\u001b[1;33m(\u001b[0m\u001b[0mx\u001b[0m\u001b[1;33m,\u001b[0m\u001b[0my\u001b[0m\u001b[1;33m)\u001b[0m \u001b[1;32mfor\u001b[0m \u001b[0mx\u001b[0m\u001b[1;33m,\u001b[0m\u001b[0my\u001b[0m \u001b[1;32min\u001b[0m \u001b[0mpts\u001b[0m\u001b[1;33m]\u001b[0m\u001b[1;33m)\u001b[0m\u001b[1;33m\u001b[0m\u001b[1;33m\u001b[0m\u001b[0m\n\u001b[0m\u001b[0;32m      2\u001b[0m \u001b[0mprint\u001b[0m\u001b[1;33m(\u001b[0m\u001b[0minr_and_c\u001b[0m\u001b[1;33m/\u001b[0m\u001b[0mtotal\u001b[0m\u001b[1;33m)\u001b[0m\u001b[1;33m\u001b[0m\u001b[1;33m\u001b[0m\u001b[0m\n",
      "\u001b[1;31mNameError\u001b[0m: name 'in_right' is not defined"
     ]
    }
   ],
   "source": [
    "inr_and_c=sum([in_right(x,y) and in_circ(x,y) for x,y in pts])\n",
    "inr_and_c/total"
   ]
  },
  {
   "cell_type": "markdown",
   "metadata": {},
   "source": [
    "They are different! Why?... If you are in doubt, take a look at the picture..."
   ]
  },
  {
   "cell_type": "code",
   "execution_count": null,
   "metadata": {},
   "outputs": [],
   "source": []
  },
  {
   "cell_type": "markdown",
   "metadata": {},
   "source": [
    "Maybe they are not independent, after all... if so, their joint probability is instead"
   ]
  },
  {
   "cell_type": "markdown",
   "metadata": {},
   "source": [
    "p(a,b)=p(a|b)*p(b)\n"
   ]
  },
  {
   "cell_type": "markdown",
   "metadata": {},
   "source": [
    "Please calculate p(a|b), in order to get the right value..."
   ]
  },
  {
   "cell_type": "code",
   "execution_count": null,
   "metadata": {},
   "outputs": [],
   "source": [
    "inc_give_inr=sum([in_circ(x,y) for x,y in pts if in_right(x,y)])\n",
    "inr_total=sum([1 for x, y in pts if in_right(x,y)])\n",
    "p_a_given_b=inc_given_inr/inr_total"
   ]
  },
  {
   "cell_type": "code",
   "execution_count": null,
   "metadata": {},
   "outputs": [],
   "source": [
    "p_a_given_b"
   ]
  },
  {
   "cell_type": "markdown",
   "metadata": {},
   "source": [
    "Now you calculate p(a,b)=p(a|b)*p(b)"
   ]
  },
  {
   "cell_type": "code",
   "execution_count": null,
   "metadata": {},
   "outputs": [],
   "source": [
    "p_a_given_b*p_b"
   ]
  },
  {
   "cell_type": "markdown",
   "metadata": {},
   "source": [
    "Compare with the values above. Does it make more sense now? \n",
    "\n",
    "Another well known property is the Bayes theorem:\n",
    "\n",
    "$p(b|a)=\\frac{p(a|b)p(b)}{p(a)}$\n",
    "\n",
    "Calculate the p(b|a) using the Bayes theorem, and calculate it directly from data. Are they converging to the same value?\n"
   ]
  },
  {
   "cell_type": "code",
   "execution_count": null,
   "metadata": {},
   "outputs": [],
   "source": [
    "p_b_given_a=p_a_given_b*p_b/p_a\n",
    "p_b_given_a"
   ]
  },
  {
   "cell_type": "code",
   "execution_count": null,
   "metadata": {
    "scrolled": true
   },
   "outputs": [],
   "source": [
    "inr_given_inc=sum([in_right(x,y)])"
   ]
  },
  {
   "cell_type": "markdown",
   "metadata": {},
   "source": [
    "Look at the following table:"
   ]
  },
  {
   "cell_type": "code",
   "execution_count": 7,
   "metadata": {},
   "outputs": [
    {
     "name": "stdout",
     "output_type": "stream",
     "text": [
      "             T=Hot    T=Mild    T=Cold\n",
      "W=Sunny   0.068966  0.137931  0.068966\n",
      "W=Cloudy  0.344828  0.241379  0.137931\n"
     ]
    }
   ],
   "source": [
    "f=pd.DataFrame([[0.068966, 0.137931, 0.068966], [0.344828, 0.241379, 0.137931]], columns=['T=Hot', 'T=Mild', 'T=Cold'], index=['W=Sunny', \"W=Cloudy\"])\n",
    "print(f)"
   ]
  },
  {
   "cell_type": "markdown",
   "metadata": {},
   "source": [
    "Marginalization allows us to compute distributions over a selection of variables that we want. For example, for the table above, that represents p(W, T) in a non-normalized way, we could \"marginalize out weather\", i.e. calculate p(T), by doing \n",
    "\n",
    "$p(T)=\\sum_W p(W, T)$\n",
    "\n",
    "Marginalize out weather (Hint: the pandas package has a nice \"sum()\" function associated with the the DataFrame object f that you can use...)"
   ]
  },
  {
   "cell_type": "code",
   "execution_count": 8,
   "metadata": {},
   "outputs": [
    {
     "data": {
      "text/plain": [
       "T=Hot     0.413794\n",
       "T=Mild    0.379310\n",
       "T=Cold    0.206897\n",
       "dtype: float64"
      ]
     },
     "execution_count": 8,
     "metadata": {},
     "output_type": "execute_result"
    }
   ],
   "source": [
    "f.sum(axis=0)"
   ]
  },
  {
   "cell_type": "markdown",
   "metadata": {},
   "source": [
    "Marginalize out temperature"
   ]
  },
  {
   "cell_type": "code",
   "execution_count": null,
   "metadata": {},
   "outputs": [],
   "source": []
  },
  {
   "cell_type": "markdown",
   "metadata": {},
   "source": [
    "--------"
   ]
  },
  {
   "cell_type": "markdown",
   "metadata": {},
   "source": [
    "## Part 2 - Independence"
   ]
  },
  {
   "cell_type": "markdown",
   "metadata": {},
   "source": [
    "Let's get further into the concept of **independence**"
   ]
  },
  {
   "cell_type": "markdown",
   "metadata": {},
   "source": [
    "To begin with, let's create a small dataset of size N. We will start with two random variables, z and t, both uniformly distributed. \n",
    "\n",
    "Each random variable will be an integer value in {0, 1, 2} (you can change this later, of course). "
   ]
  },
  {
   "cell_type": "code",
   "execution_count": 56,
   "metadata": {},
   "outputs": [
    {
     "data": {
      "text/plain": [
       "array([0, 2, 2, 0, 0, 1, 2, 1, 1, 2])"
      ]
     },
     "execution_count": 56,
     "metadata": {},
     "output_type": "execute_result"
    }
   ],
   "source": [
    "N=10000\n",
    "D=3\n",
    "\n",
    "z=np.random.randint(D, size=N)\n",
    "t=np.random.randint(D, size=N)\n",
    "z[:10]"
   ]
  },
  {
   "cell_type": "markdown",
   "metadata": {},
   "source": [
    "Let's calculate the probability of each different value of z. Take a look at this code. It may be useful later"
   ]
  },
  {
   "cell_type": "code",
   "execution_count": 67,
   "metadata": {},
   "outputs": [
    {
     "name": "stdout",
     "output_type": "stream",
     "text": [
      "p(z=0)=0.334500\n",
      "p(z=1)=0.326100\n",
      "p(z=2)=0.339400\n"
     ]
    }
   ],
   "source": [
    "z_items, z_counts=np.unique(z, return_counts=True, axis=0) #returns a list of different items in Z; it also counts how \n",
    "                                                           #many times each one appears\n",
    "    \n",
    "#calculates the p(Z=z), for each possible value of z\n",
    "for item, ct in zip(z_items, z_counts):     #zip returns an iterator object (which can be iterated over)\n",
    "    print(\"p(z=%d)=%f\"%(item, ct/N))"
   ]
  },
  {
   "cell_type": "markdown",
   "metadata": {},
   "source": [
    "Actually, we're going to reuse the above code quite a lot. Let's make a new function, then... "
   ]
  },
  {
   "cell_type": "code",
   "execution_count": 68,
   "metadata": {},
   "outputs": [],
   "source": [
    "#Function p. It receives a list of values, K, and simply prints the probability of each of its values\n",
    "#nam and given - Two strings just for printing. Just run this once and you'll see... ;-)\n",
    "def p(nam, K, given=\"\"):    \n",
    "    k_items, k_counts=np.unique(K, return_counts=True, axis=0)\n",
    "    for item, ct in zip(k_items, k_counts):\n",
    "        print(\"p(%s=%s%s)=%f\"%(nam, item, given, ct/sum(k_counts)))"
   ]
  },
  {
   "cell_type": "markdown",
   "metadata": {},
   "source": [
    "Let's try it with our variables Z and T"
   ]
  },
  {
   "cell_type": "code",
   "execution_count": 69,
   "metadata": {},
   "outputs": [
    {
     "name": "stdout",
     "output_type": "stream",
     "text": [
      "p(z=0)=0.334500\n",
      "p(z=1)=0.326100\n",
      "p(z=2)=0.339400\n",
      "p(t=0)=0.327400\n",
      "p(t=1)=0.341100\n",
      "p(t=2)=0.331500\n"
     ]
    }
   ],
   "source": [
    "p('z', z)\n",
    "p('t', t)"
   ]
  },
  {
   "cell_type": "markdown",
   "metadata": {},
   "source": [
    "ok. So, we have the probability of each value, according to this dataset. \n",
    "\n",
    "Assuming that both z and t are uniformly distributed, the calculation for the probability of each should be trivial, right? What is it?"
   ]
  },
  {
   "cell_type": "code",
   "execution_count": 70,
   "metadata": {},
   "outputs": [
    {
     "data": {
      "text/plain": [
       "(0.3333333333333333, 0.3333333333333333)"
      ]
     },
     "execution_count": 70,
     "metadata": {},
     "output_type": "execute_result"
    }
   ],
   "source": [
    "p_z=1/D\n",
    "p_t=1/D\n",
    "p_z, p_t"
   ]
  },
  {
   "cell_type": "markdown",
   "metadata": {},
   "source": [
    "Does it match the above? If you're in doubt, you can increase the value of N, the dataset size. As N grows, it should approximate your calculation... "
   ]
  },
  {
   "cell_type": "markdown",
   "metadata": {},
   "source": [
    "Let's now think of the joint distribution of z and t. In other words, how these two variables seem to co-vary, together. The first thing to do is to \"align\" them, i.e., re-create a new random variable (z_t), that is a pair of observations, z and t. "
   ]
  },
  {
   "cell_type": "code",
   "execution_count": 71,
   "metadata": {},
   "outputs": [],
   "source": [
    "z_t=np.stack((z,t), axis=-1)  #Check the result of this operation, to understand what it does..."
   ]
  },
  {
   "cell_type": "code",
   "execution_count": 72,
   "metadata": {},
   "outputs": [
    {
     "data": {
      "text/plain": [
       "array([[0, 1],\n",
       "       [2, 2],\n",
       "       [2, 0],\n",
       "       [0, 1],\n",
       "       [0, 0],\n",
       "       [1, 2],\n",
       "       [2, 2],\n",
       "       [1, 1],\n",
       "       [1, 1],\n",
       "       [2, 0]])"
      ]
     },
     "execution_count": 72,
     "metadata": {},
     "output_type": "execute_result"
    }
   ],
   "source": [
    "z_t[:10]"
   ]
  },
  {
   "cell_type": "markdown",
   "metadata": {},
   "source": [
    "So, let's use the function above, to calculate the join distribution"
   ]
  },
  {
   "cell_type": "code",
   "execution_count": 73,
   "metadata": {},
   "outputs": [
    {
     "name": "stdout",
     "output_type": "stream",
     "text": [
      "p(z,t=[0 0])=0.107000\n",
      "p(z,t=[0 1])=0.116500\n",
      "p(z,t=[0 2])=0.111000\n",
      "p(z,t=[1 0])=0.108300\n",
      "p(z,t=[1 1])=0.109100\n",
      "p(z,t=[1 2])=0.108700\n",
      "p(z,t=[2 0])=0.112100\n",
      "p(z,t=[2 1])=0.115500\n",
      "p(z,t=[2 2])=0.111800\n"
     ]
    }
   ],
   "source": [
    "p(\"z,t\", z_t)"
   ]
  },
  {
   "cell_type": "markdown",
   "metadata": {},
   "source": [
    "Are Z and T independent? If yes, the formula for their join distribution is trivial. Please calculate it (and check if it verifies)."
   ]
  },
  {
   "cell_type": "code",
   "execution_count": null,
   "metadata": {},
   "outputs": [],
   "source": []
  },
  {
   "cell_type": "code",
   "execution_count": null,
   "metadata": {},
   "outputs": [],
   "source": []
  },
  {
   "cell_type": "markdown",
   "metadata": {},
   "source": [
    "Let's create two more variables, both based on Z. "
   ]
  },
  {
   "cell_type": "code",
   "execution_count": 74,
   "metadata": {},
   "outputs": [],
   "source": [
    "betay=-2    \n",
    "betax=1\n",
    "y=betay*z\n",
    "x=betax*z"
   ]
  },
  {
   "cell_type": "markdown",
   "metadata": {},
   "source": [
    "Are they independent? What do you think? A good way to see is by plotting... do you want to do it?"
   ]
  },
  {
   "cell_type": "code",
   "execution_count": null,
   "metadata": {},
   "outputs": [],
   "source": []
  },
  {
   "cell_type": "markdown",
   "metadata": {},
   "source": [
    "What should it look like when variables are independent? And when they are correlated?"
   ]
  },
  {
   "cell_type": "markdown",
   "metadata": {},
   "source": [
    "Let's check their joint distribution, then... "
   ]
  },
  {
   "cell_type": "code",
   "execution_count": 16,
   "metadata": {},
   "outputs": [
    {
     "name": "stdout",
     "output_type": "stream",
     "text": [
      "p(x,y=[0 0])=0.352000\n",
      "p(x,y=[ 1 -2])=0.337000\n",
      "p(x,y=[ 2 -4])=0.311000\n"
     ]
    }
   ],
   "source": [
    "x_y=np.stack((x,y), axis=-1)\n",
    "p(\"x,y\", x_y)"
   ]
  },
  {
   "cell_type": "markdown",
   "metadata": {},
   "source": [
    "Notice that, for all other value combinations (e.g. x,y=[0,-2]), the probability is zero.\n",
    "\n",
    "If x and y are independent, then the product of their marginal probabilities should be equal to the values above, right? Do you want to calculate?"
   ]
  },
  {
   "cell_type": "code",
   "execution_count": null,
   "metadata": {},
   "outputs": [],
   "source": []
  },
  {
   "cell_type": "markdown",
   "metadata": {},
   "source": [
    "Should the values match at all? Let's try instead to calculate the conditional probabilities, of and x and y, given z."
   ]
  },
  {
   "cell_type": "markdown",
   "metadata": {},
   "source": [
    "To do it, directly on the data, we need to calculate, for EACH value of z, the distributions for both x and y.\n",
    "\n",
    "This means that we need to organize the data accordingly. How about using a dictionary? "
   ]
  },
  {
   "cell_type": "code",
   "execution_count": 17,
   "metadata": {},
   "outputs": [],
   "source": [
    "from collections import defaultdict\n",
    "\n",
    "z_dict=defaultdict(list)\n",
    "\n",
    "for X, Y, Z in zip(x, y, z):\n",
    "    z_dict[Z].append([X,Y])\n",
    "    "
   ]
  },
  {
   "cell_type": "markdown",
   "metadata": {},
   "source": [
    "To make sure you understand the code above, don't forget to check z_dict carefully..."
   ]
  },
  {
   "cell_type": "code",
   "execution_count": null,
   "metadata": {},
   "outputs": [],
   "source": []
  },
  {
   "cell_type": "markdown",
   "metadata": {},
   "source": [
    "The code below uses the dictionary to calculate the conditional marginal and joint distributions. Check it carefully."
   ]
  },
  {
   "cell_type": "code",
   "execution_count": 19,
   "metadata": {},
   "outputs": [
    {
     "name": "stdout",
     "output_type": "stream",
     "text": [
      "p(x=1|z=1)=1.000000\n",
      "p(y=-2|z=1)=1.000000\n",
      "p(x,y=[ 1 -2]|z=1)=1.000000\n",
      "p(x=0|z=0)=1.000000\n",
      "p(y=0|z=0)=1.000000\n",
      "p(x,y=[0 0]|z=0)=1.000000\n",
      "p(x=2|z=2)=1.000000\n",
      "p(y=-4|z=2)=1.000000\n",
      "p(x,y=[ 2 -4]|z=2)=1.000000\n"
     ]
    }
   ],
   "source": [
    "for Z in z_dict:\n",
    "    x_y=z_dict[Z]\n",
    "    x=np.array(x_y)[:,0]\n",
    "    y=np.array(x_y)[:,1]  \n",
    "    p(\"x\", x, \"|z=%d\"%Z)\n",
    "    p(\"y\", y,\"|z=%d\"%Z)\n",
    "    p(\"x,y\", x_y, \"|z=%d\"%Z)"
   ]
  },
  {
   "cell_type": "markdown",
   "metadata": {},
   "source": [
    "So, what do you conclude? Is it true that x is independent of y given z?"
   ]
  },
  {
   "cell_type": "markdown",
   "metadata": {},
   "source": [
    " "
   ]
  },
  {
   "cell_type": "markdown",
   "metadata": {},
   "source": [
    "The example above was particularly odd, because there is NO randomness involved (i.e. x is **exactly** betax times z). As a consequence, the probabilities are quite extreme. \n",
    "\n",
    "Try to redo the whole exercise, by adding a little randomness to x and y (don't forget to keep them as integers). Notice how the conditional independence property varies of \"intensity\", as you add more or less randomness... "
   ]
  },
  {
   "cell_type": "code",
   "execution_count": null,
   "metadata": {},
   "outputs": [],
   "source": []
  },
  {
   "cell_type": "code",
   "execution_count": null,
   "metadata": {},
   "outputs": [],
   "source": []
  },
  {
   "cell_type": "code",
   "execution_count": null,
   "metadata": {},
   "outputs": [],
   "source": []
  },
  {
   "cell_type": "code",
   "execution_count": null,
   "metadata": {},
   "outputs": [],
   "source": []
  },
  {
   "cell_type": "markdown",
   "metadata": {},
   "source": [
    "Finally, let's try a different perspective on conditional independence: why does it actually matter??\n",
    "\n",
    "Particularly, we want to understand the meaning of the following sentence:\n",
    "\n",
    "**\"If we know z, then knowing about y tells us nothing about x\"**\n",
    "\n"
   ]
  },
  {
   "cell_type": "markdown",
   "metadata": {},
   "source": [
    "Using your small dataset (x, y, z), you will try to make linear regression prediction models. Our goal is to \"know about x\", i.e. x will be the tar get (or dependent) variable in our linear regression. \n",
    "\n",
    "Compare the following models (e.g. using sklearn's LinearRegression model):\n",
    "\n",
    "- $x=\\beta_1*z$\n",
    "- $x=\\beta_1*y+\\beta_2*z$\n",
    "- $x=\\beta_1*y$"
   ]
  },
  {
   "cell_type": "code",
   "execution_count": null,
   "metadata": {},
   "outputs": [],
   "source": []
  },
  {
   "cell_type": "code",
   "execution_count": null,
   "metadata": {},
   "outputs": [],
   "source": []
  },
  {
   "cell_type": "markdown",
   "metadata": {},
   "source": [
    "Notice the coefficients, what do they mean?"
   ]
  },
  {
   "cell_type": "markdown",
   "metadata": {},
   "source": [
    "--------"
   ]
  },
  {
   "cell_type": "markdown",
   "metadata": {},
   "source": [
    "## Part 3 - Expectation of discrete variables"
   ]
  },
  {
   "cell_type": "markdown",
   "metadata": {},
   "source": [
    "Calculate the expected value of x, using\n",
    "\n",
    "$E(x)=\\sum_x xp(x)$"
   ]
  },
  {
   "cell_type": "code",
   "execution_count": null,
   "metadata": {},
   "outputs": [],
   "source": []
  },
  {
   "cell_type": "markdown",
   "metadata": {},
   "source": [
    "Compare it with the mean of x (x.mean() )"
   ]
  },
  {
   "cell_type": "code",
   "execution_count": null,
   "metadata": {},
   "outputs": [],
   "source": []
  },
  {
   "cell_type": "markdown",
   "metadata": {},
   "source": [
    "-------"
   ]
  }
 ],
 "metadata": {
  "kernelspec": {
   "display_name": "Python 3",
   "language": "python",
   "name": "python3"
  },
  "language_info": {
   "codemirror_mode": {
    "name": "ipython",
    "version": 3
   },
   "file_extension": ".py",
   "mimetype": "text/x-python",
   "name": "python",
   "nbconvert_exporter": "python",
   "pygments_lexer": "ipython3",
   "version": "3.7.6"
  }
 },
 "nbformat": 4,
 "nbformat_minor": 1
}
