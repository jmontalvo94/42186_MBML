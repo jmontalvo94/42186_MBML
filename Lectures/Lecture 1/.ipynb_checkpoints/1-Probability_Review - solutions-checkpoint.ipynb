{
 "cells": [
  {
   "cell_type": "markdown",
   "metadata": {},
   "source": [
    "### 42186 - Model Based Machine Learning"
   ]
  },
  {
   "cell_type": "markdown",
   "metadata": {},
   "source": [
    "Hello, welcome to our course on Model-Based Machine Learning. We hope you will enjoy and learn a lot of new powerful techniques for your future.\n",
    "\n"
   ]
  },
  {
   "cell_type": "markdown",
   "metadata": {},
   "source": [
    "# Week1. Probability and statistics review"
   ]
  },
  {
   "cell_type": "markdown",
   "metadata": {},
   "source": [
    "For a start, we need to review some concepts of probability and statistics. "
   ]
  },
  {
   "cell_type": "markdown",
   "metadata": {},
   "source": [
    "As usual in Python, the first thing to do is to import the necessary packages. Let's start with some usual ones for now..."
   ]
  },
  {
   "cell_type": "code",
   "execution_count": 2,
   "metadata": {},
   "outputs": [],
   "source": [
    "import numpy as np\n",
    "import matplotlib.pyplot as plt\n",
    "import math\n",
    "import pandas as pd\n",
    "%matplotlib inline"
   ]
  },
  {
   "cell_type": "markdown",
   "metadata": {},
   "source": [
    "## Part 1 - Random variables, independence, conditionality, Bayes theorem"
   ]
  },
  {
   "cell_type": "markdown",
   "metadata": {},
   "source": [
    "We are going to work on a 2D world for now, and a uniform distribution."
   ]
  },
  {
   "cell_type": "markdown",
   "metadata": {},
   "source": [
    "So, let's create N 2D points:"
   ]
  },
  {
   "cell_type": "code",
   "execution_count": 3,
   "metadata": {},
   "outputs": [],
   "source": [
    "N=500\n",
    "pts=np.random.uniform(size=(N,2)) "
   ]
  },
  {
   "cell_type": "markdown",
   "metadata": {},
   "source": [
    "Take a look at these points. You'll notice they all fall inside a [0,1]x[0,1] square..."
   ]
  },
  {
   "cell_type": "code",
   "execution_count": 83,
   "metadata": {},
   "outputs": [
    {
     "data": {
      "text/plain": [
       "array([[0.5708835 , 0.87529089],\n",
       "       [0.02373081, 0.56195313],\n",
       "       [0.61551781, 0.09615225],\n",
       "       [0.79804505, 0.20463704],\n",
       "       [0.77678701, 0.85776978],\n",
       "       [0.93031386, 0.12217902],\n",
       "       [0.39136223, 0.24209724],\n",
       "       [0.26567092, 0.78408835],\n",
       "       [0.60566923, 0.52406977],\n",
       "       [0.49736156, 0.56001048]])"
      ]
     },
     "execution_count": 83,
     "metadata": {},
     "output_type": "execute_result"
    }
   ],
   "source": [
    "pts[:10]"
   ]
  },
  {
   "cell_type": "markdown",
   "metadata": {},
   "source": [
    "Can you count how many such points fall inside a circle centered at (0,0) and radius 1?"
   ]
  },
  {
   "cell_type": "code",
   "execution_count": 4,
   "metadata": {},
   "outputs": [],
   "source": [
    "def in_circ(x,y):\n",
    "     return x**2+y**2<1   "
   ]
  },
  {
   "cell_type": "code",
   "execution_count": 5,
   "metadata": {},
   "outputs": [
    {
     "name": "stdout",
     "output_type": "stream",
     "text": [
      "398\n"
     ]
    }
   ],
   "source": [
    "inc=sum([in_circ(x,y) for x, y in pts])\n",
    "print(inc)"
   ]
  },
  {
   "cell_type": "markdown",
   "metadata": {},
   "source": [
    "Consider a={a given point (x,y) falls inside the circle centered at (0,0) with radius 1}"
   ]
  },
  {
   "cell_type": "markdown",
   "metadata": {},
   "source": [
    "Calculate the probability of a, p(a)"
   ]
  },
  {
   "cell_type": "code",
   "execution_count": 7,
   "metadata": {},
   "outputs": [
    {
     "name": "stdout",
     "output_type": "stream",
     "text": [
      "500\n"
     ]
    }
   ],
   "source": [
    "total=len(pts)\n",
    "print(total)"
   ]
  },
  {
   "cell_type": "code",
   "execution_count": 9,
   "metadata": {},
   "outputs": [
    {
     "name": "stdout",
     "output_type": "stream",
     "text": [
      "0.796\n"
     ]
    }
   ],
   "source": [
    "p_a=inc/total\n",
    "print(p_a)"
   ]
  },
  {
   "cell_type": "markdown",
   "metadata": {},
   "source": [
    "Visualizations are often quite useful. Can you visualize both the points as well as the circle line?"
   ]
  },
  {
   "cell_type": "code",
   "execution_count": 10,
   "metadata": {},
   "outputs": [],
   "source": [
    "circle_line=[]\n",
    "for x in np.arange(0, 1, .001):\n",
    "        y=math.sqrt(1-x**2)\n",
    "        circle_line.append([x, y])\n",
    "        \n",
    "circle_line=np.array(circle_line)"
   ]
  },
  {
   "cell_type": "code",
   "execution_count": 11,
   "metadata": {},
   "outputs": [
    {
     "data": {
      "text/plain": [
       "<matplotlib.collections.PathCollection at 0x27d34b1ec88>"
      ]
     },
     "execution_count": 11,
     "metadata": {},
     "output_type": "execute_result"
    },
    {
     "data": {
      "image/png": "[encoded data removed]",
      "text/plain": [
       "<Figure size 432x432 with 1 Axes>"
      ]
     },
     "metadata": {
      "needs_background": "light"
     },
     "output_type": "display_data"
    }
   ],
   "source": [
    "plt.figure(figsize=(6,6))\n",
    "plt.scatter(pts[:,0], pts[:, 1])\n",
    "plt.scatter(circle_line[:,0], circle_line[:,1], c=\"black\", s=1)"
   ]
  },
  {
   "cell_type": "markdown",
   "metadata": {},
   "source": [
    "Just to link with your trigonometrics knowledge: what is the area of this circle (radius=1)? And what is the area of a quarter of that circle (the part that you just drew)?\n",
    "\n",
    "What is the relationship with that value and the probability that you just calculated (you can vary the number of points, N, to check your theory)?"
   ]
  },
  {
   "cell_type": "code",
   "execution_count": 12,
   "metadata": {},
   "outputs": [
    {
     "data": {
      "text/plain": [
       "0.7853981633974483"
      ]
     },
     "execution_count": 12,
     "metadata": {},
     "output_type": "execute_result"
    }
   ],
   "source": [
    "math.pi/4"
   ]
  },
  {
   "cell_type": "markdown",
   "metadata": {},
   "source": [
    "Now, let's add a new event b={a point (x,y) falls on the right hand side of the [0,1]x[0,1] square}"
   ]
  },
  {
   "cell_type": "markdown",
   "metadata": {},
   "source": [
    "Calculate p(b) "
   ]
  },
  {
   "cell_type": "code",
   "execution_count": 13,
   "metadata": {},
   "outputs": [],
   "source": [
    "def in_right(x, y):\n",
    "    return x>=.5\n",
    "\n",
    "inr=sum([in_right(x, y) for x, y in pts])\n",
    "\n",
    "p_b=inr/total"
   ]
  },
  {
   "cell_type": "code",
   "execution_count": 14,
   "metadata": {},
   "outputs": [
    {
     "data": {
      "text/plain": [
       "0.488"
      ]
     },
     "execution_count": 14,
     "metadata": {},
     "output_type": "execute_result"
    }
   ],
   "source": [
    "p_b"
   ]
  },
  {
   "cell_type": "markdown",
   "metadata": {},
   "source": [
    "So, now you have p(a) and p(b). Do you want to try calculating p(a,b)?\n",
    "\n",
    "Are they independent? Is there any reason to believe that they aren't?\n",
    "\n",
    "To check this, try two approaches:\n",
    "\n",
    "-- p(a,b)=p(a)*p(b)\n",
    "\n",
    "-- Just count the points that fulfill both a and b constraints (and divide by the total number of points... ;-) ).\n"
   ]
  },
  {
   "cell_type": "code",
   "execution_count": 93,
   "metadata": {},
   "outputs": [
    {
     "data": {
      "text/plain": [
       "0.402336"
      ]
     },
     "execution_count": 93,
     "metadata": {},
     "output_type": "execute_result"
    }
   ],
   "source": [
    "p_a*p_b"
   ]
  },
  {
   "cell_type": "code",
   "execution_count": 94,
   "metadata": {},
   "outputs": [
    {
     "data": {
      "text/plain": [
       "0.318"
      ]
     },
     "execution_count": 94,
     "metadata": {},
     "output_type": "execute_result"
    }
   ],
   "source": [
    "inr_and_c=sum([in_right(x, y) and in_circ(x,y) for x, y in pts])\n",
    "inr_and_c/total"
   ]
  },
  {
   "cell_type": "markdown",
   "metadata": {},
   "source": [
    "They are different! Why?... If you are in doubt, take a look at the picture..."
   ]
  },
  {
   "cell_type": "code",
   "execution_count": null,
   "metadata": {},
   "outputs": [],
   "source": []
  },
  {
   "cell_type": "markdown",
   "metadata": {},
   "source": [
    "Maybe they are not independent, after all... if so, their joint probability is instead"
   ]
  },
  {
   "cell_type": "markdown",
   "metadata": {},
   "source": [
    "p(a,b)=p(a|b)*p(b)\n"
   ]
  },
  {
   "cell_type": "markdown",
   "metadata": {},
   "source": [
    "Please calculate p(a|b), in order to get the right value..."
   ]
  },
  {
   "cell_type": "code",
   "execution_count": 95,
   "metadata": {},
   "outputs": [],
   "source": [
    "inc_given_inr=sum([in_circ(x, y) for x, y in pts if in_right(x, y)])\n",
    "inr_total=sum([1 for x, y in pts if in_right(x, y)])\n",
    "p_a_given_b=inc_given_inr/inr_total"
   ]
  },
  {
   "cell_type": "code",
   "execution_count": 96,
   "metadata": {},
   "outputs": [
    {
     "data": {
      "text/plain": [
       "0.6259842519685039"
      ]
     },
     "execution_count": 96,
     "metadata": {},
     "output_type": "execute_result"
    }
   ],
   "source": [
    "p_a_given_b"
   ]
  },
  {
   "cell_type": "markdown",
   "metadata": {},
   "source": [
    "Now you calculate p(a,b)=p(a|b)*p(b)"
   ]
  },
  {
   "cell_type": "code",
   "execution_count": 97,
   "metadata": {},
   "outputs": [
    {
     "data": {
      "text/plain": [
       "0.318"
      ]
     },
     "execution_count": 97,
     "metadata": {},
     "output_type": "execute_result"
    }
   ],
   "source": [
    "p_a_given_b*p_b"
   ]
  },
  {
   "cell_type": "markdown",
   "metadata": {},
   "source": [
    "Compare with the values above. Does it make more sense now? \n",
    "\n",
    "Another well known property is the Bayes theorem:\n",
    "\n",
    "$p(b|a)=\\frac{p(a|b)p(b)}{p(a)}$\n",
    "\n",
    "Calculate the p(b|a) using the Bayes theorem, and calculate it directly from data. Are they converging to the same value?\n"
   ]
  },
  {
   "cell_type": "code",
   "execution_count": 98,
   "metadata": {},
   "outputs": [
    {
     "data": {
      "text/plain": [
       "0.4015151515151515"
      ]
     },
     "execution_count": 98,
     "metadata": {},
     "output_type": "execute_result"
    }
   ],
   "source": [
    "p_b_given_a=p_a_given_b*p_b/p_a\n",
    "p_b_given_a"
   ]
  },
  {
   "cell_type": "code",
   "execution_count": 99,
   "metadata": {
    "scrolled": true
   },
   "outputs": [
    {
     "data": {
      "text/plain": [
       "0.4015151515151515"
      ]
     },
     "execution_count": 99,
     "metadata": {},
     "output_type": "execute_result"
    }
   ],
   "source": [
    "inr_given_inc=sum([in_right(x, y) for x, y in pts if in_circ(x, y)])\n",
    "inc_total=sum([1 for x, y in pts if in_circ(x, y)])\n",
    "inr_given_inc/inc_total"
   ]
  },
  {
   "cell_type": "markdown",
   "metadata": {},
   "source": [
    "Look at the following table:"
   ]
  },
  {
   "cell_type": "code",
   "execution_count": 100,
   "metadata": {},
   "outputs": [
    {
     "name": "stdout",
     "output_type": "stream",
     "text": [
      "             T=Hot    T=Mild    T=Cold\n",
      "W=Sunny   0.068966  0.137931  0.068966\n",
      "W=Cloudy  0.344828  0.241379  0.137931\n"
     ]
    }
   ],
   "source": [
    "f=pd.DataFrame([[0.068966, 0.137931, 0.068966], [0.344828, 0.241379, 0.137931]], columns=['T=Hot', 'T=Mild', 'T=Cold'], index=['W=Sunny', \"W=Cloudy\"])\n",
    "print(f)"
   ]
  },
  {
   "cell_type": "markdown",
   "metadata": {},
   "source": [
    "Marginalization allows us to compute distributions over a selection of variables that we want. For example, for the table above, that represents p(W, T) in a non-normalized way, we could \"marginalize out weather\", i.e. calculate p(T), by doing \n",
    "\n",
    "$p(T)=\\sum_W p(W, T)$\n",
    "\n",
    "Marginalize out weather (Hint: the pandas package has a nice \"sum()\" function associated with the the DataFrame object f that you can use...)"
   ]
  },
  {
   "cell_type": "code",
   "execution_count": 101,
   "metadata": {},
   "outputs": [
    {
     "data": {
      "text/plain": [
       "T=Hot     0.413794\n",
       "T=Mild    0.379310\n",
       "T=Cold    0.206897\n",
       "dtype: float64"
      ]
     },
     "execution_count": 101,
     "metadata": {},
     "output_type": "execute_result"
    }
   ],
   "source": [
    "f.sum(axis=0)"
   ]
  },
  {
   "cell_type": "markdown",
   "metadata": {},
   "source": [
    "Marginalize out temperature"
   ]
  },
  {
   "cell_type": "code",
   "execution_count": 102,
   "metadata": {},
   "outputs": [
    {
     "data": {
      "text/plain": [
       "W=Sunny     0.275863\n",
       "W=Cloudy    0.724138\n",
       "dtype: float64"
      ]
     },
     "execution_count": 102,
     "metadata": {},
     "output_type": "execute_result"
    }
   ],
   "source": [
    "f.sum(axis=1)"
   ]
  },
  {
   "cell_type": "markdown",
   "metadata": {},
   "source": [
    "--------"
   ]
  },
  {
   "cell_type": "markdown",
   "metadata": {},
   "source": [
    "## Part 2 - Independence"
   ]
  },
  {
   "cell_type": "markdown",
   "metadata": {},
   "source": [
    "Let's get further into the concept of **independence**"
   ]
  },
  {
   "cell_type": "markdown",
   "metadata": {},
   "source": [
    "To begin with, let's create a small dataset of size N. We will start with two random variables, z and t, both uniformly distributed. \n",
    "\n",
    "Each random variable will be an integer value in {0, 1, 2} (you can change this later, of course). "
   ]
  },
  {
   "cell_type": "code",
   "execution_count": 103,
   "metadata": {},
   "outputs": [],
   "source": [
    "N=1000\n",
    "D=3\n",
    "\n",
    "z=np.random.randint(D, size=N)\n",
    "t=np.random.randint(D, size=N)"
   ]
  },
  {
   "cell_type": "markdown",
   "metadata": {},
   "source": [
    "Let's calculate the probability of each different value of z. Take a look at this code. It may be useful later"
   ]
  },
  {
   "cell_type": "code",
   "execution_count": 104,
   "metadata": {},
   "outputs": [
    {
     "name": "stdout",
     "output_type": "stream",
     "text": [
      "p(z=0)=0.344000\n",
      "p(z=1)=0.334000\n",
      "p(z=2)=0.322000\n"
     ]
    }
   ],
   "source": [
    "z_items, z_counts=np.unique(z, return_counts=True, axis=0) #returns a list of different items in Z; it also counts how \n",
    "                                                         #many times each one appears\n",
    "\n",
    "#calculates the p(Z=z), for each possible value of z\n",
    "for item, ct in zip(z_items, z_counts):     \n",
    "    print(\"p(z=%d)=%f\"%(item, ct/N))"
   ]
  },
  {
   "cell_type": "markdown",
   "metadata": {},
   "source": [
    "Actually, we're going to reuse the above code quite a lot. Let's make a new function, then... "
   ]
  },
  {
   "cell_type": "code",
   "execution_count": 105,
   "metadata": {},
   "outputs": [],
   "source": [
    "#Function p. It receives a list of values, K, and simply prints the probability of each of its values\n",
    "#nam and given - Two strings just for printing. Just run this once and you'll see... ;-)\n",
    "def p(nam, K, given=\"\"):    \n",
    "    k_items, k_counts=np.unique(K, return_counts=True, axis=0)\n",
    "    for item, ct in zip(k_items, k_counts):\n",
    "        print(\"p(%s=%s%s)=%f\"%(nam, item, given, ct/sum(k_counts)))"
   ]
  },
  {
   "cell_type": "markdown",
   "metadata": {},
   "source": [
    "Let's try it with our variables Z and T"
   ]
  },
  {
   "cell_type": "code",
   "execution_count": 106,
   "metadata": {},
   "outputs": [
    {
     "name": "stdout",
     "output_type": "stream",
     "text": [
      "p(z=0)=0.344000\n",
      "p(z=1)=0.334000\n",
      "p(z=2)=0.322000\n",
      "p(t=0)=0.343000\n",
      "p(t=1)=0.329000\n",
      "p(t=2)=0.328000\n"
     ]
    }
   ],
   "source": [
    "p('z', z)\n",
    "p('t', t)"
   ]
  },
  {
   "cell_type": "markdown",
   "metadata": {},
   "source": [
    "ok. So, we have the probability of each value, according to this dataset. \n",
    "\n",
    "Assuming that both z and t are uniformly distributed, the calculation for the probability of each should be trivial, right? What is it?"
   ]
  },
  {
   "cell_type": "code",
   "execution_count": 107,
   "metadata": {},
   "outputs": [
    {
     "data": {
      "text/plain": [
       "(0.3333333333333333, 0.3333333333333333)"
      ]
     },
     "execution_count": 107,
     "metadata": {},
     "output_type": "execute_result"
    }
   ],
   "source": [
    "p_z=1/D\n",
    "p_t=1/D\n",
    "p_z, p_t"
   ]
  },
  {
   "cell_type": "markdown",
   "metadata": {},
   "source": [
    "Does it match the above? If you're in doubt, you can increase the value of N, the dataset size. As N grows, it should approximate your calculation... "
   ]
  },
  {
   "cell_type": "markdown",
   "metadata": {},
   "source": [
    "Let's now think of the joint distribution of z and t. In other words, how these two variables seem to co-vary, together. The first thing to do is to \"align\" them, i.e., re-create a new random variable (z_t), that is a pair of observations, z and t. "
   ]
  },
  {
   "cell_type": "code",
   "execution_count": 108,
   "metadata": {},
   "outputs": [],
   "source": [
    "z_t=np.stack((z,t), axis=-1)  #Check the result of this operation, to understand what it does..."
   ]
  },
  {
   "cell_type": "code",
   "execution_count": null,
   "metadata": {},
   "outputs": [],
   "source": []
  },
  {
   "cell_type": "markdown",
   "metadata": {},
   "source": [
    "So, let's use the function above, to calculate the join distribution"
   ]
  },
  {
   "cell_type": "code",
   "execution_count": 109,
   "metadata": {},
   "outputs": [
    {
     "name": "stdout",
     "output_type": "stream",
     "text": [
      "p(z,t=[0 0])=0.144000\n",
      "p(z,t=[0 1])=0.098000\n",
      "p(z,t=[0 2])=0.102000\n",
      "p(z,t=[1 0])=0.098000\n",
      "p(z,t=[1 1])=0.117000\n",
      "p(z,t=[1 2])=0.119000\n",
      "p(z,t=[2 0])=0.101000\n",
      "p(z,t=[2 1])=0.114000\n",
      "p(z,t=[2 2])=0.107000\n"
     ]
    }
   ],
   "source": [
    "p(\"z,t\", z_t)"
   ]
  },
  {
   "cell_type": "markdown",
   "metadata": {},
   "source": [
    "Are Z and T independent? If yes, the formula for their join distribution is trivial. Please calculate it (and check if it verifies)."
   ]
  },
  {
   "cell_type": "code",
   "execution_count": 110,
   "metadata": {},
   "outputs": [],
   "source": [
    "p_z_t=p_z*p_t"
   ]
  },
  {
   "cell_type": "code",
   "execution_count": 111,
   "metadata": {},
   "outputs": [
    {
     "data": {
      "text/plain": [
       "0.1111111111111111"
      ]
     },
     "execution_count": 111,
     "metadata": {},
     "output_type": "execute_result"
    }
   ],
   "source": [
    "p_z_t"
   ]
  },
  {
   "cell_type": "markdown",
   "metadata": {},
   "source": [
    "Let's create two more variables, both based on Z. "
   ]
  },
  {
   "cell_type": "code",
   "execution_count": 112,
   "metadata": {},
   "outputs": [],
   "source": [
    "betay=-2    \n",
    "betax=1\n",
    "y=betay*z\n",
    "x=betax*z"
   ]
  },
  {
   "cell_type": "markdown",
   "metadata": {},
   "source": [
    "Are they independent? What do you think? A good way to see is by plotting... do you want to do it?"
   ]
  },
  {
   "cell_type": "code",
   "execution_count": 117,
   "metadata": {},
   "outputs": [
    {
     "data": {
      "text/plain": [
       "<matplotlib.collections.PathCollection at 0x113ca7828>"
      ]
     },
     "execution_count": 117,
     "metadata": {},
     "output_type": "execute_result"
    },
    {
     "data": {
      "image/png": "[encoded data removed]",
      "text/plain": [
       "<Figure size 432x288 with 1 Axes>"
      ]
     },
     "metadata": {},
     "output_type": "display_data"
    }
   ],
   "source": [
    "plt.scatter(x, y)"
   ]
  },
  {
   "cell_type": "markdown",
   "metadata": {},
   "source": [
    "What should it look like when variables are independent? And when they are correlated?"
   ]
  },
  {
   "cell_type": "markdown",
   "metadata": {},
   "source": [
    "Let's check their joint distribution, then... "
   ]
  },
  {
   "cell_type": "code",
   "execution_count": 113,
   "metadata": {},
   "outputs": [
    {
     "name": "stdout",
     "output_type": "stream",
     "text": [
      "p(x,y=[0 0])=0.344000\n",
      "p(x,y=[ 1 -2])=0.334000\n",
      "p(x,y=[ 2 -4])=0.322000\n"
     ]
    }
   ],
   "source": [
    "x_y=np.stack((x,y), axis=-1)\n",
    "p(\"x,y\", x_y)"
   ]
  },
  {
   "cell_type": "markdown",
   "metadata": {},
   "source": [
    "Notice that, for all other value combinations (e.g. x,y=[0,-2]), the probability is zero.\n",
    "\n",
    "If x and y are independent, then the product of their marginal probabilities should be equal to the values above, right? Do you want to calculate?"
   ]
  },
  {
   "cell_type": "code",
   "execution_count": 119,
   "metadata": {},
   "outputs": [
    {
     "name": "stdout",
     "output_type": "stream",
     "text": [
      "p(x=0)=0.344000\n",
      "p(x=1)=0.334000\n",
      "p(x=2)=0.322000\n",
      "p(y=-4)=0.322000\n",
      "p(y=-2)=0.334000\n",
      "p(y=0)=0.344000\n"
     ]
    }
   ],
   "source": [
    "p(\"x\", x)\n",
    "p(\"y\", y)"
   ]
  },
  {
   "cell_type": "markdown",
   "metadata": {},
   "source": [
    "Should the values match at all? Let's try instead to calculate the conditional probabilities, of and x and y, given z."
   ]
  },
  {
   "cell_type": "markdown",
   "metadata": {},
   "source": [
    "To do it, directly on the data, we need to calculate, for EACH value of z, the distributions for both x and y.\n",
    "\n",
    "This means that we need to organize the data accordingly. How about using a dictionary? "
   ]
  },
  {
   "cell_type": "code",
   "execution_count": 17,
   "metadata": {},
   "outputs": [],
   "source": [
    "from collections import defaultdict\n",
    "\n",
    "z_dict=defaultdict(list)\n",
    "\n",
    "for X, Y, Z in zip(x, y, z):\n",
    "    z_dict[Z].append([X,Y])\n",
    "    "
   ]
  },
  {
   "cell_type": "markdown",
   "metadata": {},
   "source": [
    "To make sure you understand the code above, don't forget to check z_dict carefully..."
   ]
  },
  {
   "cell_type": "code",
   "execution_count": null,
   "metadata": {},
   "outputs": [],
   "source": []
  },
  {
   "cell_type": "markdown",
   "metadata": {},
   "source": [
    "The code below uses the dictionary to calculate the conditional marginal and joint distributions. Check it carefully."
   ]
  },
  {
   "cell_type": "code",
   "execution_count": 19,
   "metadata": {},
   "outputs": [
    {
     "name": "stdout",
     "output_type": "stream",
     "text": [
      "p(x=1|z=1)=1.000000\n",
      "p(y=-2|z=1)=1.000000\n",
      "p(x,y=[ 1 -2]|z=1)=1.000000\n",
      "p(x=0|z=0)=1.000000\n",
      "p(y=0|z=0)=1.000000\n",
      "p(x,y=[0 0]|z=0)=1.000000\n",
      "p(x=2|z=2)=1.000000\n",
      "p(y=-4|z=2)=1.000000\n",
      "p(x,y=[ 2 -4]|z=2)=1.000000\n"
     ]
    }
   ],
   "source": [
    "for Z in z_dict:\n",
    "    x_y=z_dict[Z]\n",
    "    x=np.array(x_y)[:,0]\n",
    "    y=np.array(x_y)[:,1]  \n",
    "    p(\"x\", x, \"|z=%d\"%Z)\n",
    "    p(\"y\", y,\"|z=%d\"%Z)\n",
    "    p(\"x,y\", x_y, \"|z=%d\"%Z)"
   ]
  },
  {
   "cell_type": "markdown",
   "metadata": {},
   "source": [
    "So, what do you conclude? Is it true that x is independent of y given z?"
   ]
  },
  {
   "cell_type": "markdown",
   "metadata": {},
   "source": [
    " "
   ]
  },
  {
   "cell_type": "markdown",
   "metadata": {},
   "source": [
    "The example above was particularly odd, because there is NO randomness involved (i.e. x is **exactly** betax times z). As a consequence, the probabilities are quite extreme. \n",
    "\n",
    "Try to redo the whole exercise, by adding a little randomness to x and y (don't forget to keep them as integers). Notice how the conditional independence property varies of \"intensity\", as you add more or less randomness... "
   ]
  },
  {
   "cell_type": "code",
   "execution_count": 121,
   "metadata": {},
   "outputs": [
    {
     "data": {
      "text/plain": [
       "<matplotlib.collections.PathCollection at 0x113daeb00>"
      ]
     },
     "execution_count": 121,
     "metadata": {},
     "output_type": "execute_result"
    },
    {
     "data": {
      "image/png": "[encoded data removed]",
      "text/plain": [
       "<Figure size 432x288 with 1 Axes>"
      ]
     },
     "metadata": {},
     "output_type": "display_data"
    }
   ],
   "source": [
    "betay=-2\n",
    "betax=1\n",
    "y=betay*z+np.random.randint(3,size=len(z))-1\n",
    "x=betax*z+np.random.randint(3,size=len(z))-1\n",
    "plt.scatter(x, y)"
   ]
  },
  {
   "cell_type": "code",
   "execution_count": 122,
   "metadata": {},
   "outputs": [
    {
     "name": "stdout",
     "output_type": "stream",
     "text": [
      "p(x,y=[-1 -1])=0.041000\n",
      "p(x,y=[-1  0])=0.034000\n",
      "p(x,y=[-1  1])=0.038000\n",
      "p(x,y=[ 0 -3])=0.029000\n",
      "p(x,y=[ 0 -2])=0.034000\n",
      "p(x,y=[ 0 -1])=0.070000\n",
      "p(x,y=[0 0])=0.032000\n",
      "p(x,y=[0 1])=0.037000\n",
      "p(x,y=[ 1 -5])=0.042000\n",
      "p(x,y=[ 1 -4])=0.031000\n",
      "p(x,y=[ 1 -3])=0.069000\n",
      "p(x,y=[ 1 -2])=0.034000\n",
      "p(x,y=[ 1 -1])=0.083000\n",
      "p(x,y=[1 0])=0.040000\n",
      "p(x,y=[1 1])=0.041000\n",
      "p(x,y=[ 2 -5])=0.048000\n",
      "p(x,y=[ 2 -4])=0.031000\n",
      "p(x,y=[ 2 -3])=0.065000\n",
      "p(x,y=[ 2 -2])=0.044000\n",
      "p(x,y=[ 2 -1])=0.049000\n",
      "p(x,y=[ 3 -5])=0.030000\n",
      "p(x,y=[ 3 -4])=0.040000\n",
      "p(x,y=[ 3 -3])=0.038000\n"
     ]
    }
   ],
   "source": [
    "x_y=np.stack((x,y), axis=-1)\n",
    "p(\"x,y\", x_y)"
   ]
  },
  {
   "cell_type": "code",
   "execution_count": 123,
   "metadata": {},
   "outputs": [
    {
     "name": "stdout",
     "output_type": "stream",
     "text": [
      "p(x=-1)=0.113000\n",
      "p(x=0)=0.202000\n",
      "p(x=1)=0.340000\n",
      "p(x=2)=0.237000\n",
      "p(x=3)=0.108000\n",
      "p(y=-5)=0.120000\n",
      "p(y=-4)=0.102000\n",
      "p(y=-3)=0.201000\n",
      "p(y=-2)=0.112000\n",
      "p(y=-1)=0.243000\n",
      "p(y=0)=0.106000\n",
      "p(y=1)=0.116000\n"
     ]
    }
   ],
   "source": [
    "p(\"x\", x)\n",
    "p(\"y\", y)"
   ]
  },
  {
   "cell_type": "code",
   "execution_count": 125,
   "metadata": {},
   "outputs": [
    {
     "name": "stdout",
     "output_type": "stream",
     "text": [
      "p(x=1|z=2)=0.332298\n",
      "p(x=2|z=2)=0.332298\n",
      "p(x=3|z=2)=0.335404\n",
      "p(y=-5|z=2)=0.372671\n",
      "p(y=-4|z=2)=0.316770\n",
      "p(y=-3|z=2)=0.310559\n",
      "p(x,y=[ 1 -5]|z=2)=0.130435\n",
      "p(x,y=[ 1 -4]|z=2)=0.096273\n",
      "p(x,y=[ 1 -3]|z=2)=0.105590\n",
      "p(x,y=[ 2 -5]|z=2)=0.149068\n",
      "p(x,y=[ 2 -4]|z=2)=0.096273\n",
      "p(x,y=[ 2 -3]|z=2)=0.086957\n",
      "p(x,y=[ 3 -5]|z=2)=0.093168\n",
      "p(x,y=[ 3 -4]|z=2)=0.124224\n",
      "p(x,y=[ 3 -3]|z=2)=0.118012\n",
      "p(x=-1|z=0)=0.328488\n",
      "p(x=0|z=0)=0.311047\n",
      "p(x=1|z=0)=0.360465\n",
      "p(y=-1|z=0)=0.354651\n",
      "p(y=0|z=0)=0.308140\n",
      "p(y=1|z=0)=0.337209\n",
      "p(x,y=[-1 -1]|z=0)=0.119186\n",
      "p(x,y=[-1  0]|z=0)=0.098837\n",
      "p(x,y=[-1  1]|z=0)=0.110465\n",
      "p(x,y=[ 0 -1]|z=0)=0.110465\n",
      "p(x,y=[0 0]|z=0)=0.093023\n",
      "p(x,y=[0 1]|z=0)=0.107558\n",
      "p(x,y=[ 1 -1]|z=0)=0.125000\n",
      "p(x,y=[1 0]|z=0)=0.116279\n",
      "p(x,y=[1 1]|z=0)=0.119186\n",
      "p(x=0|z=1)=0.284431\n",
      "p(x=1|z=1)=0.326347\n",
      "p(x=2|z=1)=0.389222\n",
      "p(y=-3|z=1)=0.302395\n",
      "p(y=-2|z=1)=0.335329\n",
      "p(y=-1|z=1)=0.362275\n",
      "p(x,y=[ 0 -3]|z=1)=0.086826\n",
      "p(x,y=[ 0 -2]|z=1)=0.101796\n",
      "p(x,y=[ 0 -1]|z=1)=0.095808\n",
      "p(x,y=[ 1 -3]|z=1)=0.104790\n",
      "p(x,y=[ 1 -2]|z=1)=0.101796\n",
      "p(x,y=[ 1 -1]|z=1)=0.119760\n",
      "p(x,y=[ 2 -3]|z=1)=0.110778\n",
      "p(x,y=[ 2 -2]|z=1)=0.131737\n",
      "p(x,y=[ 2 -1]|z=1)=0.146707\n"
     ]
    }
   ],
   "source": [
    "from collections import defaultdict\n",
    "\n",
    "z_dict=defaultdict(list)\n",
    "\n",
    "for X, Y, Z in zip(x, y, z):\n",
    "    z_dict[Z].append([X,Y])\n",
    "    \n",
    "for Z in z_dict:\n",
    "    x_y=z_dict[Z]\n",
    "    X=np.array(x_y)[:,0]\n",
    "    Y=np.array(x_y)[:,1]  \n",
    "    p(\"x\", X, \"|z=%d\"%Z)\n",
    "    p(\"y\", Y,\"|z=%d\"%Z)\n",
    "    p(\"x,y\", x_y, \"|z=%d\"%Z)\n",
    "    "
   ]
  },
  {
   "cell_type": "markdown",
   "metadata": {},
   "source": [
    "Finally, let's try a different perspective on conditional independence: why does it actually matter??\n",
    "\n",
    "Particularly, we want to understand the meaning of the following sentence:\n",
    "\n",
    "**\"If we know z, then knowing about y tells us nothing about x\"**\n",
    "\n"
   ]
  },
  {
   "cell_type": "markdown",
   "metadata": {},
   "source": [
    "Using your small dataset (x, y, z), you will try to make linear regression prediction models. Our goal is to \"know about x\", i.e. x will be the target (or dependent) variable in our linear regression. \n",
    "\n",
    "Compare the following models (e.g. using sklearn's LinearRegression model):\n",
    "\n",
    "1. $x=\\beta_1*z$\n",
    "\n",
    "2. $x=\\beta_1*y+\\beta_2*z$\n",
    "\n",
    "3. $x=\\beta_1*y$"
   ]
  },
  {
   "cell_type": "code",
   "execution_count": 135,
   "metadata": {},
   "outputs": [],
   "source": [
    "from sklearn.linear_model import LinearRegression\n",
    "\n",
    "lr1=LinearRegression(fit_intercept=False)\n",
    "lr2=LinearRegression(fit_intercept=False)\n",
    "lr3=LinearRegression(fit_intercept=False)\n"
   ]
  },
  {
   "cell_type": "code",
   "execution_count": 136,
   "metadata": {},
   "outputs": [],
   "source": [
    "x=np.array(x, ndmin=2)\n",
    "y=np.array(y, ndmin=2)\n",
    "z=np.array(z, ndmin=2)\n",
    "\n",
    "\n"
   ]
  },
  {
   "cell_type": "code",
   "execution_count": 137,
   "metadata": {},
   "outputs": [],
   "source": [
    "y_z=np.stack((y,z), axis=-1)[0]"
   ]
  },
  {
   "cell_type": "code",
   "execution_count": 140,
   "metadata": {},
   "outputs": [
    {
     "data": {
      "text/plain": [
       "LinearRegression(copy_X=True, fit_intercept=False, n_jobs=1, normalize=False)"
      ]
     },
     "execution_count": 140,
     "metadata": {},
     "output_type": "execute_result"
    }
   ],
   "source": [
    "lr1.fit(z.T, x.T)\n",
    "lr2.fit(y_z, x.T)\n",
    "lr3.fit(y.T, x.T)"
   ]
  },
  {
   "cell_type": "code",
   "execution_count": 139,
   "metadata": {},
   "outputs": [
    {
     "name": "stdout",
     "output_type": "stream",
     "text": [
      "[[1.02281134]]\n",
      "[[0.03892033 1.10113191]]\n",
      "[[-0.45695364]]\n"
     ]
    }
   ],
   "source": [
    "print(lr1.coef_)\n",
    "print(lr2.coef_)\n",
    "print(lr3.coef_)"
   ]
  },
  {
   "cell_type": "markdown",
   "metadata": {},
   "source": [
    "Notice the coefficients, what do they mean? Did adding the variable y change much what we know about x (in model 2.)?"
   ]
  },
  {
   "cell_type": "markdown",
   "metadata": {},
   "source": [
    "--------"
   ]
  },
  {
   "cell_type": "markdown",
   "metadata": {},
   "source": [
    "## Part 3 - Expectation of discrete variables"
   ]
  },
  {
   "cell_type": "markdown",
   "metadata": {},
   "source": [
    "Calculate the expected value of x, using\n",
    "\n",
    "$E(x)=\\sum_x xp(x)$"
   ]
  },
  {
   "cell_type": "code",
   "execution_count": 131,
   "metadata": {},
   "outputs": [],
   "source": [
    "vals, counts=np.unique(X, return_counts=True)\n",
    "tot=sum(counts)"
   ]
  },
  {
   "cell_type": "code",
   "execution_count": 132,
   "metadata": {},
   "outputs": [],
   "source": [
    "EX=0\n",
    "for v, c in zip(vals, counts):\n",
    "    EX+=v*c/tot"
   ]
  },
  {
   "cell_type": "code",
   "execution_count": 133,
   "metadata": {},
   "outputs": [
    {
     "data": {
      "text/plain": [
       "1.1047904191616766"
      ]
     },
     "execution_count": 133,
     "metadata": {},
     "output_type": "execute_result"
    }
   ],
   "source": [
    "EX"
   ]
  },
  {
   "cell_type": "markdown",
   "metadata": {},
   "source": [
    "Compare it with the mean of x (x.mean() )"
   ]
  },
  {
   "cell_type": "code",
   "execution_count": 134,
   "metadata": {},
   "outputs": [
    {
     "data": {
      "text/plain": [
       "1.1047904191616766"
      ]
     },
     "execution_count": 134,
     "metadata": {},
     "output_type": "execute_result"
    }
   ],
   "source": [
    "X.mean()"
   ]
  },
  {
   "cell_type": "markdown",
   "metadata": {},
   "source": [
    "-------"
   ]
  }
 ],
 "metadata": {
  "kernelspec": {
   "display_name": "Python 3",
   "language": "python",
   "name": "python3"
  },
  "language_info": {
   "codemirror_mode": {
    "name": "ipython",
    "version": 3
   },
   "file_extension": ".py",
   "mimetype": "text/x-python",
   "name": "python",
   "nbconvert_exporter": "python",
   "pygments_lexer": "ipython3",
   "version": "3.7.6"
  }
 },
 "nbformat": 4,
 "nbformat_minor": 1
}
