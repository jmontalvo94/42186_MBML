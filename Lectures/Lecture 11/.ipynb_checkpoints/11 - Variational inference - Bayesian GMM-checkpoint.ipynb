{
 "cells": [
  {
   "cell_type": "markdown",
   "metadata": {
    "colab_type": "text",
    "id": "bRYf_rBL4HTZ"
   },
   "source": [
    "# Week 11 - Variational inference - Bayesian Gaussian Mixture Model\n",
    "\n",
    "Hello again. Welcome to week 11! In this week, you will learn about Variational inference.\n",
    "\n",
    "The usual imports..."
   ]
  },
  {
   "cell_type": "code",
   "execution_count": 1,
   "metadata": {
    "colab": {},
    "colab_type": "code",
    "id": "P-U_LJcP4HTa"
   },
   "outputs": [],
   "source": [
    "import numpy as np\n",
    "from scipy.stats import norm\n",
    "from matplotlib import pyplot as plt\n",
    "\n",
    "# fix random generator seed (for reproducibility of results)\n",
    "np.random.seed(42)\n",
    "\n",
    "# matplotlib options\n",
    "%matplotlib inline\n",
    "plt.style.use('ggplot')\n",
    "plt.rcParams['figure.figsize'] = (12, 8)"
   ]
  },
  {
   "cell_type": "code",
   "execution_count": 2,
   "metadata": {
    "colab": {},
    "colab_type": "code",
    "id": "BVOmXpu24HTg"
   },
   "outputs": [],
   "source": [
    "# matplotlib options (for some reason, in many computers, needs to be run twice to take effect...)\n",
    "%matplotlib inline\n",
    "plt.style.use('ggplot')\n",
    "plt.rcParams['figure.figsize'] = (12, 8)"
   ]
  },
  {
   "cell_type": "code",
   "execution_count": 3,
   "metadata": {
    "colab": {
     "base_uri": "https://localhost:8080/",
     "height": 336
    },
    "colab_type": "code",
    "executionInfo": {
     "elapsed": 1014,
     "status": "ok",
     "timestamp": 1588011977352,
     "user": {
      "displayName": "Filipe Rodrigues",
      "photoUrl": "https://lh3.googleusercontent.com/a-/AOh14GgANv2Od365vLQDnVjoxw2PUote-kpb5nugTmcQwA=s64",
      "userId": "15636531912642599438"
     },
     "user_tz": -120
    },
    "id": "CDjutAL44h4_",
    "outputId": "7ec1c989-c413-4d2e-c89e-0e4839378605"
   },
   "outputs": [
    {
     "name": "stderr",
     "output_type": "stream",
     "text": [
      "C:\\Users\\jorge\\Anaconda3\\lib\\site-packages\\IPython\\core\\display.py:701: UserWarning: Consider using IPython.display.IFrame instead\n",
      "  warnings.warn(\"Consider using IPython.display.IFrame instead\")\n"
     ]
    },
    {
     "data": {
      "text/html": [
       "<iframe width=\"560\" height=\"315\" src=\"https://www.youtube.com/embed/sy-1gsp6ISw\" frameborder=\"0\" allow=\"accelerometer; autoplay; encrypted-media; gyroscope; picture-in-picture\" allowfullscreen></iframe>"
      ],
      "text/plain": [
       "<IPython.core.display.HTML object>"
      ]
     },
     "execution_count": 3,
     "metadata": {},
     "output_type": "execute_result"
    }
   ],
   "source": [
    "from IPython.display import HTML\n",
    "HTML('<iframe width=\"560\" height=\"315\" src=\"https://www.youtube.com/embed/sy-1gsp6ISw\" frameborder=\"0\" allow=\"accelerometer; autoplay; encrypted-media; gyroscope; picture-in-picture\" allowfullscreen></iframe>')"
   ]
  },
  {
   "cell_type": "code",
   "execution_count": 4,
   "metadata": {
    "colab": {
     "base_uri": "https://localhost:8080/",
     "height": 336
    },
    "colab_type": "code",
    "executionInfo": {
     "elapsed": 986,
     "status": "ok",
     "timestamp": 1588011982694,
     "user": {
      "displayName": "Filipe Rodrigues",
      "photoUrl": "https://lh3.googleusercontent.com/a-/AOh14GgANv2Od365vLQDnVjoxw2PUote-kpb5nugTmcQwA=s64",
      "userId": "15636531912642599438"
     },
     "user_tz": -120
    },
    "id": "J79Mvnwt4vtY",
    "outputId": "aa6c6944-bd44-4531-e3e0-245c828ebcbe"
   },
   "outputs": [
    {
     "data": {
      "text/html": [
       "<iframe width=\"560\" height=\"315\" src=\"https://www.youtube.com/embed/EmFvhvjqh_Y\" frameborder=\"0\" allow=\"accelerometer; autoplay; encrypted-media; gyroscope; picture-in-picture\" allowfullscreen></iframe>"
      ],
      "text/plain": [
       "<IPython.core.display.HTML object>"
      ]
     },
     "execution_count": 4,
     "metadata": {},
     "output_type": "execute_result"
    }
   ],
   "source": [
    "from IPython.display import HTML\n",
    "HTML('<iframe width=\"560\" height=\"315\" src=\"https://www.youtube.com/embed/EmFvhvjqh_Y\" frameborder=\"0\" allow=\"accelerometer; autoplay; encrypted-media; gyroscope; picture-in-picture\" allowfullscreen></iframe>')"
   ]
  },
  {
   "cell_type": "markdown",
   "metadata": {
    "colab_type": "text",
    "id": "ORHN3rGn4HTk"
   },
   "source": [
    "## Generate artificial data: Ancestral sampling\n",
    "\n",
    "In this notebook, we shall consider a simple Bayesian Gaussian mixture model corresponding to the following generative process:\n",
    "\n",
    "1. For each cluster $k \\in \\{1,\\dots,K)$:\n",
    "    2. Draw cluster center $\\mu_k \\sim \\mathcal{N}(\\mu_k|0, \\tau^2)$\n",
    "3. For each data point $1,\\dots,N$:\n",
    "    4. Draw cluster assignment $z_n \\sim \\mbox{Multinomial}(z_n|\\boldsymbol\\pi)$\n",
    "    5. Draw observed data point $x_n \\sim \\mathcal{N}(x_n|\\mu_{z_n}, \\sigma^2)$\n",
    "\n",
    "For the sake of simplicity, we shall assume the values of $\\boldsymbol\\pi$, $\\tau^2$ and $\\sigma^2$ to be given."
   ]
  },
  {
   "cell_type": "code",
   "execution_count": 5,
   "metadata": {
    "colab": {},
    "colab_type": "code",
    "id": "Za-MW7sA4HTk"
   },
   "outputs": [],
   "source": [
    "tau = 10\n",
    "tau2 = tau**2\n",
    "sigma = 0.5\n",
    "sigma2 = sigma**2\n",
    "pi = np.array([0.2,0.3,0.5])"
   ]
  },
  {
   "cell_type": "markdown",
   "metadata": {
    "colab_type": "text",
    "id": "OHXYWKJj4HTo"
   },
   "source": [
    "We can now use ancestral sampling to sample from our Bayesian linear regression model:"
   ]
  },
  {
   "cell_type": "code",
   "execution_count": 6,
   "metadata": {
    "colab": {},
    "colab_type": "code",
    "id": "xHhpDneA4HTp",
    "outputId": "cda0cef6-c0f6-407c-c24f-8d99571e8c63"
   },
   "outputs": [
    {
     "name": "stdout",
     "output_type": "stream",
     "text": [
      "true mu: [ 4.96714153 -1.38264301  6.47688538]\n"
     ]
    }
   ],
   "source": [
    "N = 100\n",
    "K = 3\n",
    "\n",
    "mu = np.zeros(K)\n",
    "for k in range(K):\n",
    "    # sample cluster centers\n",
    "    mu[k] = np.random.normal(0, tau)\n",
    "\n",
    "print(\"true mu:\", mu)\n",
    "    \n",
    "z = np.zeros(N)\n",
    "x = np.zeros(N)\n",
    "for n in range(N):\n",
    "    # sample cluster assignment\n",
    "    z_n = np.argmax(np.random.multinomial(1, pi))\n",
    "    z[n] = z_n # save true z_n's just for debug\n",
    "    \n",
    "    # sample observed data point (accordint to cluster assignment)\n",
    "    x[n] = np.random.normal(mu[z_n], sigma)"
   ]
  },
  {
   "cell_type": "markdown",
   "metadata": {
    "colab_type": "text",
    "id": "tA2d0TQE4HTt"
   },
   "source": [
    "We can visualize the distribution of our $N$ sampled observations $\\{x_1,\\dots,x_N\\}$:"
   ]
  },
  {
   "cell_type": "code",
   "execution_count": 7,
   "metadata": {
    "colab": {},
    "colab_type": "code",
    "id": "BWLyjjvE4HTu",
    "outputId": "1cdd9057-c6c9-4635-e213-317c7be5306f"
   },
   "outputs": [
    {
     "data": {
      "image/png": "[encoded data removed]",
      "text/plain": [
       "<Figure size 864x576 with 1 Axes>"
      ]
     },
     "metadata": {},
     "output_type": "display_data"
    }
   ],
   "source": [
    "plt.hist(x, bins=20)\n",
    "plt.show()"
   ]
  },
  {
   "cell_type": "markdown",
   "metadata": {
    "colab_type": "text",
    "id": "W1d5Jaqi4HTy"
   },
   "source": [
    "## Variational inference\n",
    "\n",
    "### Step 1: Setup\n",
    "\n",
    "The joint distribution is given by (ignoring the fixed parameters):\n",
    "\n",
    "\\begin{align}\n",
    "    p(\\boldsymbol\\mu, \\textbf{z}, \\textbf{x}) &= \\Bigg( \\prod_{k=1}^K \\mathcal{N}(\\mu_k|0,\\tau^2) \\Bigg)  \\, \\prod_{n=1}^N \\mbox{Mult}(z_n|\\boldsymbol\\pi) \\, \\mathcal{N}(x_n|\\mu_{z_n}, \\sigma^2)\n",
    "\\end{align}\n",
    "\n",
    "where $\\boldsymbol\\mu = \\{\\mu_1,\\dots,\\mu_K\\}$, $\\textbf{x} = \\{x_1,\\dots,x_N\\}$ and $\\textbf{z} = \\{z_1,\\dots,z_N\\}$.\n",
    "\n",
    "Our goal is to compute the posterior over $\\boldsymbol\\mu$ and $\\textbf{z}$:\n",
    "\n",
    "\\begin{align}\n",
    "    p(\\boldsymbol\\mu, \\textbf{z} | \\textbf{x}) = \\frac{p(\\boldsymbol\\mu, \\textbf{z}, \\textbf{x})}{\\int_{\\boldsymbol\\mu} \\sum_{\\textbf{z}} p(\\boldsymbol\\mu, \\textbf{z}, \\textbf{x})} \\nonumber\n",
    "\\end{align}\n",
    "\n",
    "In variational inference, namely in mean-field variational inference, we approximate $p(\\boldsymbol\\mu, \\textbf{z} | \\textbf{x})$ with a fully-factorized distribution $q(\\boldsymbol\\mu, \\textbf{z})$:\n",
    "\n",
    "\\begin{align}\n",
    "    q(\\boldsymbol\\mu, \\textbf{z}) = \\Bigg( \\prod_{k=1}^K \\mathcal{N}(\\mu_k|\\tilde{\\mu}_k,\\tilde{\\sigma}_k) \\Bigg)  \\, \\prod_{n=1}^N \\mbox{Mult}(z_n|\\boldsymbol\\phi_n)\\nonumber\n",
    "\\end{align}\n",
    "\n",
    "Our goal is to find the variational parameters $\\tilde\\mu_k$, $\\tilde\\sigma_k$ and $\\boldsymbol\\phi_n$ that maximize the ELBO $\\mathcal{L}(q)$:\n",
    "\n",
    "\\begin{align}\n",
    "\t\\mathcal{L}(q) &= \\mathbb{E}_q[ \\log p(\\boldsymbol\\mu, \\textbf{z}, \\textbf{x}) ] - \\mathbb{E}_q[ \\log q(\\boldsymbol\\mu, \\textbf{z}) ] \\nonumber\n",
    "\\end{align}\n",
    "\n",
    "### Step 2: Computing the ELBO\n",
    "\n",
    "Because $q$ is fully factorized, the expectations in $\\mathcal{L}(q)$ decompose into sums of simpler terms:\n",
    "\n",
    "\\begin{align}\n",
    "\t\\mathbb{E}_q[ \\log p(\\boldsymbol\\mu, \\textbf{z}, \\textbf{x}) ] = \\sum_{k=1}^K \\mathbb{E}_q[\\log \\mathcal{N}(\\mu_k|0,\\tau^2)] + \\sum_{n=1}^N \\mathbb{E}_q[\\log \\mbox{Mult}(z_n|\\boldsymbol\\pi)] + \\sum_{n=1}^N \\mathbb{E}_q[\\log \\mathcal{N}(x_n|\\mu_{z_n},\\sigma^2) ]\\nonumber\n",
    "\\end{align}\n",
    "\n",
    "\\begin{align}\n",
    "\t\\mathbb{E}_q[ \\log q(\\boldsymbol\\mu, \\textbf{z}) ] &= \\sum_{k=1}^K \\mathbb{E}_q[\\log \\mathcal{N}(\\mu_k|\\tilde{\\mu}_k,\\tilde{\\sigma}_k)] + \\sum_{n=1}^N \\mathbb{E}_q[\\log \\mbox{Mult}(z_n|\\boldsymbol\\phi_n)] \\nonumber\n",
    "\\end{align}\n",
    "\n",
    "Now, we have to compute the required terms (expectations). It is a bit cumbersome, but generally easy... (Note: be careful not to confuse the mixing proportions parameter $\\boldsymbol\\pi = \\{\\pi_1,\\dots,\\pi_k\\}$ with the value of $\\pi$ that comes from the PDF of the Gaussian :-)\n",
    "\n",
    "\\begin{align}\n",
    "\t\\mathbb{E}_q[\\log \\mathcal{N}(\\mu_k|0,\\tau^2)] &= \\mathbb{E}_q\\Bigg[\\log \\Bigg( \\frac{1}{\\sqrt{2\\pi\\tau^2}} \\, \\exp{ \\bigg(-\\frac{\\mu_k^2}{2\\tau^2}\\bigg) } \\Bigg)\\Bigg] = -\\frac{1}{2}\\log (2\\pi\\tau^2) - \\frac{\\mathbb{E}_q[\\mu_k^2]}{2\\tau^2}\\nonumber\\\\\n",
    "    \\mathbb{E}_q[\\log \\mbox{Mult}(z_n|\\boldsymbol\\pi)] &= \\mathbb{E}_q\\Bigg[\\log \\prod_{i=1}^K (\\pi_i)^{z_{n,i}}\\Bigg] = \\sum_{i=1}^K \\phi_{n,i} \\, \\log \\pi_i \\nonumber\\\\\n",
    "    \\mathbb{E}_q[\\log \\mathcal{N}(x_n|\\mu_{z_n},\\sigma^2)] &= \\mathbb{E}_q\\Bigg[\\log \\Bigg( \\frac{1}{\\sqrt{2\\pi\\sigma^2}} \\, \\exp{ \\bigg(-\\frac{(x_n - \\mu_{z_n})^2}{2\\sigma^2}\\bigg) } \\Bigg)\\Bigg] = -\\frac{1}{2}\\log (2\\pi\\sigma^2) - \\frac{x_n^2}{2\\sigma^2} + \\frac{x_n \\mathbb{E}_q[\\mu_{z_n}]}{2\\sigma^2} - \\frac{\\mathbb{E}_q[\\mu_{z_n}^2]}{2\\sigma^2}\\nonumber\\\\ \\nonumber\\\\\n",
    "    \\mathbb{E}_q[\\log \\mathcal{N}(\\mu_k|\\tilde{\\mu}_k,\\tilde\\sigma_k^2)] &= \\mathbb{E}_q\\Bigg[\\log \\Bigg( \\frac{1}{\\sqrt{2\\pi\\tilde\\sigma_k^2}} \\, \\exp{ \\bigg(-\\frac{(\\mu_k - \\tilde\\mu_k)^2}{2\\tilde\\sigma_k^2}\\bigg) } \\Bigg)\\Bigg] = -\\frac{1}{2}\\log (2\\pi\\tilde\\sigma_k^2) - \\frac{1}{2} \\nonumber\\\\\n",
    "    \\mathbb{E}_q[\\log \\mbox{Mult}(z_n|\\boldsymbol\\phi)] &= \\mathbb{E}_q\\Bigg[\\log \\prod_{i=1}^K (\\phi_i)^{z_{n,i}}\\Bigg] = \\sum_{i=1}^K \\phi_{n,i} \\, \\log \\phi_{n,i} \\nonumber\n",
    "\\end{align}\n",
    "\n",
    "where\n",
    "\n",
    "\\begin{align}\n",
    "\t\\mathbb{E}_q[\\mu_k] &= \\tilde\\mu_k \\nonumber\\\\\n",
    "\t\\mathbb{E}_q[\\mu_k^2] &= \\tilde\\sigma_k^2 + \\tilde\\mu_k^2 \\nonumber\\\\\n",
    "\t\\mathbb{E}_q[\\mu_{z_n}] &= \\sum_{i=1}^K \\phi_{n,i} \\, \\tilde\\mu_i \\nonumber\\\\\n",
    "\t\\mathbb{E}_q[\\mu_{z_n}^2] &= \\sum_{i=1}^K \\phi_{n,i} \\, (\\tilde\\sigma_k^2 + \\tilde\\mu_k^2) \\nonumber\n",
    "\\end{align}\n",
    "\n",
    "Now that have determined the expressions for all the terms, we cam compute the ELBO in python. Careful, as this is quite error-prone..."
   ]
  },
  {
   "cell_type": "code",
   "execution_count": 8,
   "metadata": {
    "colab": {},
    "colab_type": "code",
    "id": "oi5kFkt94HTy"
   },
   "outputs": [],
   "source": [
    "def elbo(phi, mu_tilde, sigma_tilde):\n",
    "    lb = 0.0\n",
    "    \n",
    "    for k in range(K):\n",
    "        lb += -.5*np.log(2*np.pi*tau2) - (sigma2_tilde[k] + mu_tilde[k]**2)/(2*tau2)\n",
    "        lb -= -.5*np.log(2*np.pi*sigma2_tilde[k]) - .5\n",
    "\n",
    "    for n in range(N):\n",
    "        lb += np.sum(phi[n,:] * np.log(pi))\n",
    "        lb += -.5*np.log(2*np.pi*sigma2) - (x[n]**2)/(2*sigma2) + (np.sum(phi[n,:] * mu_tilde)*x[n])/sigma2 - np.sum(phi[n,:] * (sigma2_tilde + mu_tilde**2))/(2*sigma2)\n",
    "        lb -= np.sum(np.ma.filled(phi[n,:] * np.ma.log(phi[n,:]), 0))\n",
    "\n",
    "    return lb"
   ]
  },
  {
   "cell_type": "markdown",
   "metadata": {
    "colab_type": "text",
    "id": "bUhcwsVl4HT3"
   },
   "source": [
    "### Step 3: Determining the coordinate ascent updates\n",
    "\n",
    "We now have an analytical expression for our evidence lower bound (ELBO), $\\mathcal{L}(q)$. Our next step is maximize it with respect to the variational parameters $\\tilde\\mu_k$, $\\tilde\\sigma_k$ and $\\boldsymbol\\phi_n$. For that, we shall use coordinate ascent.\n",
    "\n",
    "In coordinate ascent, we iteratively optimize each of the variational parameters in $q(\\boldsymbol\\mu, \\textbf{z})$ in turn, holding the others fixed, until a convergence criteria is met. \n",
    "\n",
    "In order to maximize the ELBO with respect to a variational parameter, we find the terms in the ELBO $\\mathcal{L}(q)$ that contain it, and then we take derivatives of the ELBO with respect to that parameter:\n",
    "\n",
    "\\begin{align}\n",
    "\t\\frac{\\partial \\mathcal{L}(q)}{\\partial \\tilde\\mu_k} &= \\, ?\\nonumber\n",
    "\\end{align}\n",
    "\n",
    "\\begin{align}\n",
    "\t\\frac{\\partial \\mathcal{L}(q)}{\\partial \\tilde\\sigma_k} &= \\, ?\\nonumber\n",
    "\\end{align}\n",
    "\n",
    "\\begin{align}\n",
    "\t\\frac{\\partial \\mathcal{L}(q)}{\\partial \\tilde\\phi_{n,k}} &= \\, ?\\nonumber\n",
    "\\end{align}\n",
    "\n",
    "Finally, we set the derivatives to zero in order to find the optimum (i.e. the coordinate ascent updates):\n",
    "\n",
    "\\begin{align}\n",
    "\t\\tilde\\mu_k &= \\, ?\\nonumber\n",
    "\\end{align}\n",
    "\n",
    "\\begin{align}\n",
    "\t\\tilde\\sigma_k &= \\, ?\\nonumber\n",
    "\\end{align}\n",
    "\n",
    "\\begin{align}\n",
    "\t\\tilde\\phi_{n,k} &= \\, ?\\nonumber\n",
    "\\end{align}\n",
    "\n",
    "Note: Since the parameters $\\phi_{n,k}$ are required to sum to 1, i.e. $\\sum_{k=1}^K \\phi_{n,k} = 1$, we will use Lagrange multipliers to ensure that constraint. If you haven't used Lagrange multiplers of this type before, you will see that it is quite easy :-) See this quick recap: https://www.khanacademy.org/math/multivariable-calculus/applications-of-multivariable-derivatives/constrained-optimization/a/lagrange-multipliers-examples\n",
    "\n",
    "For a detailed explaination refer to Appendix E of Chris Bishop’s book, “Pattern Recognition and Machine Learning” (PRML).\n",
    "\n",
    "### Step 4: Implementation\n",
    "\n",
    "Once we determined closed-form solution for the coordinate ascent updates (note that this is not always possible!!), we are ready to implement variational inference algorithm.\n",
    "\n",
    "We start by initializing the variational parameters $\\tilde\\mu_k$, $\\tilde\\sigma_k$ and $\\boldsymbol\\phi_n$. A reasonable initialization can be very important!!"
   ]
  },
  {
   "cell_type": "code",
   "execution_count": 9,
   "metadata": {
    "colab": {},
    "colab_type": "code",
    "id": "u1W4YaAX4HT4",
    "outputId": "70faa55b-84ce-455b-b338-23fcc7fc0fd5"
   },
   "outputs": [
    {
     "name": "stdout",
     "output_type": "stream",
     "text": [
      "initial mu_tilde: [5.62051425 0.36993171 2.05358184]\n",
      "initial sigma2_tilde: [10.33868707 10.33868707 10.33868707]\n",
      "initial elbo: -5402.603205873912\n"
     ]
    }
   ],
   "source": [
    "# create data structures for keeping variational parameters\n",
    "mu_tilde = np.zeros(K)\n",
    "sigma2_tilde = np.zeros(K)\n",
    "phi = np.zeros((N,K))\n",
    "\n",
    "# initialize variational parameters\n",
    "for k in range(K):\n",
    "    mu_tilde[k] = np.random.uniform(x.min(), x.max())\n",
    "    sigma2_tilde[k] = np.var(x)\n",
    "for n in range(N):\n",
    "    phi[n] = np.random.multinomial(1, pi)\n",
    "    \n",
    "print(\"initial mu_tilde:\", mu_tilde)\n",
    "print(\"initial sigma2_tilde:\", sigma2_tilde)\n",
    "\n",
    "elbo_values = [elbo(phi, mu_tilde, sigma2_tilde)] # array to store the elbo values for all the VI iterations\n",
    "print(\"initial elbo:\", elbo_values[0])"
   ]
  },
  {
   "cell_type": "markdown",
   "metadata": {
    "colab_type": "text",
    "id": "exnHz7Jh4HT8"
   },
   "source": [
    "We now run the coordinate ascent updates iteratively, until a convergence criteria is met. In this case, we stop when the difference of the ELBO between two consecutive iterations is less than a threshold."
   ]
  },
  {
   "cell_type": "code",
   "execution_count": 12,
   "metadata": {
    "colab": {},
    "colab_type": "code",
    "id": "fnyr6hlW4HT9",
    "outputId": "e2dca215-6182-4618-8aa2-7782fe3aa92b"
   },
   "outputs": [
    {
     "name": "stdout",
     "output_type": "stream",
     "text": [
      "\n",
      "iteration: 1\n",
      "mu_tilde: [ 6.55980903 -1.16193491  5.24977647]\n",
      "sigma2_tilde: [0.00736988 0.0092584  0.00639662]\n",
      "elbo: -194.0070322754797\n"
     ]
    }
   ],
   "source": [
    "# run variational inference\n",
    "THRESHOLD = 0.1\n",
    "\n",
    "iteration = 0\n",
    "while True:\n",
    "    iteration += 1\n",
    "    \n",
    "    # compute mu_tilde and sigma2_tilde for each k\n",
    "    for k in range(K):\n",
    "        mu_tilde[k] = (np.sum(phi[:,k] * x)/sigma2) / (1./tau2 + np.sum(phi[:,k])/sigma2)\n",
    "        sigma2_tilde[k] = 1. / (1./tau2 + np.sum(phi[:,k])/sigma2)\n",
    "        \n",
    "    # compute phi_n for each n\n",
    "    for n in range(N):\n",
    "        for k in range(K):\n",
    "            phi[n,k] = np.exp(np.log(pi[k]) + ((mu_tilde[k]*x[n])/(sigma2)) - (sigma2_tilde[k]+mu_tilde[k]**2)/(2*sigma2))\n",
    "        \n",
    "        # don't forget to normalize the values of phi_n in the end!\n",
    "        phi[n] = phi[n] / np.sum(phi[n])\n",
    "    \n",
    "    # print variational parameters (except phi_n)\n",
    "    print(\"\\niteration:\", iteration)\n",
    "    print(\"mu_tilde:\", mu_tilde)\n",
    "    print(\"sigma2_tilde:\", sigma2_tilde)\n",
    "    \n",
    "    # compute value of the elbo\n",
    "    lb = elbo(phi, mu_tilde, sigma2_tilde)\n",
    "    print(\"elbo:\", lb)\n",
    "    \n",
    "    elbo_values += [lb] # keep track of all elbo values\n",
    "    \n",
    "    # check if the VI algorithm has converged\n",
    "    if (elbo_values[-1] - elbo_values[-2]) < THRESHOLD:\n",
    "        break"
   ]
  },
  {
   "cell_type": "markdown",
   "metadata": {
    "colab_type": "text",
    "id": "ATfnJzJ94HUB"
   },
   "source": [
    "Notice how fast this VI algorithm is compared to running MCMC (e.g. NUTS) or even ADVI in STAN! But, remember that this is a specialized inference algorithm that we derived and implemented just for this model. On the other hand, NUTS and ADVI are general algorithms that work for **any** model that you specify! (well, at least ignoring the discrete latent variables limitation...)\n",
    "\n",
    "A good advice is to always plot the evolution of the ELBO over the iterations. \n",
    "\n",
    "Notice that the curve should be monotonically increasing. The ELBO should never decrease between two consecutive iterations! If it does, then we made a mistake somewhere :-)"
   ]
  },
  {
   "cell_type": "code",
   "execution_count": 13,
   "metadata": {
    "colab": {},
    "colab_type": "code",
    "id": "F2chEuB-4HUB",
    "outputId": "48344f15-2af6-45df-b378-17670b97b8a2"
   },
   "outputs": [
    {
     "data": {
      "image/png": "[encoded data removed]",
      "text/plain": [
       "<Figure size 864x576 with 1 Axes>"
      ]
     },
     "metadata": {},
     "output_type": "display_data"
    }
   ],
   "source": [
    "plt.plot(elbo_values)\n",
    "plt.xlabel(\"iteration\")\n",
    "plt.ylabel(\"elbo\")\n",
    "plt.show()"
   ]
  },
  {
   "cell_type": "markdown",
   "metadata": {
    "colab_type": "text",
    "id": "VHBU7aL84HUF"
   },
   "source": [
    "Lastly, we can visualize the approximate posterior distributions for the means $q(\\mu_k|\\tilde\\mu_k,\\tilde\\sigma_k^2)$ and compare them with the true means $\\mu_k$ that we used to generate the data in the ancestral sampling procedure. This is another great check for debugging your derivations and implementation!\n",
    "\n",
    "This is why ancestral sampling is so useful. We use it to generate artificial data, but since the data is artificially generated, we know the true values of latent variables that we are trying to infer. Therefore, we can use it to check if our inference algorithm is able to recover the true values, or at least approximate them well :-)"
   ]
  },
  {
   "cell_type": "code",
   "execution_count": 14,
   "metadata": {
    "colab": {},
    "colab_type": "code",
    "id": "8Zd2EMYc4HUG",
    "outputId": "5b07c70b-6d8c-493c-908c-f39bdaeddc44"
   },
   "outputs": [
    {
     "data": {
      "image/png": "[encoded data removed]",
      "text/plain": [
       "<Figure size 864x576 with 1 Axes>"
      ]
     },
     "metadata": {},
     "output_type": "display_data"
    }
   ],
   "source": [
    "pts = np.arange(x.min(), x.max(), 0.001)\n",
    "for k in range(K):\n",
    "    plt.plot(pts, norm.pdf(pts, mu[k], sigma), ls='dashed')\n",
    "for k in range(K):\n",
    "    plt.plot(pts, norm.pdf(pts, mu_tilde[k], np.sqrt(sigma2_tilde[k])))\n",
    "plt.scatter(x, np.zeros(N), marker='x')\n",
    "plt.legend([\"mu%d_true\" % (k+1,) for k in range(K)] + [\"mu%d_approx\" % (k+1,) for k in range(K)])\n",
    "plt.show()"
   ]
  },
  {
   "cell_type": "markdown",
   "metadata": {
    "colab_type": "text",
    "id": "z4ZBgSmm4HUJ"
   },
   "source": [
    "In this case, we can observe that the mean of approximate distribution $q$ is fairly close to the true mean, but the variance is bit off. Specifically, we can observe that the approximate distribution is overly confident. This is a typical property of variational inference! (Check slide 11 of Lecture 11 for details)"
   ]
  }
 ],
 "metadata": {
  "colab": {
   "collapsed_sections": [],
   "name": "11 - Variational inference - Bayesian GMM.ipynb",
   "provenance": []
  },
  "kernelspec": {
   "display_name": "Python 3",
   "language": "python",
   "name": "python3"
  },
  "language_info": {
   "codemirror_mode": {
    "name": "ipython",
    "version": 3
   },
   "file_extension": ".py",
   "mimetype": "text/x-python",
   "name": "python",
   "nbconvert_exporter": "python",
   "pygments_lexer": "ipython3",
   "version": "3.7.6"
  }
 },
 "nbformat": 4,
 "nbformat_minor": 1
}
