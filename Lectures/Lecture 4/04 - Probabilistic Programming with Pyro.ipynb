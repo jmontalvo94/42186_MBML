{
 "cells": [
  {
   "cell_type": "markdown",
   "metadata": {
    "colab_type": "text",
    "id": "6PeTjpczZyjx"
   },
   "source": [
    "# Week 4 - Probabilistic Programming with Pyro"
   ]
  },
  {
   "cell_type": "markdown",
   "metadata": {
    "colab_type": "text",
    "id": "Wy_KJNZEZyj1"
   },
   "source": [
    "## Part 1 - Introduction to Pyro"
   ]
  },
  {
   "cell_type": "markdown",
   "metadata": {
    "colab_type": "text",
    "id": "NS_yO9qoZyj2"
   },
   "source": [
    "Hello again. We've finally arrived to Pyro - a platform for probabilistic programming!\n",
    "\n",
    "The main purpose of this notebook is to introduce Pyro. Afterwards, **it is highly recommended that you complement the information in this notebook with the following 2 official introduction tutorials from the Pyro developers**:\n",
    "- https://pyro.ai/examples/intro_part_i.html\n",
    "- https://pyro.ai/examples/intro_part_ii.html"
   ]
  },
  {
   "cell_type": "markdown",
   "metadata": {
    "colab_type": "text",
    "id": "rDkddc93Zyj3"
   },
   "source": [
    "...the usual imports...\n",
    "\n",
    "well, notice the new packages!!"
   ]
  },
  {
   "cell_type": "code",
   "execution_count": 12,
   "metadata": {
    "colab": {
     "base_uri": "https://localhost:8080/",
     "height": 395
    },
    "colab_type": "code",
    "executionInfo": {
     "elapsed": 8036,
     "status": "ok",
     "timestamp": 1581933154985,
     "user": {
      "displayName": "Filipe Rodrigues",
      "photoUrl": "https://lh3.googleusercontent.com/a-/AAuE7mDaWEE0j1oWjHLxVkWKYDXRh8NUBFCgGYF0XZOsvA=s64",
      "userId": "15636531912642599438"
     },
     "user_tz": -60
    },
    "id": "RQUnWcAsSb2g",
    "outputId": "7a7af606-36b2-41a4-b7fe-483e8719e5b8"
   },
   "outputs": [],
   "source": [
    "# If Pyro is not installed in your Jupyter environment, you can install it using the following command. \n",
    "# Note: you will probably also need to restart you runtime.\n",
    "#!pip install pyro-ppl"
   ]
  },
  {
   "cell_type": "code",
   "execution_count": 66,
   "metadata": {
    "colab": {},
    "colab_type": "code",
    "id": "-s0pyO9BZyj4"
   },
   "outputs": [],
   "source": [
    "import numpy as np\n",
    "import matplotlib.pyplot as plt\n",
    "import random\n",
    "import torch\n",
    "import pyro\n",
    "import seaborn as sns\n",
    "\n",
    "# matplotlib options\n",
    "plt.style.use('ggplot')\n",
    "%matplotlib inline\n",
    "plt.rcParams['figure.figsize'] = (12, 8)"
   ]
  },
  {
   "cell_type": "code",
   "execution_count": 67,
   "metadata": {
    "colab": {},
    "colab_type": "code",
    "id": "mv7BHAhLZyj9"
   },
   "outputs": [],
   "source": [
    "# usually have to run this twice to take effect\n",
    "plt.style.use('ggplot')\n",
    "%matplotlib inline\n",
    "plt.rcParams['figure.figsize'] = (12, 8)"
   ]
  },
  {
   "cell_type": "markdown",
   "metadata": {
    "colab_type": "text",
    "id": "jwTyQok6ZykB"
   },
   "source": [
    "### 1.1. Pyro's distribution library"
   ]
  },
  {
   "cell_type": "markdown",
   "metadata": {
    "colab_type": "text",
    "id": "f-kVCq5UTH2I"
   },
   "source": [
    "Pyro's distribution library ```pyro.distributions``` is built on top of PyTorch's distributions ```torch.distributions``` in order to make use of PyTorch's fast tensor math and autograd (automatic differentiation) capabilities during inference. \n",
    "\n",
    "You can define a new distribution as follows:"
   ]
  },
  {
   "cell_type": "code",
   "execution_count": 68,
   "metadata": {
    "colab": {},
    "colab_type": "code",
    "id": "BCuR0PTzTfUr"
   },
   "outputs": [],
   "source": [
    "μ = 0.\n",
    "σ = 1.\n",
    "my_dist = pyro.distributions.Normal(loc=μ, scale=σ)"
   ]
  },
  {
   "cell_type": "markdown",
   "metadata": {
    "colab_type": "text",
    "id": "-Q7vBBfXT3QL"
   },
   "source": [
    "Using the ```my_dist``` object that we have just instantiated, we can draw samples from the corresponding distribution:"
   ]
  },
  {
   "cell_type": "code",
   "execution_count": 69,
   "metadata": {
    "colab": {
     "base_uri": "https://localhost:8080/",
     "height": 34
    },
    "colab_type": "code",
    "executionInfo": {
     "elapsed": 777,
     "status": "ok",
     "timestamp": 1581933218157,
     "user": {
      "displayName": "Filipe Rodrigues",
      "photoUrl": "https://lh3.googleusercontent.com/a-/AAuE7mDaWEE0j1oWjHLxVkWKYDXRh8NUBFCgGYF0XZOsvA=s64",
      "userId": "15636531912642599438"
     },
     "user_tz": -60
    },
    "id": "DjeK4tKyULi9",
    "outputId": "1d3f68e6-5300-4777-84cc-5380a4741093"
   },
   "outputs": [
    {
     "name": "stdout",
     "output_type": "stream",
     "text": [
      "x: tensor(-1.7613)\n"
     ]
    }
   ],
   "source": [
    "x = my_dist.sample()\n",
    "print(\"x:\", x)"
   ]
  },
  {
   "cell_type": "markdown",
   "metadata": {
    "colab_type": "text",
    "id": "IuYl4HeMkG74"
   },
   "source": [
    "Notice that the function returns a PyTorch ```tensor``` object. Fortunately, it is extremely easy to convert back and forward between Numpy vectors and matrices and PyTorch tensors. Check the some of the options below:"
   ]
  },
  {
   "cell_type": "code",
   "execution_count": 70,
   "metadata": {
    "colab": {
     "base_uri": "https://localhost:8080/",
     "height": 68
    },
    "colab_type": "code",
    "executionInfo": {
     "elapsed": 824,
     "status": "ok",
     "timestamp": 1581933235871,
     "user": {
      "displayName": "Filipe Rodrigues",
      "photoUrl": "https://lh3.googleusercontent.com/a-/AAuE7mDaWEE0j1oWjHLxVkWKYDXRh8NUBFCgGYF0XZOsvA=s64",
      "userId": "15636531912642599438"
     },
     "user_tz": -60
    },
    "id": "T4l_6hAJkVNX",
    "outputId": "1c24453c-f8f9-414f-b81b-e0cdbcfd804c"
   },
   "outputs": [
    {
     "name": "stdout",
     "output_type": "stream",
     "text": [
      "tensor([1, 2, 3]) <class 'torch.Tensor'>\n",
      "[1 2 3] <class 'numpy.ndarray'>\n",
      "tensor([1, 2, 3]) <class 'torch.Tensor'>\n"
     ]
    }
   ],
   "source": [
    "# from Python list to PyTorch tensor\n",
    "x = [1,2,3]\n",
    "x = torch.tensor(x)\n",
    "print(x, type(x))\n",
    "\n",
    "# from PyTorch tensor to Numpy ndarray\n",
    "x = x.numpy()\n",
    "print(x, type(x))\n",
    "\n",
    "# from Numpy ndarray back to PyTorch tensor\n",
    "x = torch.from_numpy(x)\n",
    "print(x, type(x))"
   ]
  },
  {
   "cell_type": "markdown",
   "metadata": {
    "colab_type": "text",
    "id": "KWzWzroaUVVv"
   },
   "source": [
    "\n",
    "\n",
    "We can also draw multiple independent samples (in this case a 20x2 matrix of independent samples) using the following PyTorch-style syntax:"
   ]
  },
  {
   "cell_type": "code",
   "execution_count": 71,
   "metadata": {
    "colab": {
     "base_uri": "https://localhost:8080/",
     "height": 204
    },
    "colab_type": "code",
    "executionInfo": {
     "elapsed": 1074,
     "status": "ok",
     "timestamp": 1581933308745,
     "user": {
      "displayName": "Filipe Rodrigues",
      "photoUrl": "https://lh3.googleusercontent.com/a-/AAuE7mDaWEE0j1oWjHLxVkWKYDXRh8NUBFCgGYF0XZOsvA=s64",
      "userId": "15636531912642599438"
     },
     "user_tz": -60
    },
    "id": "Pm8I54ioUUhW",
    "outputId": "6a219105-605c-4315-b372-aa2e7ce85786"
   },
   "outputs": [
    {
     "name": "stdout",
     "output_type": "stream",
     "text": [
      "Shape of x: torch.Size([10, 2])\n",
      "x: tensor([[ 0.1364,  0.7162],\n",
      "        [-0.7745, -0.6319],\n",
      "        [ 0.5538, -0.6158],\n",
      "        [-0.2643,  0.2296],\n",
      "        [-0.2205,  1.0005],\n",
      "        [-1.4879, -0.4317],\n",
      "        [ 2.0705,  1.2550],\n",
      "        [ 0.3139, -0.9734],\n",
      "        [-0.0482,  0.2730],\n",
      "        [ 0.4841, -0.3402]])\n"
     ]
    }
   ],
   "source": [
    "x = my_dist.sample(sample_shape=torch.Size([10,2]))\n",
    "print(\"Shape of x:\", x.shape)\n",
    "print(\"x:\", x)"
   ]
  },
  {
   "cell_type": "markdown",
   "metadata": {
    "colab_type": "text",
    "id": "0qeAeIS7WBve"
   },
   "source": [
    "Given a collection of samples ```x```, we can also compute their log-probability under the distribution ```my_dist``` as follows:"
   ]
  },
  {
   "cell_type": "code",
   "execution_count": 72,
   "metadata": {
    "colab": {
     "base_uri": "https://localhost:8080/",
     "height": 204
    },
    "colab_type": "code",
    "executionInfo": {
     "elapsed": 770,
     "status": "ok",
     "timestamp": 1581933334473,
     "user": {
      "displayName": "Filipe Rodrigues",
      "photoUrl": "https://lh3.googleusercontent.com/a-/AAuE7mDaWEE0j1oWjHLxVkWKYDXRh8NUBFCgGYF0XZOsvA=s64",
      "userId": "15636531912642599438"
     },
     "user_tz": -60
    },
    "id": "wW-0E4rVWS4M",
    "outputId": "8d00198f-b786-4c97-d16b-2e85f71f924f"
   },
   "outputs": [
    {
     "name": "stdout",
     "output_type": "stream",
     "text": [
      "Loglikelihood of samples in x:\n",
      " tensor([[-0.9282, -1.1754],\n",
      "        [-1.2188, -1.1186],\n",
      "        [-1.0723, -1.1085],\n",
      "        [-0.9539, -0.9453],\n",
      "        [-0.9432, -1.4195],\n",
      "        [-2.0259, -1.0121],\n",
      "        [-3.0624, -1.7065],\n",
      "        [-0.9682, -1.3927],\n",
      "        [-0.9201, -0.9562],\n",
      "        [-1.0361, -0.9768]])\n"
     ]
    }
   ],
   "source": [
    "print(\"Loglikelihood of samples in x:\\n\", my_dist.log_prob(x))"
   ]
  },
  {
   "cell_type": "markdown",
   "metadata": {
    "colab_type": "text",
    "id": "ZGtWmpWOWZlJ"
   },
   "source": [
    "Notice that, because the samples are assumed to be independent, the code above returns a log probability score for each sample. However, we can compute the log probability of the entire set of samples easily:"
   ]
  },
  {
   "cell_type": "code",
   "execution_count": 73,
   "metadata": {
    "colab": {
     "base_uri": "https://localhost:8080/",
     "height": 34
    },
    "colab_type": "code",
    "executionInfo": {
     "elapsed": 690,
     "status": "ok",
     "timestamp": 1581933375674,
     "user": {
      "displayName": "Filipe Rodrigues",
      "photoUrl": "https://lh3.googleusercontent.com/a-/AAuE7mDaWEE0j1oWjHLxVkWKYDXRh8NUBFCgGYF0XZOsvA=s64",
      "userId": "15636531912642599438"
     },
     "user_tz": -60
    },
    "id": "7Fb3AJZwW3kd",
    "outputId": "ffab3a62-ae75-49ab-ec02-25c9530b0c5a"
   },
   "outputs": [
    {
     "name": "stdout",
     "output_type": "stream",
     "text": [
      "Loglikelihood of entire dataset x: tensor(-24.9407)\n"
     ]
    }
   ],
   "source": [
    "print(\"Loglikelihood of entire dataset x:\", my_dist.log_prob(x).sum())"
   ]
  },
  {
   "cell_type": "markdown",
   "metadata": {
    "colab_type": "text",
    "id": "h3z3GB4inuUa"
   },
   "source": [
    "### 1.2. Tensor shapes and batch semantics in Pyro "
   ]
  },
  {
   "cell_type": "markdown",
   "metadata": {
    "colab_type": "text",
    "id": "xzePX_17n32U"
   },
   "source": [
    "Like Numpy ndarrays, PyTorch tensors have a single ```.shape``` attribute, but Pyro distributions have two shape attributions with special meaning: ```.batch_shape``` and ```.event_shape```. Can you check the ```.batch_shape``` and ```.event_shape``` of ```my_dist```?"
   ]
  },
  {
   "cell_type": "code",
   "execution_count": 74,
   "metadata": {},
   "outputs": [
    {
     "data": {
      "text/plain": [
       "torch.Size([])"
      ]
     },
     "execution_count": 74,
     "metadata": {},
     "output_type": "execute_result"
    }
   ],
   "source": [
    "my_dist.batch_shape\n",
    "my_dist.event_shape"
   ]
  },
  {
   "cell_type": "code",
   "execution_count": 75,
   "metadata": {
    "colab": {},
    "colab_type": "code",
    "id": "jfOIkSOud5Rs"
   },
   "outputs": [
    {
     "name": "stdout",
     "output_type": "stream",
     "text": [
      "batch_shape: torch.Size([10, 2])\n",
      "event_shape: torch.Size([])\n"
     ]
    }
   ],
   "source": [
    "my_dist = pyro.distributions.Normal(torch.zeros(10, 2), torch.ones(10, 2))\n",
    "print(\"batch_shape:\", my_dist.batch_shape)\n",
    "print(\"event_shape:\", my_dist.event_shape)"
   ]
  },
  {
   "cell_type": "markdown",
   "metadata": {
    "colab_type": "text",
    "id": "j-K6ZiL5d_Hb"
   },
   "source": [
    "Let's now take a sample from ```my_dist```:"
   ]
  },
  {
   "cell_type": "code",
   "execution_count": 76,
   "metadata": {
    "colab": {},
    "colab_type": "code",
    "id": "RLjLZgj5oSYA"
   },
   "outputs": [
    {
     "name": "stdout",
     "output_type": "stream",
     "text": [
      "tensor([[ 0.6699,  0.9670],\n",
      "        [-1.7285, -0.3797],\n",
      "        [ 0.9994,  2.1138],\n",
      "        [-0.4803, -1.0945],\n",
      "        [-0.0442, -1.1046],\n",
      "        [-0.2834, -0.7368],\n",
      "        [ 1.4068,  0.2434],\n",
      "        [-0.0939,  2.3367],\n",
      "        [-0.9894,  0.3135],\n",
      "        [ 0.3858, -1.0867]])\n"
     ]
    }
   ],
   "source": [
    "x = my_dist.sample()\n",
    "print(x)"
   ]
  },
  {
   "cell_type": "markdown",
   "metadata": {
    "colab_type": "text",
    "id": "8ngR4i5AeIgH"
   },
   "source": [
    "Now check the shape of the sample that you just obtained. Does it make sense? Notice how that is equal to the sum of the ```batch_shape``` and the ```event_shape```. Why?"
   ]
  },
  {
   "cell_type": "code",
   "execution_count": 77,
   "metadata": {
    "colab": {},
    "colab_type": "code",
    "id": "0QTAU-pFeH7F"
   },
   "outputs": [
    {
     "name": "stdout",
     "output_type": "stream",
     "text": [
      "torch.Size([10, 2])\n"
     ]
    }
   ],
   "source": [
    "print(x.shape)\n",
    "assert x.shape == my_dist.batch_shape + my_dist.event_shape"
   ]
  },
  {
   "cell_type": "markdown",
   "metadata": {
    "colab_type": "text",
    "id": "0v_L93YgofG2"
   },
   "source": [
    "Indices over ```.batch_shape``` denote conditionally independent random variables, whereas indices over ```.event_shape``` denote dependent random variables (ie one draw from a distribution). Because the dependent random variables define probability together, the ```.log_prob()``` method only produces a single number for each event of shape .event_shape. Thus the total shape of ```.log_prob()``` is ```.batch_shape```.\n",
    "\n",
    "Let's consider a concrete example:"
   ]
  },
  {
   "cell_type": "code",
   "execution_count": 79,
   "metadata": {
    "colab": {
     "base_uri": "https://localhost:8080/",
     "height": 68
    },
    "colab_type": "code",
    "executionInfo": {
     "elapsed": 745,
     "status": "ok",
     "timestamp": 1581934899556,
     "user": {
      "displayName": "Filipe Rodrigues",
      "photoUrl": "https://lh3.googleusercontent.com/a-/AAuE7mDaWEE0j1oWjHLxVkWKYDXRh8NUBFCgGYF0XZOsvA=s64",
      "userId": "15636531912642599438"
     },
     "user_tz": -60
    },
    "id": "xfWlU-dfo1zl",
    "outputId": "ede1cb71-2b3d-473f-e000-f52808563cf7"
   },
   "outputs": [
    {
     "name": "stdout",
     "output_type": "stream",
     "text": [
      "my_dist shape: torch.Size([10, 2])\n",
      "my_dist batch_shape: torch.Size([10, 2])\n",
      "my_dist event_shape: torch.Size([])\n"
     ]
    }
   ],
   "source": [
    "my_dist = pyro.distributions.Normal(torch.zeros(10, 2), torch.ones(10, 2))\n",
    "print(\"my_dist shape:\", my_dist.shape())\n",
    "print(\"my_dist batch_shape:\", my_dist.batch_shape)\n",
    "print(\"my_dist event_shape:\", my_dist.event_shape)"
   ]
  },
  {
   "cell_type": "markdown",
   "metadata": {
    "colab_type": "text",
    "id": "-jQiaLH3pJYR"
   },
   "source": [
    "This indicates that a sample from ```my_dist``` will correspond to 10x2 independent draws. Therefore, evaluating ```.log_prob()``` will return 10x2 log probability values:"
   ]
  },
  {
   "cell_type": "code",
   "execution_count": 80,
   "metadata": {
    "colab": {
     "base_uri": "https://localhost:8080/",
     "height": 51
    },
    "colab_type": "code",
    "executionInfo": {
     "elapsed": 835,
     "status": "ok",
     "timestamp": 1581934701880,
     "user": {
      "displayName": "Filipe Rodrigues",
      "photoUrl": "https://lh3.googleusercontent.com/a-/AAuE7mDaWEE0j1oWjHLxVkWKYDXRh8NUBFCgGYF0XZOsvA=s64",
      "userId": "15636531912642599438"
     },
     "user_tz": -60
    },
    "id": "ud4VsO9PpwCX",
    "outputId": "a3b928ed-c0c5-4d95-904e-b8268a23db2f"
   },
   "outputs": [
    {
     "name": "stdout",
     "output_type": "stream",
     "text": [
      "shape of sample x: torch.Size([10, 2])\n",
      "shape of log prob of x: torch.Size([10, 2])\n"
     ]
    }
   ],
   "source": [
    "x = my_dist.sample()\n",
    "print(\"shape of sample x:\", x.shape)\n",
    "print(\"shape of log prob of x:\", my_dist.log_prob(x).shape)"
   ]
  },
  {
   "cell_type": "markdown",
   "metadata": {
    "colab_type": "text",
    "id": "eh1DNCkhqAeL"
   },
   "source": [
    "In Pyro, we can treat a univariate distribution as multivariate by calling the ```.to_event(n)``` method where ```n``` is the number of batch dimensions (from the right) to declare as dependent. Try taking the distribution ```my_dist``` defined above, and declaring the right-most batch dimension as dependent using ```.to_event(1)```, and then check the ```batch_shape``` and the ```event_shape```. "
   ]
  },
  {
   "cell_type": "code",
   "execution_count": 81,
   "metadata": {
    "colab": {},
    "colab_type": "code",
    "id": "m-dKHx09qWH4"
   },
   "outputs": [
    {
     "name": "stdout",
     "output_type": "stream",
     "text": [
      "my_dist shape: torch.Size([10, 2])\n",
      "my_dist batch_shape: torch.Size([10])\n",
      "my_dist event_shape: torch.Size([2])\n"
     ]
    }
   ],
   "source": [
    "my_multivariate_dist = my_dist.to_event(1)\n",
    "print(\"my_dist shape:\", my_multivariate_dist.shape())\n",
    "print(\"my_dist batch_shape:\", my_multivariate_dist.batch_shape)\n",
    "print(\"my_dist event_shape:\", my_multivariate_dist.event_shape)"
   ]
  },
  {
   "cell_type": "markdown",
   "metadata": {
    "colab_type": "text",
    "id": "JRKCcBZLqt8U"
   },
   "source": [
    "Compare these shapes with the ones from ```my_dist``` above. Does it make sense? \n",
    "\n",
    "If we now draw a sample from ```my_multivariate_dist```, what do you expect its shape to be? What about the log probability? Let's have a look:"
   ]
  },
  {
   "cell_type": "code",
   "execution_count": 82,
   "metadata": {
    "colab": {
     "base_uri": "https://localhost:8080/",
     "height": 51
    },
    "colab_type": "code",
    "executionInfo": {
     "elapsed": 805,
     "status": "ok",
     "timestamp": 1581935016260,
     "user": {
      "displayName": "Filipe Rodrigues",
      "photoUrl": "https://lh3.googleusercontent.com/a-/AAuE7mDaWEE0j1oWjHLxVkWKYDXRh8NUBFCgGYF0XZOsvA=s64",
      "userId": "15636531912642599438"
     },
     "user_tz": -60
    },
    "id": "RTzmDli8rIJq",
    "outputId": "a030dab7-3d5d-48da-80b6-dadd1b7c9513"
   },
   "outputs": [
    {
     "name": "stdout",
     "output_type": "stream",
     "text": [
      "shape of sample x: torch.Size([10, 2])\n",
      "shape of log prob of x: torch.Size([10])\n",
      "tensor([[-1.0938,  0.2578],\n",
      "        [ 1.0722, -1.5280],\n",
      "        [-1.1113,  0.9662],\n",
      "        [-0.5215,  1.7308],\n",
      "        [-0.6402,  0.6656],\n",
      "        [ 0.3069,  0.2328],\n",
      "        [-0.5517,  0.4591],\n",
      "        [ 0.1789,  0.4182],\n",
      "        [ 1.6050, -0.1231],\n",
      "        [ 1.1114, -0.7261]])\n"
     ]
    }
   ],
   "source": [
    "x = my_multivariate_dist.sample()\n",
    "print(\"shape of sample x:\", x.shape)\n",
    "print(\"shape of log prob of x:\", my_multivariate_dist.log_prob(x).shape)\n",
    "print(x)"
   ]
  },
  {
   "cell_type": "markdown",
   "metadata": {
    "colab_type": "text",
    "id": "7KPRcuJ6rPw2"
   },
   "source": [
    "Notice that the shape of ```x``` is still the same, but there is no assumption of conditional independence over the last dimension (of size 2). This means that ```x``` now contains a batch of 10 samples of a multivariate distribution with event size 2. Therefore, when we call ```.log_prob()```, each of the 10 samples in the batch will be scored, and the results is a vector of 10 log probabilities (one for each of the 10 events in the batch).\n",
    "\n",
    "For more details about tensor shapes in Pyro read this: https://pyro.ai/examples/tensor_shapes.html"
   ]
  },
  {
   "cell_type": "markdown",
   "metadata": {
    "colab_type": "text",
    "id": "G2hI6DWoZa0Y"
   },
   "source": [
    "### 1.3. The pyro.sample primitive"
   ]
  },
  {
   "cell_type": "markdown",
   "metadata": {
    "colab_type": "text",
    "id": "FZI2iSD3az2z"
   },
   "source": [
    "The ```pyro.distributions``` library provides a way of specifying distributions from which we can efficiently draw samples and compute log probabilities. However, the distributions and corresponding samples that we defined above are detached from any meaning that could be exploited (e.g. by an inference engine) in the context of a large probabilistic model. In order to get a more meaningful definition we will make use of the ```pyro.sample``` primitive:"
   ]
  },
  {
   "cell_type": "code",
   "execution_count": 83,
   "metadata": {
    "colab": {
     "base_uri": "https://localhost:8080/",
     "height": 34
    },
    "colab_type": "code",
    "executionInfo": {
     "elapsed": 904,
     "status": "ok",
     "timestamp": 1581936190822,
     "user": {
      "displayName": "Filipe Rodrigues",
      "photoUrl": "https://lh3.googleusercontent.com/a-/AAuE7mDaWEE0j1oWjHLxVkWKYDXRh8NUBFCgGYF0XZOsvA=s64",
      "userId": "15636531912642599438"
     },
     "user_tz": -60
    },
    "id": "mEdBCbgpXyVJ",
    "outputId": "423f8833-9944-474f-93f9-92b8461faef6"
   },
   "outputs": [
    {
     "name": "stdout",
     "output_type": "stream",
     "text": [
      "tensor(1.3194)\n"
     ]
    }
   ],
   "source": [
    "my_dist = pyro.distributions.Normal(0., 1.)\n",
    "x = pyro.sample(\"my_sample\", my_dist)\n",
    "print(x)"
   ]
  },
  {
   "cell_type": "markdown",
   "metadata": {
    "colab_type": "text",
    "id": "QsPPyPQTcohQ"
   },
   "source": [
    "Note that, like the sample statement from earlier, the ```pyro.sample``` primitive also returns a sample from the distribution. However, crucially, this sample is **named**. Pyro’s backend uses these names to uniquely identify sample statements when they are part of a larger model, and change their behavior at runtime depending on how the enclosing model uses them. As we will see, this is how Pyro can implement the various manipulations that underlie inference algorithms."
   ]
  },
  {
   "cell_type": "markdown",
   "metadata": {
    "colab_type": "text",
    "id": "dVKKXI-2ePTe"
   },
   "source": [
    "### 1.4. Defining models: Pyro's stochastic functions"
   ]
  },
  {
   "cell_type": "markdown",
   "metadata": {
    "colab_type": "text",
    "id": "44k-m7yEeZTI"
   },
   "source": [
    "All probabilistic programs are built up by composing primitive stochastic functions and deterministic computation. Using the primitives described above, we can then start building more complex stochastic functions. In Pyro, a probabilistic model is specified as a Python function that makes use of such stochastic primitives together with deterministic computation. For example, we can define the following simple model:"
   ]
  },
  {
   "cell_type": "code",
   "execution_count": 84,
   "metadata": {
    "colab": {},
    "colab_type": "code",
    "id": "ONcE_pptfdJD"
   },
   "outputs": [],
   "source": [
    "def my_model(x):\n",
    "    beta = pyro.sample(\"beta\", pyro.distributions.Normal(0., 1.))\n",
    "    y = torch.zeros(len(x))\n",
    "    for i in pyro.plate(\"data\", len(x)):\n",
    "        y[i] = pyro.sample(\"y_%d\"%i, pyro.distributions.Normal(beta*x[i], 1.))\n",
    "    return y"
   ]
  },
  {
   "cell_type": "markdown",
   "metadata": {
    "colab_type": "text",
    "id": "LxZGV7ZYbWNF"
   },
   "source": [
    "Notice that the model function can also take external variables as input (in this case ```x```). \n",
    "\n",
    "Also, notice that we have introduced another extremely important Pyro primitive: ```pyro.plate```. This primitive serves to instruct Pyro that the observations are conditionally indepedent given the latent random variables (in this case ```beta```). We see that ```pyro.plate``` is very similar to Python's ```range()``` with one main difference: each invocation of plate requires the user to provide a unique name. The second argument is an integer just like for ```range()```. From a PGM perspective, there is an obvious connection between this plate primitive and the use of plates to denote repetition in PGMs. "
   ]
  },
  {
   "cell_type": "markdown",
   "metadata": {
    "colab_type": "text",
    "id": "fIG56_FU-xfW"
   },
   "source": [
    "There is also a vectorized version of ```pyro.plate```, which enables large speed-ups compared to the sequential version above. Here is the equivalent vectorized version of the model definition above:"
   ]
  },
  {
   "cell_type": "code",
   "execution_count": 85,
   "metadata": {
    "colab": {},
    "colab_type": "code",
    "id": "jmfEld4--x6y"
   },
   "outputs": [],
   "source": [
    "def my_model(x):\n",
    "    beta = pyro.sample(\"beta\", pyro.distributions.Normal(0., 1.))\n",
    "    with pyro.plate(\"data\", len(x)):\n",
    "        y = pyro.sample(\"y\", pyro.distributions.Normal(beta*x, 1.))\n",
    "    return y"
   ]
  },
  {
   "cell_type": "markdown",
   "metadata": {
    "colab_type": "text",
    "id": "S6xFSSLR_HmA"
   },
   "source": [
    "Note that, with the vectorized version, we can simply write ```beta*x``` rather than ```beta*x[i]```.\n",
    "\n",
    "Given a model definition as a stochastic function like the one above, we can use it to sample observations according to the model - i.e. perform *ancestral sampling*:"
   ]
  },
  {
   "cell_type": "code",
   "execution_count": 86,
   "metadata": {
    "colab": {
     "base_uri": "https://localhost:8080/",
     "height": 51
    },
    "colab_type": "code",
    "executionInfo": {
     "elapsed": 860,
     "status": "ok",
     "timestamp": 1581936196862,
     "user": {
      "displayName": "Filipe Rodrigues",
      "photoUrl": "https://lh3.googleusercontent.com/a-/AAuE7mDaWEE0j1oWjHLxVkWKYDXRh8NUBFCgGYF0XZOsvA=s64",
      "userId": "15636531912642599438"
     },
     "user_tz": -60
    },
    "id": "NrBPzxv7cRAO",
    "outputId": "0682fecb-9999-4bd6-c264-d39af23be1f7"
   },
   "outputs": [
    {
     "name": "stdout",
     "output_type": "stream",
     "text": [
      "tensor([-0.2363,  1.3304,  1.9807,  5.1788,  6.3504,  6.7131,  7.0132,  8.6386,\n",
      "         9.4085,  9.5593])\n"
     ]
    }
   ],
   "source": [
    "input_x = torch.tensor([0,1,2,3,4,5,6,7,8,9])\n",
    "sampled_y = my_model(input_x)\n",
    "print(sampled_y)"
   ]
  },
  {
   "cell_type": "markdown",
   "metadata": {
    "colab_type": "text",
    "id": "yPQUCBq9dGQW"
   },
   "source": [
    "Let's visualize the data that we generated:"
   ]
  },
  {
   "cell_type": "code",
   "execution_count": 87,
   "metadata": {
    "colab": {
     "base_uri": "https://localhost:8080/",
     "height": 517
    },
    "colab_type": "code",
    "executionInfo": {
     "elapsed": 893,
     "status": "ok",
     "timestamp": 1581943595342,
     "user": {
      "displayName": "Filipe Rodrigues",
      "photoUrl": "https://lh3.googleusercontent.com/a-/AAuE7mDaWEE0j1oWjHLxVkWKYDXRh8NUBFCgGYF0XZOsvA=s64",
      "userId": "15636531912642599438"
     },
     "user_tz": -60
    },
    "id": "1LPSdwGncmbR",
    "outputId": "c90c8712-9990-4805-df9f-e5be17686c92"
   },
   "outputs": [
    {
     "data": {
      "text/plain": [
       "Text(0, 0.5, 'sampled_y')"
      ]
     },
     "execution_count": 87,
     "metadata": {},
     "output_type": "execute_result"
    },
    {
     "data": {
      "image/png": "[encoded data removed]",
      "text/plain": [
       "<Figure size 864x576 with 1 Axes>"
      ]
     },
     "metadata": {
      "needs_background": "light"
     },
     "output_type": "display_data"
    }
   ],
   "source": [
    "sns.scatterplot(input_x, sampled_y)\n",
    "plt.xlabel(\"input_x\")\n",
    "plt.ylabel(\"sampled_y\")"
   ]
  },
  {
   "cell_type": "markdown",
   "metadata": {
    "colab_type": "text",
    "id": "FCl6RPigdbXG"
   },
   "source": [
    "### 1.5. Inference in Pyro"
   ]
  },
  {
   "cell_type": "markdown",
   "metadata": {
    "colab_type": "text",
    "id": "Kog2bLORcdb1"
   },
   "source": [
    "So far, the model definition from above (```my_model```) only allows us to draw samples from the model by following its generative process. In order to do the reverse procedure, i.e. *inference*, we need to be able to condition the model according to some real observations ```y_obs```. This can be easily done by modifying the model definition in order to take ```y_obs``` as input and using it to condition the corresponding ```pyro.sample``` statement:"
   ]
  },
  {
   "cell_type": "code",
   "execution_count": 88,
   "metadata": {
    "colab": {},
    "colab_type": "code",
    "id": "6DCf1JwbhPt7"
   },
   "outputs": [],
   "source": [
    "def my_model(x, y_obs):\n",
    "    beta = pyro.sample(\"beta\", pyro.distributions.Normal(0., 1.))\n",
    "    with pyro.plate(\"data\", len(y_obs)):\n",
    "        y = pyro.sample(\"y\", pyro.distributions.Normal(beta*x, 1.), obs=y_obs)\n",
    "    return y"
   ]
  },
  {
   "cell_type": "markdown",
   "metadata": {
    "colab_type": "text",
    "id": "aa80R2RyfHM9"
   },
   "source": [
    "Given the model definition above, we can still generate samples from the model by passing ```y_obs=None``` as the argument. However, most importantly, we can now pass the model some actual observations ```y_obs``` and ask Pyro to perform Bayesian inference on the remaining random variables (in this case ```beta```). In order to do so, Pyro supports 2 main types of inference: MCMC (namely a technique called Hamiltonian Monte Carlo, or \"HMC\" for short) and Variational Inference (or \"VI\" for short). You will learn more about these later on in the course.\n",
    "\n",
    "Let's see how to use HMC (in particular something called the \"No-U-Turn Sampler\" or \"NUTS\") to perform inference on the random variable ```beta``` using Pyro:"
   ]
  },
  {
   "cell_type": "code",
   "execution_count": 89,
   "metadata": {
    "colab": {
     "base_uri": "https://localhost:8080/",
     "height": 119
    },
    "colab_type": "code",
    "executionInfo": {
     "elapsed": 9294,
     "status": "ok",
     "timestamp": 1581936308175,
     "user": {
      "displayName": "Filipe Rodrigues",
      "photoUrl": "https://lh3.googleusercontent.com/a-/AAuE7mDaWEE0j1oWjHLxVkWKYDXRh8NUBFCgGYF0XZOsvA=s64",
      "userId": "15636531912642599438"
     },
     "user_tz": -60
    },
    "id": "s3jZLKCNgmOA",
    "outputId": "f075fef8-1b74-4cab-93cd-ac336e9c69f8"
   },
   "outputs": [
    {
     "name": "stderr",
     "output_type": "stream",
     "text": [
      "Sample: 100%|██████████████████████████████████████| 1500/1500 [00:11, 126.28it/s, step size=1.17e+00, acc. prob=0.920]\n"
     ]
    },
    {
     "name": "stdout",
     "output_type": "stream",
     "text": [
      "\n",
      "                mean       std    median      5.0%     95.0%     n_eff     r_hat\n",
      "      beta      1.17      0.06      1.17      1.07      1.27    292.35      1.00\n",
      "\n",
      "Number of divergences: 0\n"
     ]
    }
   ],
   "source": [
    "from pyro.infer import MCMC, NUTS\n",
    "\n",
    "y_obs = torch.tensor([-1, 1, 3, 4, 5, 7, 7, 8, 9, 10]) # Suppose this was the vector of observed y's\n",
    "\n",
    "# Run inference in Pyro\n",
    "nuts_kernel = NUTS(my_model)\n",
    "mcmc = MCMC(nuts_kernel, num_samples=1000, warmup_steps=500, num_chains=1)\n",
    "mcmc.run(input_x, y_obs)\n",
    "\n",
    "# Show summary of inference results\n",
    "mcmc.summary()"
   ]
  },
  {
   "cell_type": "markdown",
   "metadata": {
    "colab_type": "text",
    "id": "xIK31522iSon"
   },
   "source": [
    "Easy, right? :-)\n",
    "\n",
    "We can also directly access the samples drawn from the posterior distribution of the random variable ```beta```using:"
   ]
  },
  {
   "cell_type": "code",
   "execution_count": 90,
   "metadata": {
    "colab": {},
    "colab_type": "code",
    "id": "M8KmxuBsicJa"
   },
   "outputs": [],
   "source": [
    "posterior_samples = mcmc.get_samples()"
   ]
  },
  {
   "cell_type": "markdown",
   "metadata": {
    "colab_type": "text",
    "id": "j-Y6t91iijq5"
   },
   "source": [
    "The code above returns the samples from the posterior as a Python dictionary that uses the names of the variables that we defined in the ```pyro.sample``` statements as dictionary keys:"
   ]
  },
  {
   "cell_type": "code",
   "execution_count": 91,
   "metadata": {
    "colab": {
     "base_uri": "https://localhost:8080/",
     "height": 34
    },
    "colab_type": "code",
    "executionInfo": {
     "elapsed": 902,
     "status": "ok",
     "timestamp": 1581936341121,
     "user": {
      "displayName": "Filipe Rodrigues",
      "photoUrl": "https://lh3.googleusercontent.com/a-/AAuE7mDaWEE0j1oWjHLxVkWKYDXRh8NUBFCgGYF0XZOsvA=s64",
      "userId": "15636531912642599438"
     },
     "user_tz": -60
    },
    "id": "RsHmQi8nigWc",
    "outputId": "8401d082-11a8-4069-be6f-847676e8da22"
   },
   "outputs": [
    {
     "name": "stdout",
     "output_type": "stream",
     "text": [
      "dict_keys(['beta'])\n"
     ]
    }
   ],
   "source": [
    "print(posterior_samples.keys())"
   ]
  },
  {
   "cell_type": "markdown",
   "metadata": {
    "colab_type": "text",
    "id": "O7_M5H_0i5EP"
   },
   "source": [
    "Lastly, let's use the posterior samples that obtained in order to approximate the density function of the posterior distribution of ```beta```:"
   ]
  },
  {
   "cell_type": "code",
   "execution_count": 92,
   "metadata": {
    "colab": {
     "base_uri": "https://localhost:8080/",
     "height": 500
    },
    "colab_type": "code",
    "executionInfo": {
     "elapsed": 1008,
     "status": "ok",
     "timestamp": 1581936540568,
     "user": {
      "displayName": "Filipe Rodrigues",
      "photoUrl": "https://lh3.googleusercontent.com/a-/AAuE7mDaWEE0j1oWjHLxVkWKYDXRh8NUBFCgGYF0XZOsvA=s64",
      "userId": "15636531912642599438"
     },
     "user_tz": -60
    },
    "id": "tqn9op12jLw5",
    "outputId": "05ed2656-7047-4da6-e1b4-0a0b7c4500d8"
   },
   "outputs": [
    {
     "name": "stdout",
     "output_type": "stream",
     "text": [
      "torch.Size([1000])\n"
     ]
    },
    {
     "data": {
      "image/png": "[encoded data removed]",
      "text/plain": [
       "<Figure size 864x576 with 1 Axes>"
      ]
     },
     "metadata": {
      "needs_background": "light"
     },
     "output_type": "display_data"
    }
   ],
   "source": [
    "print(posterior_samples['beta'].shape)\n",
    "\n",
    "sns.distplot(posterior_samples['beta'].numpy())\n",
    "plt.show()"
   ]
  },
  {
   "cell_type": "markdown",
   "metadata": {
    "colab_type": "text",
    "id": "KT0MnzpwjlCL"
   },
   "source": [
    "Notice that we had to convert the PyTorch tensor to a Numpy array using the ```.numpy()``` method in order for this to be possible."
   ]
  },
  {
   "cell_type": "markdown",
   "metadata": {
    "colab_type": "text",
    "id": "CEsBNtTIZylZ"
   },
   "source": [
    "## 2 Your first Pyro model\n",
    "\n",
    "### 2.1 The cyclist problem\n",
    "\n",
    "Let's do the cyclist problem from the lecture slides: We have a dataset of observations (travel times of bicycle trips), and we want to estimate its distribution, assuming it follows a Gaussian curve of some form. \n",
    "\n",
    "We can code this model in Pyro as follows:"
   ]
  },
  {
   "cell_type": "code",
   "execution_count": 108,
   "metadata": {
    "colab": {},
    "colab_type": "code",
    "id": "m5eGGSLFmORb"
   },
   "outputs": [],
   "source": [
    "def cyclist_model(tt):\n",
    "    at = pyro.sample(\"at\", pyro.distributions.Normal(12, 10))\n",
    "    tu = pyro.sample(\"tu\", pyro.distributions.HalfCauchy(10))\n",
    "    with pyro.plate(\"data\", len(tt)):\n",
    "        pyro.sample(\"tt\", pyro.distributions.Normal(at, tu), obs=tt)"
   ]
  },
  {
   "cell_type": "markdown",
   "metadata": {
    "colab_type": "text",
    "id": "fk52AMqvm3um"
   },
   "source": [
    "Check that everything makes sense, and don't hesitate to ask for clarifications!\n",
    "\n",
    "As a curiosity, let's make the parallel with the corresponding STAN implementation of the equivalent model. Here is what it looks like in STAN. Try to identify the differences :-)"
   ]
  },
  {
   "cell_type": "code",
   "execution_count": 94,
   "metadata": {
    "colab": {
     "base_uri": "https://localhost:8080/",
     "height": 34
    },
    "colab_type": "code",
    "executionInfo": {
     "elapsed": 80509,
     "status": "ok",
     "timestamp": 1581798472625,
     "user": {
      "displayName": "Filipe Rodrigues",
      "photoUrl": "https://lh3.googleusercontent.com/a-/AAuE7mDaWEE0j1oWjHLxVkWKYDXRh8NUBFCgGYF0XZOsvA=s64",
      "userId": "15636531912642599438"
     },
     "user_tz": -60
    },
    "id": "oOjslkWHZyla",
    "outputId": "a821bf47-c508-4fd7-cf26-f001f92202d4"
   },
   "outputs": [],
   "source": [
    "cyclist_STAN=\"\"\"\n",
    "data {\n",
    "    int<lower=0> N; // number of samples\n",
    "    vector[N] tt;   // observed travel times\n",
    "}\n",
    "parameters {\n",
    "    real at;          // average travel time\n",
    "    real<lower=0> tu; // traffic uncertainty\n",
    "}\n",
    "model {\n",
    "    at ~ normal(12, 10);\n",
    "    tu ~ cauchy(0, 10);\n",
    "    tt ~ normal(at, tu);\n",
    "}\n",
    "\"\"\""
   ]
  },
  {
   "cell_type": "markdown",
   "metadata": {
    "colab_type": "text",
    "id": "N3NRk32JZylc"
   },
   "source": [
    "It is always good to have an intuitive notion of the prior forms (e.g. are they \"too\" informative, maybe? Or too wide?)\n",
    "\n",
    "Can you plot the priors for _at_ and _tu_ ?"
   ]
  },
  {
   "cell_type": "code",
   "execution_count": 109,
   "metadata": {
    "colab": {},
    "colab_type": "code",
    "id": "1kLX0ff2Zylc"
   },
   "outputs": [
    {
     "data": {
      "image/png": "[encoded data removed]",
      "text/plain": [
       "<Figure size 864x576 with 1 Axes>"
      ]
     },
     "metadata": {
      "needs_background": "light"
     },
     "output_type": "display_data"
    }
   ],
   "source": [
    "from scipy.stats import cauchy, norm\n",
    "\n",
    "x1=np.arange(-50, 60, 0.1)\n",
    "x2=np.arange(0, 80, 0.1)\n",
    "\n",
    "y1=norm.pdf(x1, 12, 10)\n",
    "y2=cauchy.pdf(x2, 0, 10)\n",
    "\n",
    "sns.lineplot(x1, y1);\n",
    "sns.lineplot(x2, y2);"
   ]
  },
  {
   "cell_type": "markdown",
   "metadata": {
    "colab_type": "text",
    "id": "ZXX4u-prZylh"
   },
   "source": [
    "Given what we know of the problem, do they make sense? \n"
   ]
  },
  {
   "cell_type": "markdown",
   "metadata": {
    "colab_type": "text",
    "id": "O3FDngHsZyli"
   },
   "source": [
    "\n",
    "\n",
    "Below is the Python code that runs inference on the Pyro model ```cyclist_model``` defined above according to some observed data ```tt_obs```. "
   ]
  },
  {
   "cell_type": "code",
   "execution_count": 110,
   "metadata": {
    "colab": {
     "base_uri": "https://localhost:8080/",
     "height": 136
    },
    "colab_type": "code",
    "executionInfo": {
     "elapsed": 22039,
     "status": "ok",
     "timestamp": 1581936484665,
     "user": {
      "displayName": "Filipe Rodrigues",
      "photoUrl": "https://lh3.googleusercontent.com/a-/AAuE7mDaWEE0j1oWjHLxVkWKYDXRh8NUBFCgGYF0XZOsvA=s64",
      "userId": "15636531912642599438"
     },
     "user_tz": -60
    },
    "id": "5DSims7inugQ",
    "outputId": "57851e60-f4b3-4ce7-c53d-9cf536e27e8a"
   },
   "outputs": [
    {
     "name": "stderr",
     "output_type": "stream",
     "text": [
      "Sample: 100%|███████████████████████████████████████| 1500/1500 [00:37, 40.30it/s, step size=7.35e-01, acc. prob=0.925]"
     ]
    },
    {
     "name": "stdout",
     "output_type": "stream",
     "text": [
      "\n",
      "                mean       std    median      5.0%     95.0%     n_eff     r_hat\n",
      "        at     19.06      2.38     19.07     15.19     22.88    630.59      1.00\n",
      "        tu      8.83      1.75      8.60      5.94     11.42    399.52      1.00\n",
      "\n",
      "Number of divergences: 0\n"
     ]
    },
    {
     "name": "stderr",
     "output_type": "stream",
     "text": [
      "\n"
     ]
    }
   ],
   "source": [
    "tt_obs = torch.tensor([13,17,16,32,12,13,28,12,14,18,36,16,16,31])\n",
    "\n",
    "# Run inference in Pyro\n",
    "nuts_kernel = NUTS(cyclist_model)\n",
    "mcmc = MCMC(nuts_kernel, num_samples=1000, warmup_steps=500, num_chains=1)\n",
    "mcmc.run(tt_obs)\n",
    "\n",
    "# Show summary of inference results\n",
    "mcmc.summary()"
   ]
  },
  {
   "cell_type": "markdown",
   "metadata": {
    "colab_type": "text",
    "id": "TYlP_eoVZyll"
   },
   "source": [
    "Try to **inspect** the samples obtained by MCMC from the posterior distribution, particularly do a histogram for the \"at\" and \"tu\" variables.\n",
    "\n",
    "Check how many samples you have, and relate the number with the statistics that Pyro provides above:\n",
    "- How many samples did it actually generate?\n",
    "- How many is it using for the final statistics?\n",
    "- How many chains is it using (and how many samples being used in the end by each chain?)\n",
    "- Plot the histogram of the samples\n",
    "\n"
   ]
  },
  {
   "cell_type": "code",
   "execution_count": 111,
   "metadata": {
    "colab": {},
    "colab_type": "code",
    "id": "jMRnXKBWZylm"
   },
   "outputs": [],
   "source": [
    "posterior_samples = mcmc.get_samples()"
   ]
  },
  {
   "cell_type": "code",
   "execution_count": 112,
   "metadata": {
    "colab": {},
    "colab_type": "code",
    "id": "BGW2YfyVZylo"
   },
   "outputs": [
    {
     "name": "stdout",
     "output_type": "stream",
     "text": [
      "torch.Size([1000])\n",
      "torch.Size([1000])\n"
     ]
    }
   ],
   "source": [
    "posterior_samples.keys()\n",
    "print(posterior_samples['at'].shape)\n",
    "print(posterior_samples['tu'].shape)"
   ]
  },
  {
   "cell_type": "code",
   "execution_count": 115,
   "metadata": {},
   "outputs": [
    {
     "data": {
      "image/png": "[encoded data removed]",
      "text/plain": [
       "<Figure size 864x576 with 1 Axes>"
      ]
     },
     "metadata": {
      "needs_background": "light"
     },
     "output_type": "display_data"
    }
   ],
   "source": [
    "sns.distplot(posterior_samples['at'].numpy())\n",
    "plt.show()"
   ]
  },
  {
   "cell_type": "code",
   "execution_count": 116,
   "metadata": {},
   "outputs": [
    {
     "data": {
      "image/png": "[encoded data removed]",
      "text/plain": [
       "<Figure size 864x576 with 1 Axes>"
      ]
     },
     "metadata": {
      "needs_background": "light"
     },
     "output_type": "display_data"
    }
   ],
   "source": [
    "sns.distplot(posterior_samples['tu'].numpy())\n",
    "plt.show()"
   ]
  },
  {
   "cell_type": "markdown",
   "metadata": {
    "colab_type": "text",
    "id": "AYEryPFQZyls"
   },
   "source": [
    "To add to Pyro's summary output, we can also try to compute the mode of the posterior distribution using for example:"
   ]
  },
  {
   "cell_type": "code",
   "execution_count": 114,
   "metadata": {
    "colab": {
     "base_uri": "https://localhost:8080/",
     "height": 119
    },
    "colab_type": "code",
    "executionInfo": {
     "elapsed": 862,
     "status": "ok",
     "timestamp": 1581936696413,
     "user": {
      "displayName": "Filipe Rodrigues",
      "photoUrl": "https://lh3.googleusercontent.com/a-/AAuE7mDaWEE0j1oWjHLxVkWKYDXRh8NUBFCgGYF0XZOsvA=s64",
      "userId": "15636531912642599438"
     },
     "user_tz": -60
    },
    "id": "dA1GpGjnZylt",
    "outputId": "156dd401-6214-4a20-82e3-7457786cef8a"
   },
   "outputs": [
    {
     "name": "stdout",
     "output_type": "stream",
     "text": [
      "\n",
      "Average travel time:\n",
      "posterior mode=19.00 mean=19.06 std=2.38\n",
      "\n",
      "Traffic uncertainty:\n",
      "posterior mode=7.90 mean=8.83 std=1.75\n"
     ]
    }
   ],
   "source": [
    "from scipy import stats\n",
    "\n",
    "print(\"\\nAverage travel time:\")\n",
    "print(\"posterior mode=%.2f mean=%.2f std=%.2f\" % (stats.mode(posterior_samples[\"at\"].numpy().round(0))[0][0], \n",
    "                                                  posterior_samples['at'].mean(), posterior_samples['at'].std()))\n",
    "\n",
    "print(\"\\nTraffic uncertainty:\")\n",
    "print(\"posterior mode=%.2f mean=%.2f std=%.2f\" % (stats.mode(posterior_samples[\"tu\"].numpy().round(1))[0][0], \n",
    "                                                  posterior_samples['tu'].mean(), posterior_samples['tu'].std()))"
   ]
  },
  {
   "cell_type": "markdown",
   "metadata": {
    "colab_type": "text",
    "id": "uMlJZo8sZyly"
   },
   "source": [
    "\n",
    "\n",
    "Redefine the priors above and re-estimate the model (try only a couple of extreme values, just to see the effect)"
   ]
  },
  {
   "cell_type": "markdown",
   "metadata": {
    "colab_type": "text",
    "id": "gAoGNDSiZyly"
   },
   "source": [
    "### 2.2 Obtaining useful results from your model"
   ]
  },
  {
   "cell_type": "markdown",
   "metadata": {
    "colab_type": "text",
    "id": "PHfoeWurZyl1"
   },
   "source": [
    "Using the generated MCMC samples, you can find \"cheap\" answers to some interesting questions. For example, can you use the posterior samples to approximate the probability that the next trip takes less than 18 minutes?"
   ]
  },
  {
   "cell_type": "code",
   "execution_count": 117,
   "metadata": {
    "colab": {},
    "colab_type": "code",
    "id": "IZMsjj34qNrt"
   },
   "outputs": [
    {
     "name": "stdout",
     "output_type": "stream",
     "text": [
      "0.457\n"
     ]
    }
   ],
   "source": [
    "n_samples = len(posterior_samples['at'])\n",
    "count = 0\n",
    "for i in range(n_samples):\n",
    "    tt_sample = np.random.normal(posterior_samples['at'][i], posterior_samples['tu'][i])\n",
    "    if tt_sample < 18:\n",
    "        count += 1\n",
    "\n",
    "print(count / n_samples)"
   ]
  },
  {
   "cell_type": "markdown",
   "metadata": {
    "colab_type": "text",
    "id": "od8zbPZVZymE"
   },
   "source": [
    "Notice that the certainty of your answer depends on the number of samples that we have at our disposal...\n",
    "\n",
    "Alternatively, a more formal and robust way of estimate the probability that the next trip takes less than 18 minutes is to extend the ```cyclist_model``` from before, in order to also include predictions for unobserved travel times ``tt_pred``. Analyze the code below:"
   ]
  },
  {
   "cell_type": "code",
   "execution_count": 118,
   "metadata": {
    "colab": {},
    "colab_type": "code",
    "id": "YDs087eKsSZO"
   },
   "outputs": [],
   "source": [
    "def cyclist_model_pred(tt):\n",
    "    at = pyro.sample(\"at\", pyro.distributions.Normal(12, 10))\n",
    "    tu = pyro.sample(\"tu\", pyro.distributions.HalfCauchy(10))\n",
    "    with pyro.plate(\"data\", len(tt)):\n",
    "        pyro.sample(\"tt\", pyro.distributions.Normal(at, tu), obs=tt)\n",
    "        \n",
    "    tt_pred = pyro.sample(\"tt_pred\", pyro.distributions.Normal(at, tu))\n",
    "    return tt_pred < 18"
   ]
  },
  {
   "cell_type": "markdown",
   "metadata": {
    "colab_type": "text",
    "id": "w8gZDw08uNPz"
   },
   "source": [
    "We have extended the model to also sample prediction ```tt_pred```. The ```pyro.sample(\"tt_pred\", ...)``` samples new observations for the travel time according to ```at``` and ```tu```. However, the values of the two latter random variables are also constrained by the actual observed data ```obs_tt``` through conditioning in the statement ```pyro.sample(\"tt\", ..., obs=tt)```. From a graphical models perspective, while both ```tt``` and ```tt_pred``` nodes depend on ```at``` and ```tu```, ```tt``` is an observed node (shaded) and ```tt_pred``` is an unobserved/latent node (unshaded). Does that make sense? If not, do not hesitate to ask for a clarification! :-)"
   ]
  },
  {
   "cell_type": "markdown",
   "metadata": {
    "colab_type": "text",
    "id": "U3nJl79ZvyXa"
   },
   "source": [
    "Using the revised model definition (```cyclist_model_pred```), we can run Bayesian inference in order to answer the question of \"what is the probability that the next trip takes less than 18 minutes?\":"
   ]
  },
  {
   "cell_type": "code",
   "execution_count": 119,
   "metadata": {
    "colab": {
     "base_uri": "https://localhost:8080/",
     "height": 153
    },
    "colab_type": "code",
    "executionInfo": {
     "elapsed": 43969,
     "status": "ok",
     "timestamp": 1581936758042,
     "user": {
      "displayName": "Filipe Rodrigues",
      "photoUrl": "https://lh3.googleusercontent.com/a-/AAuE7mDaWEE0j1oWjHLxVkWKYDXRh8NUBFCgGYF0XZOsvA=s64",
      "userId": "15636531912642599438"
     },
     "user_tz": -60
    },
    "id": "N9IewCATsk84",
    "outputId": "b0947372-d6f0-4104-8440-c2bc02ef994d"
   },
   "outputs": [
    {
     "name": "stderr",
     "output_type": "stream",
     "text": [
      "Sample: 100%|███████████████████████████████████████| 1500/1500 [01:07, 22.29it/s, step size=5.59e-01, acc. prob=0.930]"
     ]
    },
    {
     "name": "stdout",
     "output_type": "stream",
     "text": [
      "\n",
      "                mean       std    median      5.0%     95.0%     n_eff     r_hat\n",
      "        at     19.07      2.34     19.17     14.84     22.49    735.04      1.00\n",
      "        tu      8.84      1.92      8.56      5.83     11.54    557.84      1.00\n",
      "   tt_pred     19.20      9.48     19.05      4.96     33.98    809.11      1.00\n",
      "\n",
      "Number of divergences: 0\n"
     ]
    },
    {
     "name": "stderr",
     "output_type": "stream",
     "text": [
      "\n"
     ]
    }
   ],
   "source": [
    "# Run inference in Pyro\n",
    "nuts_kernel = NUTS(cyclist_model_pred)\n",
    "mcmc = MCMC(nuts_kernel, num_samples=1000, warmup_steps=500, num_chains=1)\n",
    "mcmc.run(tt_obs)\n",
    "\n",
    "# Show summary of inference results\n",
    "mcmc.summary()"
   ]
  },
  {
   "cell_type": "markdown",
   "metadata": {
    "colab_type": "text",
    "id": "-IGIVVUcwNHi"
   },
   "source": [
    "To get an answer, we just need to count the fraction of the samples of ```tt_pred``` that have a value lower than 18:"
   ]
  },
  {
   "cell_type": "code",
   "execution_count": 122,
   "metadata": {
    "colab": {},
    "colab_type": "code",
    "id": "5gYtDBtRwa9z"
   },
   "outputs": [
    {
     "data": {
      "text/plain": [
       "tensor(0.4510)"
      ]
     },
     "execution_count": 122,
     "metadata": {},
     "output_type": "execute_result"
    }
   ],
   "source": [
    "posterior_samples = mcmc.get_samples()\n",
    "torch.sum(posterior_samples[\"tt_pred\"] < 18).float() / len(posterior_samples[\"tt_pred\"])"
   ]
  },
  {
   "cell_type": "markdown",
   "metadata": {
    "colab_type": "text",
    "id": "xZ3msUm7ZymK"
   },
   "source": [
    "Did you get a similar result to one from before?"
   ]
  },
  {
   "cell_type": "markdown",
   "metadata": {
    "colab_type": "text",
    "id": "yyp4GP2VwpRm"
   },
   "source": [
    "Alternatively, we can use Pyro's ```Predictive``` class, which is supposed to help with prediction tasks like this. Since the ```cyclist_model_pred``` definition from above already outputs whether ```tt_pred``` is smaller than 18 or not, we can just use the ```Predictive``` class to analyse the return statement:"
   ]
  },
  {
   "cell_type": "code",
   "execution_count": 123,
   "metadata": {
    "colab": {},
    "colab_type": "code",
    "id": "yE12ZeGYrZVZ"
   },
   "outputs": [
    {
     "data": {
      "text/plain": [
       "tensor(0.4510)"
      ]
     },
     "execution_count": 123,
     "metadata": {},
     "output_type": "execute_result"
    }
   ],
   "source": [
    "from pyro.infer import Predictive\n",
    "\n",
    "predictive = Predictive(cyclist_model_pred, posterior_samples=mcmc.get_samples(), num_samples=1000,\n",
    "                        return_sites=(\"tt_pred\", \"_RETURN\"))\n",
    "predictive_samples = predictive(tt_obs)\n",
    "predictive_samples[\"_RETURN\"].sum().float()  / len(predictive_samples[\"_RETURN\"])"
   ]
  },
  {
   "cell_type": "markdown",
   "metadata": {
    "colab_type": "text",
    "id": "vKTsBzGWxQkD"
   },
   "source": [
    "Although this may not be the most obvious case for making use of the ```Predictive``` class, it is a good idea to get familiar with it because, as you will see, it can be extremely useful in other contexts to make predictions in more complex models."
   ]
  },
  {
   "cell_type": "markdown",
   "metadata": {
    "colab_type": "text",
    "id": "FZCgs0oLZymL"
   },
   "source": [
    "### 2.3 Revised cyclist model: mixture model\n",
    "\n",
    "We will now consider a more realistic model. Since sometimes cyclists are prone to extraordinary circumstances (e.g. flat tire, forgot something at home, ran into a friend and started chatting, etc.), the distribution of travel times can be bimodal, such that on certain days (\"abnormal\" days) the distribution of travel times is radically different the distribution of \"normal\" days. \n",
    "\n",
    "We will formulate this assumption as mixture of two Gaussians. \n",
    "\n",
    "Can you write the new (revised) model in Pyro?\n",
    "\n",
    "Hints:\n",
    "- You will now have two possible Gaussians for ```tt``` instead of one; That implies that you also need a latent binary variable that \"selects\" one of the two Gaussians; Use indexing to select!\n",
    "- Create PyTorch tensors with the prior means and variances for ```at```, and similarly for the scale parameter of ```tu```;\n",
    "- Use a ```pyro.plate``` of length 2 in order to sample the priors of the two components; \n",
    "- You need a mixture parameter $\\pi$ (real parameter between 0 and 1) that controls the mixing proportions of the two Gaussians (see lecture slides);\n",
    "- For inferring the value of $\\pi$, you also need to assign it an appropriate prior. As you may recall, the conjugate prior for the Bernoulli is the Beta distribution. Try, for example, $\\pi \\sim \\mbox{Beta}(2,2)$;\n",
    "- Like in STAN, whenever you have discrete latent variables, you need to treat them specially by marginalizing over them explicitly. In Pyro, this is done through enumeration, and all you need to do is pass the following keyword argument ```infer={\"enumerate\": \"parallel\"}``` to the corresponding ```pyro.sample``` statement of the discrete latent variable."
   ]
  },
  {
   "cell_type": "code",
   "execution_count": 132,
   "metadata": {
    "colab": {},
    "colab_type": "code",
    "id": "olFagNvCIFrY"
   },
   "outputs": [],
   "source": [
    "def cyclist_mixture(tt):\n",
    "    means = torch.tensor([12.,12.])\n",
    "    variances = torch.tensor([10.,10.])\n",
    "    scale = torch.tensor([10.,10.])\n",
    "    \n",
    "    with pyro.plate(\"sampling\", len(means)):\n",
    "        at = pyro.sample(\"at\", pyro.distributions.Normal(means, variances))\n",
    "        tu = pyro.sample(\"tu\", pyro.distributions.HalfCauchy(scale))\n",
    "        \n",
    "    pi = pyro.sample(\"pi\", pyro.distributions.Beta(2.,2.))\n",
    "    \n",
    "    with pyro.plate(\"data\", len(tt)):\n",
    "        zn = pyro.sample(\"zn\", pyro.distributions.Bernoulli(pi), infer={\"enumerate\": \"parallel\"}).long()\n",
    "        tt = pyro.sample(\"tt_\", pyro.distributions.Normal(at[zn],tu[zn]), obs=tt)\n",
    "        \n",
    "    return tt"
   ]
  },
  {
   "cell_type": "code",
   "execution_count": 129,
   "metadata": {},
   "outputs": [
    {
     "data": {
      "text/plain": [
       "tensor([12, 12])"
      ]
     },
     "execution_count": 129,
     "metadata": {},
     "output_type": "execute_result"
    }
   ],
   "source": [
    "len(torch.tensor([12,12]))\n",
    "test = torch.tensor([12,12])\n",
    "test\n",
    "#pyro.sample(\"test\", pyro.distributions.Normal(test[0],test[1]))"
   ]
  },
  {
   "cell_type": "markdown",
   "metadata": {
    "colab_type": "text",
    "id": "RwBEVFsqZymO"
   },
   "source": [
    "Lets run inference on the revised model using the same cyclist data from before:"
   ]
  },
  {
   "cell_type": "code",
   "execution_count": 133,
   "metadata": {
    "colab": {
     "base_uri": "https://localhost:8080/",
     "height": 187
    },
    "colab_type": "code",
    "executionInfo": {
     "elapsed": 103135,
     "status": "ok",
     "timestamp": 1581937125209,
     "user": {
      "displayName": "Filipe Rodrigues",
      "photoUrl": "https://lh3.googleusercontent.com/a-/AAuE7mDaWEE0j1oWjHLxVkWKYDXRh8NUBFCgGYF0XZOsvA=s64",
      "userId": "15636531912642599438"
     },
     "user_tz": -60
    },
    "id": "CPrf21uciZXt",
    "outputId": "8e39cf8f-363f-4b7a-f4c6-2998465f0026"
   },
   "outputs": [
    {
     "name": "stderr",
     "output_type": "stream",
     "text": [
      "Sample: 100%|███████████████████████████████████████| 1500/1500 [08:53,  2.81it/s, step size=2.21e-01, acc. prob=0.614]"
     ]
    },
    {
     "name": "stdout",
     "output_type": "stream",
     "text": [
      "\n",
      "                mean       std    median      5.0%     95.0%     n_eff     r_hat\n",
      "     at[0]     17.98      5.98     15.09     12.40     29.82      5.17      1.35\n",
      "     at[1]     25.68      7.76     29.17     13.32     34.60      3.89      1.51\n",
      "     tu[0]      4.13      3.38      2.66      1.32      9.62      7.13      1.22\n",
      "     tu[1]      5.09      3.83      3.83      1.39     10.29    105.71      1.10\n",
      "        pi      0.42      0.17      0.40      0.18      0.72     10.49      1.15\n",
      "\n",
      "Number of divergences: 5\n"
     ]
    },
    {
     "name": "stderr",
     "output_type": "stream",
     "text": [
      "\n"
     ]
    }
   ],
   "source": [
    "# Run inference in Pyro\n",
    "nuts_kernel = NUTS(cyclist_mixture)\n",
    "mcmc = MCMC(nuts_kernel, num_samples=1000, warmup_steps=500, num_chains=1)\n",
    "mcmc.run(tt_obs)\n",
    "\n",
    "# Show summary of inference results\n",
    "mcmc.summary()"
   ]
  },
  {
   "cell_type": "markdown",
   "metadata": {
    "colab_type": "text",
    "id": "XqQtdQVuZymU"
   },
   "source": [
    "Look at the results. What can you tell?"
   ]
  },
  {
   "cell_type": "markdown",
   "metadata": {
    "colab_type": "text",
    "id": "E2IGd3g-ZymU"
   },
   "source": [
    "### 2.4 Obtaining useful results from your revised model"
   ]
  },
  {
   "cell_type": "markdown",
   "metadata": {
    "colab_type": "text",
    "id": "ecNn50FuZymY"
   },
   "source": [
    "As you did for the previous model with a single Gaussian, can you compute the probability that the next trip takes less than 18 minutes (given the new and more realistic model)?"
   ]
  },
  {
   "cell_type": "code",
   "execution_count": 137,
   "metadata": {
    "colab": {},
    "colab_type": "code",
    "id": "i95naq99OqOD"
   },
   "outputs": [
    {
     "name": "stdout",
     "output_type": "stream",
     "text": [
      "0.603\n"
     ]
    }
   ],
   "source": [
    "posterior_samples = mcmc.get_samples()\n",
    "\n",
    "n_samples = len(posterior_samples['at'])\n",
    "count = 0\n",
    "for i in range(n_samples):\n",
    "    assignment = np.random.binomial(1, posterior_samples['pi'][i])\n",
    "    tt_sample = np.random.normal(posterior_samples['at'][i,assignment], posterior_samples['tu'][i,assignment])\n",
    "    if tt_sample < 18:\n",
    "        count += 1\n",
    "\n",
    "print(count / n_samples)"
   ]
  },
  {
   "cell_type": "code",
   "execution_count": 139,
   "metadata": {},
   "outputs": [
    {
     "data": {
      "image/png": "[encoded data removed]",
      "text/plain": [
       "<Figure size 864x576 with 1 Axes>"
      ]
     },
     "metadata": {
      "needs_background": "light"
     },
     "output_type": "display_data"
    },
    {
     "data": {
      "image/png": "[encoded data removed]",
      "text/plain": [
       "<Figure size 864x576 with 1 Axes>"
      ]
     },
     "metadata": {
      "needs_background": "light"
     },
     "output_type": "display_data"
    }
   ],
   "source": [
    "sns.distplot(posterior_samples['at'].numpy())\n",
    "plt.show()\n",
    "sns.distplot(posterior_samples['tu'].numpy())\n",
    "plt.show()"
   ]
  },
  {
   "cell_type": "markdown",
   "metadata": {
    "colab_type": "text",
    "id": "aP56xIbdZymv"
   },
   "source": [
    "Did you notice how different the answer when compared to previous model (single Gaussian)? Which one makes more sense to you? "
   ]
  },
  {
   "cell_type": "markdown",
   "metadata": {
    "colab_type": "text",
    "id": "-NYT1z_nZymw"
   },
   "source": [
    "## Part 2 -  Mixture model"
   ]
  },
  {
   "cell_type": "markdown",
   "metadata": {
    "colab_type": "text",
    "id": "C4gwicftZymx"
   },
   "source": [
    "We know that by know you think you've had enough about Mixture Models... but in fact, there's (even) much more to it! :-)\n",
    "\n",
    "For example, your well-known K-Means clustering algorithm is in fact a special case of a mixture model. \n",
    "\n",
    "Let's create a dataset with 200 samples that are distributed around 2 centers with 0.6 standard deviation. We will use the function [`make_blobs` ](http://scikit-learn.org/stable/modules/generated/sklearn.datasets.make_blobs.html)that generates isotropic Gaussian blobs for clustering."
   ]
  },
  {
   "cell_type": "code",
   "execution_count": 140,
   "metadata": {
    "colab": {
     "base_uri": "https://localhost:8080/",
     "height": 71
    },
    "colab_type": "code",
    "executionInfo": {
     "elapsed": 1223,
     "status": "ok",
     "timestamp": 1581939913571,
     "user": {
      "displayName": "Filipe Rodrigues",
      "photoUrl": "https://lh3.googleusercontent.com/a-/AAuE7mDaWEE0j1oWjHLxVkWKYDXRh8NUBFCgGYF0XZOsvA=s64",
      "userId": "15636531912642599438"
     },
     "user_tz": -60
    },
    "id": "NH9LjxkhZymz",
    "outputId": "5884063a-8299-4c9c-a91e-e264950af40c"
   },
   "outputs": [
    {
     "name": "stderr",
     "output_type": "stream",
     "text": [
      "C:\\Users\\jorge\\Anaconda3\\lib\\site-packages\\sklearn\\utils\\deprecation.py:144: FutureWarning: The sklearn.datasets.samples_generator module is  deprecated in version 0.22 and will be removed in version 0.24. The corresponding classes / functions should instead be imported from sklearn.datasets. Anything that cannot be imported from sklearn.datasets is now part of the private API.\n",
      "  warnings.warn(message, FutureWarning)\n"
     ]
    }
   ],
   "source": [
    "# Generate some data\n",
    "from sklearn.datasets.samples_generator import make_blobs\n",
    "X, y_true = make_blobs(n_samples=100, centers=2, cluster_std=0.60, random_state=0)\n",
    "X = X[:, ::-1] # flip axes for better plotting"
   ]
  },
  {
   "cell_type": "code",
   "execution_count": 141,
   "metadata": {
    "colab": {
     "base_uri": "https://localhost:8080/",
     "height": 500
    },
    "colab_type": "code",
    "executionInfo": {
     "elapsed": 1351,
     "status": "ok",
     "timestamp": 1581943514046,
     "user": {
      "displayName": "Filipe Rodrigues",
      "photoUrl": "https://lh3.googleusercontent.com/a-/AAuE7mDaWEE0j1oWjHLxVkWKYDXRh8NUBFCgGYF0XZOsvA=s64",
      "userId": "15636531912642599438"
     },
     "user_tz": -60
    },
    "id": "kK-C6irDZym2",
    "outputId": "1a7bbbd3-4093-41a9-e304-33312b322f8e"
   },
   "outputs": [
    {
     "data": {
      "image/png": "[encoded data removed]",
      "text/plain": [
       "<Figure size 864x576 with 1 Axes>"
      ]
     },
     "metadata": {
      "needs_background": "light"
     },
     "output_type": "display_data"
    }
   ],
   "source": [
    "# Plot the data with K Means Labels\n",
    "from sklearn.cluster import KMeans\n",
    "kmeans = KMeans(2, random_state=0)\n",
    "labels = kmeans.fit(X).predict(X)\n",
    "sns.scatterplot(X[:, 0], X[:, 1], hue=labels)\n",
    "plt.title('Dataset with k-means labels');"
   ]
  },
  {
   "cell_type": "markdown",
   "metadata": {
    "colab_type": "text",
    "id": "rj4IkkGsZym3"
   },
   "source": [
    "Let's look at their centers"
   ]
  },
  {
   "cell_type": "code",
   "execution_count": 142,
   "metadata": {
    "colab": {
     "base_uri": "https://localhost:8080/",
     "height": 51
    },
    "colab_type": "code",
    "executionInfo": {
     "elapsed": 675,
     "status": "ok",
     "timestamp": 1581939920144,
     "user": {
      "displayName": "Filipe Rodrigues",
      "photoUrl": "https://lh3.googleusercontent.com/a-/AAuE7mDaWEE0j1oWjHLxVkWKYDXRh8NUBFCgGYF0XZOsvA=s64",
      "userId": "15636531912642599438"
     },
     "user_tz": -60
    },
    "id": "wpBYzgtTZym4",
    "outputId": "900cb309-8bdc-44b8-db4f-5ccd84137f3c"
   },
   "outputs": [
    {
     "data": {
      "text/plain": [
       "array([[1.0168431 , 2.04544835],\n",
       "       [4.32924029, 0.96079228]])"
      ]
     },
     "execution_count": 142,
     "metadata": {},
     "output_type": "execute_result"
    }
   ],
   "source": [
    "kmeans.cluster_centers_"
   ]
  },
  {
   "cell_type": "markdown",
   "metadata": {
    "colab_type": "text",
    "id": "-A7NHFszZym5"
   },
   "source": [
    "It's time for our Pyro GMM model. Get ready..."
   ]
  },
  {
   "cell_type": "markdown",
   "metadata": {
    "colab_type": "text",
    "collapsed": true,
    "id": "Ue_Py4GWZym6"
   },
   "source": [
    "Study the code below carefully:"
   ]
  },
  {
   "cell_type": "code",
   "execution_count": 143,
   "metadata": {
    "colab": {},
    "colab_type": "code",
    "id": "PCpux-RATCJu"
   },
   "outputs": [],
   "source": [
    "def gmm(data=None, K=2):\n",
    "    # Prior for the mixing proportions\n",
    "    weights = pyro.sample(\"weights\", pyro.distributions.Dirichlet(torch.ones(K)))\n",
    "    \n",
    "    # Priors for the mixture components\n",
    "    with pyro.plate('components', K):\n",
    "        mu = pyro.sample('mu', pyro.distributions.Normal(torch.zeros(2), 5.*torch.ones(2)).to_event(1))\n",
    "        sigma = pyro.sample('sigma', pyro.distributions.HalfCauchy(5.*torch.ones(2)).to_event(1))\n",
    "\n",
    "    with pyro.plate('data', len(data)):\n",
    "        assignment = pyro.sample('assignment', pyro.distributions.Categorical(weights), infer={\"enumerate\": \"parallel\"})\n",
    "        points = pyro.sample('obs', pyro.distributions.Normal(mu[assignment], sigma[assignment]).to_event(1), obs=data)\n",
    "\n",
    "    return points"
   ]
  },
  {
   "cell_type": "markdown",
   "metadata": {
    "colab_type": "text",
    "id": "QaJ8jJtk_p-r"
   },
   "source": [
    "Notice that since our data points are 2-dimensional, the mean ```mu``` and scale ```sigma``` of each cluster ```k``` must also be 2-dimensional. Therefore, we made use of the ```.to_event(1)``` to make ```mu``` and ```sigma``` be treated by Pyro as multivariate distributions. When in doubt, have a look at the ```batch_shape``` and ```event_shape```:"
   ]
  },
  {
   "cell_type": "code",
   "execution_count": 144,
   "metadata": {
    "colab": {
     "base_uri": "https://localhost:8080/",
     "height": 68
    },
    "colab_type": "code",
    "executionInfo": {
     "elapsed": 1434,
     "status": "ok",
     "timestamp": 1581940462204,
     "user": {
      "displayName": "Filipe Rodrigues",
      "photoUrl": "https://lh3.googleusercontent.com/a-/AAuE7mDaWEE0j1oWjHLxVkWKYDXRh8NUBFCgGYF0XZOsvA=s64",
      "userId": "15636531912642599438"
     },
     "user_tz": -60
    },
    "id": "qSyZGzdm_rDd",
    "outputId": "0e0c95a0-f3e9-4dd7-9ce9-ce6b81983a20"
   },
   "outputs": [
    {
     "name": "stdout",
     "output_type": "stream",
     "text": [
      "shape: torch.Size([2])\n",
      "batch_shape: torch.Size([])\n",
      "event_shape: torch.Size([2])\n"
     ]
    }
   ],
   "source": [
    "d = pyro.distributions.Normal(torch.zeros(2), 5.*torch.ones(2)).to_event(1)\n",
    "print(\"shape:\", d.shape())\n",
    "print(\"batch_shape:\", d.batch_shape)\n",
    "print(\"event_shape:\", d.event_shape)"
   ]
  },
  {
   "cell_type": "markdown",
   "metadata": {
    "colab_type": "text",
    "id": "Mw5WCR7hZym8"
   },
   "source": [
    "\n",
    "\n",
    "Inspect carefully the following code too. Particularly, notice that we're running with a single chain, instead of the default (chains=4, iterations=1000). Why would that be? \n",
    "\n",
    "To answer this question, run this code and check the results (compare with the centers above)."
   ]
  },
  {
   "cell_type": "code",
   "execution_count": 145,
   "metadata": {
    "colab": {
     "base_uri": "https://localhost:8080/",
     "height": 272
    },
    "colab_type": "code",
    "executionInfo": {
     "elapsed": 283221,
     "status": "ok",
     "timestamp": 1581940793295,
     "user": {
      "displayName": "Filipe Rodrigues",
      "photoUrl": "https://lh3.googleusercontent.com/a-/AAuE7mDaWEE0j1oWjHLxVkWKYDXRh8NUBFCgGYF0XZOsvA=s64",
      "userId": "15636531912642599438"
     },
     "user_tz": -60
    },
    "id": "PIv8T7fqhvMs",
    "outputId": "96a7deb4-c588-4582-f4bb-d17de6f52e1b"
   },
   "outputs": [
    {
     "name": "stderr",
     "output_type": "stream",
     "text": [
      "Warmup:   5%|██                                       | 76/1500 [04:40,  5.21s/it, step size=1.09e-01, acc. prob=0.793]"
     ]
    },
    {
     "ename": "KeyboardInterrupt",
     "evalue": "",
     "output_type": "error",
     "traceback": [
      "\u001b[1;31m---------------------------------------------------------------------------\u001b[0m",
      "\u001b[1;31mKeyboardInterrupt\u001b[0m                         Traceback (most recent call last)",
      "\u001b[1;32m<ipython-input-145-401c68404d24>\u001b[0m in \u001b[0;36m<module>\u001b[1;34m\u001b[0m\n\u001b[0;32m      4\u001b[0m \u001b[0mnuts_kernel\u001b[0m \u001b[1;33m=\u001b[0m \u001b[0mNUTS\u001b[0m\u001b[1;33m(\u001b[0m\u001b[0mgmm\u001b[0m\u001b[1;33m)\u001b[0m\u001b[1;33m\u001b[0m\u001b[1;33m\u001b[0m\u001b[0m\n\u001b[0;32m      5\u001b[0m \u001b[0mmcmc\u001b[0m \u001b[1;33m=\u001b[0m \u001b[0mMCMC\u001b[0m\u001b[1;33m(\u001b[0m\u001b[0mnuts_kernel\u001b[0m\u001b[1;33m,\u001b[0m \u001b[0mnum_samples\u001b[0m\u001b[1;33m=\u001b[0m\u001b[1;36m1000\u001b[0m\u001b[1;33m,\u001b[0m \u001b[0mwarmup_steps\u001b[0m\u001b[1;33m=\u001b[0m\u001b[1;36m500\u001b[0m\u001b[1;33m,\u001b[0m \u001b[0mnum_chains\u001b[0m\u001b[1;33m=\u001b[0m\u001b[1;36m1\u001b[0m\u001b[1;33m)\u001b[0m\u001b[1;33m\u001b[0m\u001b[1;33m\u001b[0m\u001b[0m\n\u001b[1;32m----> 6\u001b[1;33m \u001b[0mmcmc\u001b[0m\u001b[1;33m.\u001b[0m\u001b[0mrun\u001b[0m\u001b[1;33m(\u001b[0m\u001b[0mX_torch\u001b[0m\u001b[1;33m)\u001b[0m\u001b[1;33m\u001b[0m\u001b[1;33m\u001b[0m\u001b[0m\n\u001b[0m\u001b[0;32m      7\u001b[0m \u001b[1;33m\u001b[0m\u001b[0m\n\u001b[0;32m      8\u001b[0m \u001b[1;31m# Show summary of inference results\u001b[0m\u001b[1;33m\u001b[0m\u001b[1;33m\u001b[0m\u001b[1;33m\u001b[0m\u001b[0m\n",
      "\u001b[1;32m~\\Anaconda3\\lib\\site-packages\\pyro\\poutine\\messenger.py\u001b[0m in \u001b[0;36m_context_wrap\u001b[1;34m(context, fn, *args, **kwargs)\u001b[0m\n\u001b[0;32m      9\u001b[0m \u001b[1;32mdef\u001b[0m \u001b[0m_context_wrap\u001b[0m\u001b[1;33m(\u001b[0m\u001b[0mcontext\u001b[0m\u001b[1;33m,\u001b[0m \u001b[0mfn\u001b[0m\u001b[1;33m,\u001b[0m \u001b[1;33m*\u001b[0m\u001b[0margs\u001b[0m\u001b[1;33m,\u001b[0m \u001b[1;33m**\u001b[0m\u001b[0mkwargs\u001b[0m\u001b[1;33m)\u001b[0m\u001b[1;33m:\u001b[0m\u001b[1;33m\u001b[0m\u001b[1;33m\u001b[0m\u001b[0m\n\u001b[0;32m     10\u001b[0m     \u001b[1;32mwith\u001b[0m \u001b[0mcontext\u001b[0m\u001b[1;33m:\u001b[0m\u001b[1;33m\u001b[0m\u001b[1;33m\u001b[0m\u001b[0m\n\u001b[1;32m---> 11\u001b[1;33m         \u001b[1;32mreturn\u001b[0m \u001b[0mfn\u001b[0m\u001b[1;33m(\u001b[0m\u001b[1;33m*\u001b[0m\u001b[0margs\u001b[0m\u001b[1;33m,\u001b[0m \u001b[1;33m**\u001b[0m\u001b[0mkwargs\u001b[0m\u001b[1;33m)\u001b[0m\u001b[1;33m\u001b[0m\u001b[1;33m\u001b[0m\u001b[0m\n\u001b[0m\u001b[0;32m     12\u001b[0m \u001b[1;33m\u001b[0m\u001b[0m\n\u001b[0;32m     13\u001b[0m \u001b[1;33m\u001b[0m\u001b[0m\n",
      "\u001b[1;32m~\\Anaconda3\\lib\\site-packages\\pyro\\infer\\mcmc\\api.py\u001b[0m in \u001b[0;36mrun\u001b[1;34m(self, *args, **kwargs)\u001b[0m\n\u001b[0;32m    355\u001b[0m         \u001b[0mz_flat_acc\u001b[0m \u001b[1;33m=\u001b[0m \u001b[1;33m[\u001b[0m\u001b[1;33m[\u001b[0m\u001b[1;33m]\u001b[0m \u001b[1;32mfor\u001b[0m \u001b[0m_\u001b[0m \u001b[1;32min\u001b[0m \u001b[0mrange\u001b[0m\u001b[1;33m(\u001b[0m\u001b[0mself\u001b[0m\u001b[1;33m.\u001b[0m\u001b[0mnum_chains\u001b[0m\u001b[1;33m)\u001b[0m\u001b[1;33m]\u001b[0m\u001b[1;33m\u001b[0m\u001b[1;33m\u001b[0m\u001b[0m\n\u001b[0;32m    356\u001b[0m         \u001b[1;32mwith\u001b[0m \u001b[0mpyro\u001b[0m\u001b[1;33m.\u001b[0m\u001b[0mvalidation_enabled\u001b[0m\u001b[1;33m(\u001b[0m\u001b[1;32mnot\u001b[0m \u001b[0mself\u001b[0m\u001b[1;33m.\u001b[0m\u001b[0mdisable_validation\u001b[0m\u001b[1;33m)\u001b[0m\u001b[1;33m:\u001b[0m\u001b[1;33m\u001b[0m\u001b[1;33m\u001b[0m\u001b[0m\n\u001b[1;32m--> 357\u001b[1;33m             \u001b[1;32mfor\u001b[0m \u001b[0mx\u001b[0m\u001b[1;33m,\u001b[0m \u001b[0mchain_id\u001b[0m \u001b[1;32min\u001b[0m \u001b[0mself\u001b[0m\u001b[1;33m.\u001b[0m\u001b[0msampler\u001b[0m\u001b[1;33m.\u001b[0m\u001b[0mrun\u001b[0m\u001b[1;33m(\u001b[0m\u001b[1;33m*\u001b[0m\u001b[0margs\u001b[0m\u001b[1;33m,\u001b[0m \u001b[1;33m**\u001b[0m\u001b[0mkwargs\u001b[0m\u001b[1;33m)\u001b[0m\u001b[1;33m:\u001b[0m\u001b[1;33m\u001b[0m\u001b[1;33m\u001b[0m\u001b[0m\n\u001b[0m\u001b[0;32m    358\u001b[0m                 \u001b[1;32mif\u001b[0m \u001b[0mnum_samples\u001b[0m\u001b[1;33m[\u001b[0m\u001b[0mchain_id\u001b[0m\u001b[1;33m]\u001b[0m \u001b[1;33m==\u001b[0m \u001b[1;36m0\u001b[0m\u001b[1;33m:\u001b[0m\u001b[1;33m\u001b[0m\u001b[1;33m\u001b[0m\u001b[0m\n\u001b[0;32m    359\u001b[0m                     \u001b[0mnum_samples\u001b[0m\u001b[1;33m[\u001b[0m\u001b[0mchain_id\u001b[0m\u001b[1;33m]\u001b[0m \u001b[1;33m+=\u001b[0m \u001b[1;36m1\u001b[0m\u001b[1;33m\u001b[0m\u001b[1;33m\u001b[0m\u001b[0m\n",
      "\u001b[1;32m~\\Anaconda3\\lib\\site-packages\\pyro\\infer\\mcmc\\api.py\u001b[0m in \u001b[0;36mrun\u001b[1;34m(self, *args, **kwargs)\u001b[0m\n\u001b[0;32m    166\u001b[0m             for sample in _gen_samples(self.kernel, self.warmup_steps, self.num_samples, hook_w_logging,\n\u001b[0;32m    167\u001b[0m                                        \u001b[0mi\u001b[0m \u001b[1;32mif\u001b[0m \u001b[0mself\u001b[0m\u001b[1;33m.\u001b[0m\u001b[0mnum_chains\u001b[0m \u001b[1;33m>\u001b[0m \u001b[1;36m1\u001b[0m \u001b[1;32melse\u001b[0m \u001b[1;32mNone\u001b[0m\u001b[1;33m,\u001b[0m\u001b[1;33m\u001b[0m\u001b[1;33m\u001b[0m\u001b[0m\n\u001b[1;32m--> 168\u001b[1;33m                                        *args, **kwargs):\n\u001b[0m\u001b[0;32m    169\u001b[0m                 \u001b[1;32myield\u001b[0m \u001b[0msample\u001b[0m\u001b[1;33m,\u001b[0m \u001b[0mi\u001b[0m  \u001b[1;31m# sample, chain_id\u001b[0m\u001b[1;33m\u001b[0m\u001b[1;33m\u001b[0m\u001b[0m\n\u001b[0;32m    170\u001b[0m             \u001b[0mself\u001b[0m\u001b[1;33m.\u001b[0m\u001b[0mkernel\u001b[0m\u001b[1;33m.\u001b[0m\u001b[0mcleanup\u001b[0m\u001b[1;33m(\u001b[0m\u001b[1;33m)\u001b[0m\u001b[1;33m\u001b[0m\u001b[1;33m\u001b[0m\u001b[0m\n",
      "\u001b[1;32m~\\Anaconda3\\lib\\site-packages\\pyro\\infer\\mcmc\\api.py\u001b[0m in \u001b[0;36m_gen_samples\u001b[1;34m(kernel, warmup_steps, num_samples, hook, chain_id, *args, **kwargs)\u001b[0m\n\u001b[0;32m    113\u001b[0m     \u001b[1;32myield\u001b[0m \u001b[1;33m{\u001b[0m\u001b[0mk\u001b[0m\u001b[1;33m:\u001b[0m \u001b[0mv\u001b[0m\u001b[1;33m.\u001b[0m\u001b[0mshape\u001b[0m \u001b[1;32mfor\u001b[0m \u001b[0mk\u001b[0m\u001b[1;33m,\u001b[0m \u001b[0mv\u001b[0m \u001b[1;32min\u001b[0m \u001b[0mparams\u001b[0m\u001b[1;33m.\u001b[0m\u001b[0mitems\u001b[0m\u001b[1;33m(\u001b[0m\u001b[1;33m)\u001b[0m\u001b[1;33m}\u001b[0m\u001b[1;33m\u001b[0m\u001b[1;33m\u001b[0m\u001b[0m\n\u001b[0;32m    114\u001b[0m     \u001b[1;32mfor\u001b[0m \u001b[0mi\u001b[0m \u001b[1;32min\u001b[0m \u001b[0mrange\u001b[0m\u001b[1;33m(\u001b[0m\u001b[0mwarmup_steps\u001b[0m\u001b[1;33m)\u001b[0m\u001b[1;33m:\u001b[0m\u001b[1;33m\u001b[0m\u001b[1;33m\u001b[0m\u001b[0m\n\u001b[1;32m--> 115\u001b[1;33m         \u001b[0mparams\u001b[0m \u001b[1;33m=\u001b[0m \u001b[0mkernel\u001b[0m\u001b[1;33m.\u001b[0m\u001b[0msample\u001b[0m\u001b[1;33m(\u001b[0m\u001b[0mparams\u001b[0m\u001b[1;33m)\u001b[0m\u001b[1;33m\u001b[0m\u001b[1;33m\u001b[0m\u001b[0m\n\u001b[0m\u001b[0;32m    116\u001b[0m         \u001b[0mhook\u001b[0m\u001b[1;33m(\u001b[0m\u001b[0mkernel\u001b[0m\u001b[1;33m,\u001b[0m \u001b[0mparams\u001b[0m\u001b[1;33m,\u001b[0m \u001b[1;34m'Warmup [{}]'\u001b[0m\u001b[1;33m.\u001b[0m\u001b[0mformat\u001b[0m\u001b[1;33m(\u001b[0m\u001b[0mchain_id\u001b[0m\u001b[1;33m)\u001b[0m \u001b[1;32mif\u001b[0m \u001b[0mchain_id\u001b[0m \u001b[1;32mis\u001b[0m \u001b[1;32mnot\u001b[0m \u001b[1;32mNone\u001b[0m \u001b[1;32melse\u001b[0m \u001b[1;34m'Warmup'\u001b[0m\u001b[1;33m,\u001b[0m \u001b[0mi\u001b[0m\u001b[1;33m)\u001b[0m\u001b[1;33m\u001b[0m\u001b[1;33m\u001b[0m\u001b[0m\n\u001b[0;32m    117\u001b[0m     \u001b[1;32mfor\u001b[0m \u001b[0mi\u001b[0m \u001b[1;32min\u001b[0m \u001b[0mrange\u001b[0m\u001b[1;33m(\u001b[0m\u001b[0mnum_samples\u001b[0m\u001b[1;33m)\u001b[0m\u001b[1;33m:\u001b[0m\u001b[1;33m\u001b[0m\u001b[1;33m\u001b[0m\u001b[0m\n",
      "\u001b[1;32m~\\Anaconda3\\lib\\site-packages\\pyro\\infer\\mcmc\\nuts.py\u001b[0m in \u001b[0;36msample\u001b[1;34m(self, params)\u001b[0m\n\u001b[0;32m    342\u001b[0m                 \u001b[1;32mif\u001b[0m \u001b[0mdirection\u001b[0m \u001b[1;33m==\u001b[0m \u001b[1;36m1\u001b[0m\u001b[1;33m:\u001b[0m  \u001b[1;31m# go to the right, start from the right leaf of current tree\u001b[0m\u001b[1;33m\u001b[0m\u001b[1;33m\u001b[0m\u001b[0m\n\u001b[0;32m    343\u001b[0m                     new_tree = self._build_tree(z_right, r_right, z_right_grads, log_slice,\n\u001b[1;32m--> 344\u001b[1;33m                                                 direction, tree_depth, energy_current)\n\u001b[0m\u001b[0;32m    345\u001b[0m                     \u001b[1;31m# update leaf for the next doubling process\u001b[0m\u001b[1;33m\u001b[0m\u001b[1;33m\u001b[0m\u001b[1;33m\u001b[0m\u001b[0m\n\u001b[0;32m    346\u001b[0m                     \u001b[0mz_right\u001b[0m \u001b[1;33m=\u001b[0m \u001b[0mnew_tree\u001b[0m\u001b[1;33m.\u001b[0m\u001b[0mz_right\u001b[0m\u001b[1;33m\u001b[0m\u001b[1;33m\u001b[0m\u001b[0m\n",
      "\u001b[1;32m~\\Anaconda3\\lib\\site-packages\\pyro\\infer\\mcmc\\nuts.py\u001b[0m in \u001b[0;36m_build_tree\u001b[1;34m(self, z, r, z_grads, log_slice, direction, tree_depth, energy_current)\u001b[0m\n\u001b[0;32m    225\u001b[0m             \u001b[0mz_grads\u001b[0m \u001b[1;33m=\u001b[0m \u001b[0mhalf_tree\u001b[0m\u001b[1;33m.\u001b[0m\u001b[0mz_left_grads\u001b[0m\u001b[1;33m\u001b[0m\u001b[1;33m\u001b[0m\u001b[0m\n\u001b[0;32m    226\u001b[0m         other_half_tree = self._build_tree(z, r, z_grads, log_slice,\n\u001b[1;32m--> 227\u001b[1;33m                                            direction, tree_depth-1, energy_current)\n\u001b[0m\u001b[0;32m    228\u001b[0m \u001b[1;33m\u001b[0m\u001b[0m\n\u001b[0;32m    229\u001b[0m         \u001b[1;32mif\u001b[0m \u001b[0mself\u001b[0m\u001b[1;33m.\u001b[0m\u001b[0muse_multinomial_sampling\u001b[0m\u001b[1;33m:\u001b[0m\u001b[1;33m\u001b[0m\u001b[1;33m\u001b[0m\u001b[0m\n",
      "\u001b[1;32m~\\Anaconda3\\lib\\site-packages\\pyro\\infer\\mcmc\\nuts.py\u001b[0m in \u001b[0;36m_build_tree\u001b[1;34m(self, z, r, z_grads, log_slice, direction, tree_depth, energy_current)\u001b[0m\n\u001b[0;32m    204\u001b[0m         \u001b[1;31m# build the first half of tree\u001b[0m\u001b[1;33m\u001b[0m\u001b[1;33m\u001b[0m\u001b[1;33m\u001b[0m\u001b[0m\n\u001b[0;32m    205\u001b[0m         half_tree = self._build_tree(z, r, z_grads, log_slice,\n\u001b[1;32m--> 206\u001b[1;33m                                      direction, tree_depth-1, energy_current)\n\u001b[0m\u001b[0;32m    207\u001b[0m         \u001b[0mz_proposal\u001b[0m \u001b[1;33m=\u001b[0m \u001b[0mhalf_tree\u001b[0m\u001b[1;33m.\u001b[0m\u001b[0mz_proposal\u001b[0m\u001b[1;33m\u001b[0m\u001b[1;33m\u001b[0m\u001b[0m\n\u001b[0;32m    208\u001b[0m         \u001b[0mz_proposal_pe\u001b[0m \u001b[1;33m=\u001b[0m \u001b[0mhalf_tree\u001b[0m\u001b[1;33m.\u001b[0m\u001b[0mz_proposal_pe\u001b[0m\u001b[1;33m\u001b[0m\u001b[1;33m\u001b[0m\u001b[0m\n",
      "\u001b[1;32m~\\Anaconda3\\lib\\site-packages\\pyro\\infer\\mcmc\\nuts.py\u001b[0m in \u001b[0;36m_build_tree\u001b[1;34m(self, z, r, z_grads, log_slice, direction, tree_depth, energy_current)\u001b[0m\n\u001b[0;32m    204\u001b[0m         \u001b[1;31m# build the first half of tree\u001b[0m\u001b[1;33m\u001b[0m\u001b[1;33m\u001b[0m\u001b[1;33m\u001b[0m\u001b[0m\n\u001b[0;32m    205\u001b[0m         half_tree = self._build_tree(z, r, z_grads, log_slice,\n\u001b[1;32m--> 206\u001b[1;33m                                      direction, tree_depth-1, energy_current)\n\u001b[0m\u001b[0;32m    207\u001b[0m         \u001b[0mz_proposal\u001b[0m \u001b[1;33m=\u001b[0m \u001b[0mhalf_tree\u001b[0m\u001b[1;33m.\u001b[0m\u001b[0mz_proposal\u001b[0m\u001b[1;33m\u001b[0m\u001b[1;33m\u001b[0m\u001b[0m\n\u001b[0;32m    208\u001b[0m         \u001b[0mz_proposal_pe\u001b[0m \u001b[1;33m=\u001b[0m \u001b[0mhalf_tree\u001b[0m\u001b[1;33m.\u001b[0m\u001b[0mz_proposal_pe\u001b[0m\u001b[1;33m\u001b[0m\u001b[1;33m\u001b[0m\u001b[0m\n",
      "\u001b[1;32m~\\Anaconda3\\lib\\site-packages\\pyro\\infer\\mcmc\\nuts.py\u001b[0m in \u001b[0;36m_build_tree\u001b[1;34m(self, z, r, z_grads, log_slice, direction, tree_depth, energy_current)\u001b[0m\n\u001b[0;32m    204\u001b[0m         \u001b[1;31m# build the first half of tree\u001b[0m\u001b[1;33m\u001b[0m\u001b[1;33m\u001b[0m\u001b[1;33m\u001b[0m\u001b[0m\n\u001b[0;32m    205\u001b[0m         half_tree = self._build_tree(z, r, z_grads, log_slice,\n\u001b[1;32m--> 206\u001b[1;33m                                      direction, tree_depth-1, energy_current)\n\u001b[0m\u001b[0;32m    207\u001b[0m         \u001b[0mz_proposal\u001b[0m \u001b[1;33m=\u001b[0m \u001b[0mhalf_tree\u001b[0m\u001b[1;33m.\u001b[0m\u001b[0mz_proposal\u001b[0m\u001b[1;33m\u001b[0m\u001b[1;33m\u001b[0m\u001b[0m\n\u001b[0;32m    208\u001b[0m         \u001b[0mz_proposal_pe\u001b[0m \u001b[1;33m=\u001b[0m \u001b[0mhalf_tree\u001b[0m\u001b[1;33m.\u001b[0m\u001b[0mz_proposal_pe\u001b[0m\u001b[1;33m\u001b[0m\u001b[1;33m\u001b[0m\u001b[0m\n",
      "\u001b[1;32m~\\Anaconda3\\lib\\site-packages\\pyro\\infer\\mcmc\\nuts.py\u001b[0m in \u001b[0;36m_build_tree\u001b[1;34m(self, z, r, z_grads, log_slice, direction, tree_depth, energy_current)\u001b[0m\n\u001b[0;32m    225\u001b[0m             \u001b[0mz_grads\u001b[0m \u001b[1;33m=\u001b[0m \u001b[0mhalf_tree\u001b[0m\u001b[1;33m.\u001b[0m\u001b[0mz_left_grads\u001b[0m\u001b[1;33m\u001b[0m\u001b[1;33m\u001b[0m\u001b[0m\n\u001b[0;32m    226\u001b[0m         other_half_tree = self._build_tree(z, r, z_grads, log_slice,\n\u001b[1;32m--> 227\u001b[1;33m                                            direction, tree_depth-1, energy_current)\n\u001b[0m\u001b[0;32m    228\u001b[0m \u001b[1;33m\u001b[0m\u001b[0m\n\u001b[0;32m    229\u001b[0m         \u001b[1;32mif\u001b[0m \u001b[0mself\u001b[0m\u001b[1;33m.\u001b[0m\u001b[0muse_multinomial_sampling\u001b[0m\u001b[1;33m:\u001b[0m\u001b[1;33m\u001b[0m\u001b[1;33m\u001b[0m\u001b[0m\n",
      "\u001b[1;32m~\\Anaconda3\\lib\\site-packages\\pyro\\infer\\mcmc\\nuts.py\u001b[0m in \u001b[0;36m_build_tree\u001b[1;34m(self, z, r, z_grads, log_slice, direction, tree_depth, energy_current)\u001b[0m\n\u001b[0;32m    225\u001b[0m             \u001b[0mz_grads\u001b[0m \u001b[1;33m=\u001b[0m \u001b[0mhalf_tree\u001b[0m\u001b[1;33m.\u001b[0m\u001b[0mz_left_grads\u001b[0m\u001b[1;33m\u001b[0m\u001b[1;33m\u001b[0m\u001b[0m\n\u001b[0;32m    226\u001b[0m         other_half_tree = self._build_tree(z, r, z_grads, log_slice,\n\u001b[1;32m--> 227\u001b[1;33m                                            direction, tree_depth-1, energy_current)\n\u001b[0m\u001b[0;32m    228\u001b[0m \u001b[1;33m\u001b[0m\u001b[0m\n\u001b[0;32m    229\u001b[0m         \u001b[1;32mif\u001b[0m \u001b[0mself\u001b[0m\u001b[1;33m.\u001b[0m\u001b[0muse_multinomial_sampling\u001b[0m\u001b[1;33m:\u001b[0m\u001b[1;33m\u001b[0m\u001b[1;33m\u001b[0m\u001b[0m\n",
      "\u001b[1;32m~\\Anaconda3\\lib\\site-packages\\pyro\\infer\\mcmc\\nuts.py\u001b[0m in \u001b[0;36m_build_tree\u001b[1;34m(self, z, r, z_grads, log_slice, direction, tree_depth, energy_current)\u001b[0m\n\u001b[0;32m    200\u001b[0m     \u001b[1;32mdef\u001b[0m \u001b[0m_build_tree\u001b[0m\u001b[1;33m(\u001b[0m\u001b[0mself\u001b[0m\u001b[1;33m,\u001b[0m \u001b[0mz\u001b[0m\u001b[1;33m,\u001b[0m \u001b[0mr\u001b[0m\u001b[1;33m,\u001b[0m \u001b[0mz_grads\u001b[0m\u001b[1;33m,\u001b[0m \u001b[0mlog_slice\u001b[0m\u001b[1;33m,\u001b[0m \u001b[0mdirection\u001b[0m\u001b[1;33m,\u001b[0m \u001b[0mtree_depth\u001b[0m\u001b[1;33m,\u001b[0m \u001b[0menergy_current\u001b[0m\u001b[1;33m)\u001b[0m\u001b[1;33m:\u001b[0m\u001b[1;33m\u001b[0m\u001b[1;33m\u001b[0m\u001b[0m\n\u001b[0;32m    201\u001b[0m         \u001b[1;32mif\u001b[0m \u001b[0mtree_depth\u001b[0m \u001b[1;33m==\u001b[0m \u001b[1;36m0\u001b[0m\u001b[1;33m:\u001b[0m\u001b[1;33m\u001b[0m\u001b[1;33m\u001b[0m\u001b[0m\n\u001b[1;32m--> 202\u001b[1;33m             \u001b[1;32mreturn\u001b[0m \u001b[0mself\u001b[0m\u001b[1;33m.\u001b[0m\u001b[0m_build_basetree\u001b[0m\u001b[1;33m(\u001b[0m\u001b[0mz\u001b[0m\u001b[1;33m,\u001b[0m \u001b[0mr\u001b[0m\u001b[1;33m,\u001b[0m \u001b[0mz_grads\u001b[0m\u001b[1;33m,\u001b[0m \u001b[0mlog_slice\u001b[0m\u001b[1;33m,\u001b[0m \u001b[0mdirection\u001b[0m\u001b[1;33m,\u001b[0m \u001b[0menergy_current\u001b[0m\u001b[1;33m)\u001b[0m\u001b[1;33m\u001b[0m\u001b[1;33m\u001b[0m\u001b[0m\n\u001b[0m\u001b[0;32m    203\u001b[0m \u001b[1;33m\u001b[0m\u001b[0m\n\u001b[0;32m    204\u001b[0m         \u001b[1;31m# build the first half of tree\u001b[0m\u001b[1;33m\u001b[0m\u001b[1;33m\u001b[0m\u001b[1;33m\u001b[0m\u001b[0m\n",
      "\u001b[1;32m~\\Anaconda3\\lib\\site-packages\\pyro\\infer\\mcmc\\nuts.py\u001b[0m in \u001b[0;36m_build_basetree\u001b[1;34m(self, z, r, z_grads, log_slice, direction, energy_current)\u001b[0m\n\u001b[0;32m    176\u001b[0m         \u001b[0mstep_size\u001b[0m \u001b[1;33m=\u001b[0m \u001b[0mself\u001b[0m\u001b[1;33m.\u001b[0m\u001b[0mstep_size\u001b[0m \u001b[1;32mif\u001b[0m \u001b[0mdirection\u001b[0m \u001b[1;33m==\u001b[0m \u001b[1;36m1\u001b[0m \u001b[1;32melse\u001b[0m \u001b[1;33m-\u001b[0m\u001b[0mself\u001b[0m\u001b[1;33m.\u001b[0m\u001b[0mstep_size\u001b[0m\u001b[1;33m\u001b[0m\u001b[1;33m\u001b[0m\u001b[0m\n\u001b[0;32m    177\u001b[0m         z_new, r_new, z_grads, potential_energy = velocity_verlet(\n\u001b[1;32m--> 178\u001b[1;33m             z, r, self.potential_fn, self.inverse_mass_matrix, step_size, z_grads=z_grads)\n\u001b[0m\u001b[0;32m    179\u001b[0m         \u001b[0mr_new_flat\u001b[0m \u001b[1;33m=\u001b[0m \u001b[0mtorch\u001b[0m\u001b[1;33m.\u001b[0m\u001b[0mcat\u001b[0m\u001b[1;33m(\u001b[0m\u001b[1;33m[\u001b[0m\u001b[0mr_new\u001b[0m\u001b[1;33m[\u001b[0m\u001b[0msite_name\u001b[0m\u001b[1;33m]\u001b[0m\u001b[1;33m.\u001b[0m\u001b[0mreshape\u001b[0m\u001b[1;33m(\u001b[0m\u001b[1;33m-\u001b[0m\u001b[1;36m1\u001b[0m\u001b[1;33m)\u001b[0m \u001b[1;32mfor\u001b[0m \u001b[0msite_name\u001b[0m \u001b[1;32min\u001b[0m \u001b[0msorted\u001b[0m\u001b[1;33m(\u001b[0m\u001b[0mr_new\u001b[0m\u001b[1;33m)\u001b[0m\u001b[1;33m]\u001b[0m\u001b[1;33m)\u001b[0m\u001b[1;33m\u001b[0m\u001b[1;33m\u001b[0m\u001b[0m\n\u001b[0;32m    180\u001b[0m         \u001b[0menergy_new\u001b[0m \u001b[1;33m=\u001b[0m \u001b[0mpotential_energy\u001b[0m \u001b[1;33m+\u001b[0m \u001b[0mself\u001b[0m\u001b[1;33m.\u001b[0m\u001b[0m_kinetic_energy\u001b[0m\u001b[1;33m(\u001b[0m\u001b[0mr_new\u001b[0m\u001b[1;33m)\u001b[0m\u001b[1;33m\u001b[0m\u001b[1;33m\u001b[0m\u001b[0m\n",
      "\u001b[1;32m~\\Anaconda3\\lib\\site-packages\\pyro\\ops\\integrator.py\u001b[0m in \u001b[0;36mvelocity_verlet\u001b[1;34m(z, r, potential_fn, inverse_mass_matrix, step_size, num_steps, z_grads)\u001b[0m\n\u001b[0;32m     35\u001b[0m                                                                         \u001b[0minverse_mass_matrix\u001b[0m\u001b[1;33m,\u001b[0m\u001b[1;33m\u001b[0m\u001b[1;33m\u001b[0m\u001b[0m\n\u001b[0;32m     36\u001b[0m                                                                         \u001b[0mstep_size\u001b[0m\u001b[1;33m,\u001b[0m\u001b[1;33m\u001b[0m\u001b[1;33m\u001b[0m\u001b[0m\n\u001b[1;32m---> 37\u001b[1;33m                                                                         z_grads)\n\u001b[0m\u001b[0;32m     38\u001b[0m     \u001b[1;32mreturn\u001b[0m \u001b[0mz_next\u001b[0m\u001b[1;33m,\u001b[0m \u001b[0mr_next\u001b[0m\u001b[1;33m,\u001b[0m \u001b[0mz_grads\u001b[0m\u001b[1;33m,\u001b[0m \u001b[0mpotential_energy\u001b[0m\u001b[1;33m\u001b[0m\u001b[1;33m\u001b[0m\u001b[0m\n\u001b[0;32m     39\u001b[0m \u001b[1;33m\u001b[0m\u001b[0m\n",
      "\u001b[1;32m~\\Anaconda3\\lib\\site-packages\\pyro\\ops\\integrator.py\u001b[0m in \u001b[0;36m_single_step_verlet\u001b[1;34m(z, r, potential_fn, inverse_mass_matrix, step_size, z_grads)\u001b[0m\n\u001b[0;32m     53\u001b[0m         \u001b[0mz\u001b[0m\u001b[1;33m[\u001b[0m\u001b[0msite_name\u001b[0m\u001b[1;33m]\u001b[0m \u001b[1;33m=\u001b[0m \u001b[0mz\u001b[0m\u001b[1;33m[\u001b[0m\u001b[0msite_name\u001b[0m\u001b[1;33m]\u001b[0m \u001b[1;33m+\u001b[0m \u001b[0mstep_size\u001b[0m \u001b[1;33m*\u001b[0m \u001b[0mr_grads\u001b[0m\u001b[1;33m[\u001b[0m\u001b[0msite_name\u001b[0m\u001b[1;33m]\u001b[0m  \u001b[1;31m# z(n+1)\u001b[0m\u001b[1;33m\u001b[0m\u001b[1;33m\u001b[0m\u001b[0m\n\u001b[0;32m     54\u001b[0m \u001b[1;33m\u001b[0m\u001b[0m\n\u001b[1;32m---> 55\u001b[1;33m     \u001b[0mz_grads\u001b[0m\u001b[1;33m,\u001b[0m \u001b[0mpotential_energy\u001b[0m \u001b[1;33m=\u001b[0m \u001b[0mpotential_grad\u001b[0m\u001b[1;33m(\u001b[0m\u001b[0mpotential_fn\u001b[0m\u001b[1;33m,\u001b[0m \u001b[0mz\u001b[0m\u001b[1;33m)\u001b[0m\u001b[1;33m\u001b[0m\u001b[1;33m\u001b[0m\u001b[0m\n\u001b[0m\u001b[0;32m     56\u001b[0m     \u001b[1;32mfor\u001b[0m \u001b[0msite_name\u001b[0m \u001b[1;32min\u001b[0m \u001b[0mr\u001b[0m\u001b[1;33m:\u001b[0m\u001b[1;33m\u001b[0m\u001b[1;33m\u001b[0m\u001b[0m\n\u001b[0;32m     57\u001b[0m         \u001b[0mr\u001b[0m\u001b[1;33m[\u001b[0m\u001b[0msite_name\u001b[0m\u001b[1;33m]\u001b[0m \u001b[1;33m=\u001b[0m \u001b[0mr\u001b[0m\u001b[1;33m[\u001b[0m\u001b[0msite_name\u001b[0m\u001b[1;33m]\u001b[0m \u001b[1;33m+\u001b[0m \u001b[1;36m0.5\u001b[0m \u001b[1;33m*\u001b[0m \u001b[0mstep_size\u001b[0m \u001b[1;33m*\u001b[0m \u001b[1;33m(\u001b[0m\u001b[1;33m-\u001b[0m\u001b[0mz_grads\u001b[0m\u001b[1;33m[\u001b[0m\u001b[0msite_name\u001b[0m\u001b[1;33m]\u001b[0m\u001b[1;33m)\u001b[0m  \u001b[1;31m# r(n+1)\u001b[0m\u001b[1;33m\u001b[0m\u001b[1;33m\u001b[0m\u001b[0m\n",
      "\u001b[1;32m~\\Anaconda3\\lib\\site-packages\\pyro\\ops\\integrator.py\u001b[0m in \u001b[0;36mpotential_grad\u001b[1;34m(potential_fn, z)\u001b[0m\n\u001b[0;32m     84\u001b[0m             \u001b[1;32mraise\u001b[0m \u001b[0me\u001b[0m\u001b[1;33m\u001b[0m\u001b[1;33m\u001b[0m\u001b[0m\n\u001b[0;32m     85\u001b[0m \u001b[1;33m\u001b[0m\u001b[0m\n\u001b[1;32m---> 86\u001b[1;33m     \u001b[0mgrads\u001b[0m \u001b[1;33m=\u001b[0m \u001b[0mgrad\u001b[0m\u001b[1;33m(\u001b[0m\u001b[0mpotential_energy\u001b[0m\u001b[1;33m,\u001b[0m \u001b[0mz_nodes\u001b[0m\u001b[1;33m)\u001b[0m\u001b[1;33m\u001b[0m\u001b[1;33m\u001b[0m\u001b[0m\n\u001b[0m\u001b[0;32m     87\u001b[0m     \u001b[1;32mfor\u001b[0m \u001b[0mnode\u001b[0m \u001b[1;32min\u001b[0m \u001b[0mz_nodes\u001b[0m\u001b[1;33m:\u001b[0m\u001b[1;33m\u001b[0m\u001b[1;33m\u001b[0m\u001b[0m\n\u001b[0;32m     88\u001b[0m         \u001b[0mnode\u001b[0m\u001b[1;33m.\u001b[0m\u001b[0mrequires_grad_\u001b[0m\u001b[1;33m(\u001b[0m\u001b[1;32mFalse\u001b[0m\u001b[1;33m)\u001b[0m\u001b[1;33m\u001b[0m\u001b[1;33m\u001b[0m\u001b[0m\n",
      "\u001b[1;32m~\\Anaconda3\\lib\\site-packages\\torch\\autograd\\__init__.py\u001b[0m in \u001b[0;36mgrad\u001b[1;34m(outputs, inputs, grad_outputs, retain_graph, create_graph, only_inputs, allow_unused)\u001b[0m\n\u001b[0;32m    155\u001b[0m     return Variable._execution_engine.run_backward(\n\u001b[0;32m    156\u001b[0m         \u001b[0moutputs\u001b[0m\u001b[1;33m,\u001b[0m \u001b[0mgrad_outputs\u001b[0m\u001b[1;33m,\u001b[0m \u001b[0mretain_graph\u001b[0m\u001b[1;33m,\u001b[0m \u001b[0mcreate_graph\u001b[0m\u001b[1;33m,\u001b[0m\u001b[1;33m\u001b[0m\u001b[1;33m\u001b[0m\u001b[0m\n\u001b[1;32m--> 157\u001b[1;33m         inputs, allow_unused)\n\u001b[0m\u001b[0;32m    158\u001b[0m \u001b[1;33m\u001b[0m\u001b[0m\n\u001b[0;32m    159\u001b[0m \u001b[1;33m\u001b[0m\u001b[0m\n",
      "\u001b[1;31mKeyboardInterrupt\u001b[0m: "
     ]
    }
   ],
   "source": [
    "X_torch = torch.from_numpy(X.copy()).float()\n",
    "\n",
    "# Run inference in Pyro\n",
    "nuts_kernel = NUTS(gmm)\n",
    "mcmc = MCMC(nuts_kernel, num_samples=1000, warmup_steps=500, num_chains=1)\n",
    "mcmc.run(X_torch)\n",
    "\n",
    "# Show summary of inference results\n",
    "mcmc.summary()"
   ]
  },
  {
   "cell_type": "markdown",
   "metadata": {
    "colab_type": "text",
    "id": "Fro8DCkmZym_"
   },
   "source": [
    "Now, try to put the default values (chains=4, iterations=1000). What's the problem? \n"
   ]
  },
  {
   "cell_type": "code",
   "execution_count": 0,
   "metadata": {
    "colab": {},
    "colab_type": "code",
    "id": "5y28tvOuZynA"
   },
   "outputs": [],
   "source": [
    "X_torch = torch.from_numpy(X.copy()).float()\n",
    "\n",
    "# Run inference in Pyro\n",
    "nuts_kernel = NUTS(gmm)\n",
    "mcmc = MCMC(nuts_kernel, num_samples=1000, warmup_steps=500, num_chains=4)\n",
    "mcmc.run(X_torch)\n",
    "\n",
    "# Show summary of inference results\n",
    "mcmc.summary()"
   ]
  },
  {
   "cell_type": "markdown",
   "metadata": {
    "colab_type": "text",
    "id": "NyV1moE7ZynC"
   },
   "source": [
    "Create and test a new version of the code above with higher K (e.g. K=3). "
   ]
  },
  {
   "cell_type": "code",
   "execution_count": 0,
   "metadata": {
    "colab": {},
    "colab_type": "code",
    "id": "_0NqH9rYZynC"
   },
   "outputs": [],
   "source": []
  },
  {
   "cell_type": "markdown",
   "metadata": {
    "colab_type": "text",
    "id": "yNDVsHgnZynG"
   },
   "source": [
    "### Bonus: Alternative way of doing inference using Stochastic Variational Inference (optional)"
   ]
  },
  {
   "cell_type": "markdown",
   "metadata": {
    "colab_type": "text",
    "id": "1aYAZeGGAU1m"
   },
   "source": [
    "**Important:** The following code is rather advanced and is really meant to be a bonus. It shows how to perform another type of approximate Bayesian inference in the ```gmm``` model, namely variational inference (VI). In this particular case, running VI can be a bit tricky and requires the introduction of a new Pyro primitive ```pyro.param```. If this section confuses you, please ignore it entirely. You will learn about VI later in the course, and you will also learn how to run VI in Pyro starting with much simpler examples. We decided to keep this code here for the sake of completeness. Later on you may return to it and get useful insights. \n",
    "\n",
    "Briefly, in VI we specify a parametric distribution $q(\\textbf{z}|\\boldsymbol\\phi)$ (called the *variational distribution*) with parameters $\\boldsymbol\\phi$. The goal is the to find the values of the parameters $\\boldsymbol\\phi$ that make $q(\\textbf{z}|\\boldsymbol\\phi)$ and close as possible to the true posterior distribution $p(\\textbf{z}|\\textbf{x})$, thereby turning the problem of Bayesian inference into an optimization problem.\n",
    "\n",
    "In Pyro, the variational distribution is specified in a ```guide```, just like the model function. In fact, there are classes (e.g. ```AutoDiagonalNormal``` and ```AutoMultivariateNormal```) that generate the guide function automatically: \n",
    "\n",
    "```\n",
    "from pyro.contrib.autoguide import AutoDiagonalNormal, AutoMultivariateNormal\n",
    "guide = AutoMultivariateNormal(gmm)\n",
    "```\n",
    "\n",
    "However, for this particular problem, since there are a lot of constraints on the support of some of the distributions, we need to define the guide function manually:"
   ]
  },
  {
   "cell_type": "code",
   "execution_count": 0,
   "metadata": {
    "colab": {},
    "colab_type": "code",
    "id": "o1MJNWkvHJMr"
   },
   "outputs": [],
   "source": [
    "from torch.distributions import constraints\n",
    "\n",
    "def guide(data=None, K=2):\n",
    "    # Use a conjugate guide for global variables.\n",
    "    weights_posterior = pyro.param(\"weights_posterior\", 1.*torch.ones(K), constraint=constraints.positive)\n",
    "    pyro.sample(\"weights\", pyro.distributions.Dirichlet(weights_posterior))\n",
    "    \n",
    "    mu_loc = pyro.param(\"mu_loc\", torch.zeros(K,2))\n",
    "    mu_scale = pyro.param(\"mu_scale\", 1.*torch.ones(K,2), constraint=constraints.positive)\n",
    "    sigma_scale = pyro.param(\"sigma_scale\", 1.*torch.ones(K,2), constraint=constraints.positive)\n",
    "    with pyro.plate('components', K):\n",
    "        mu = pyro.sample('mu', pyro.distributions.Normal(mu_loc, mu_scale).to_event(1))\n",
    "        sigma = pyro.sample('sigma', pyro.distributions.Normal(sigma_scale, 0.1).to_event(1))"
   ]
  },
  {
   "cell_type": "markdown",
   "metadata": {
    "colab_type": "text",
    "id": "0ZdBLPPaHfSB"
   },
   "source": [
    "Notice how the structure of the guide function closely follows the one of the model function. In fact, the inputs to the function and names of the distributions and plates must match the ones in the model definition! To specify the learnable parameters of the guide we made use of the ```pyro.param``` primitive.\n",
    "\n",
    "Once the guide is properly defined, we can run variational inference in Pyro:"
   ]
  },
  {
   "cell_type": "code",
   "execution_count": 0,
   "metadata": {
    "colab": {
     "base_uri": "https://localhost:8080/",
     "height": 527
    },
    "colab_type": "code",
    "executionInfo": {
     "elapsed": 32590,
     "status": "ok",
     "timestamp": 1581942646725,
     "user": {
      "displayName": "Filipe Rodrigues",
      "photoUrl": "https://lh3.googleusercontent.com/a-/AAuE7mDaWEE0j1oWjHLxVkWKYDXRh8NUBFCgGYF0XZOsvA=s64",
      "userId": "15636531912642599438"
     },
     "user_tz": -60
    },
    "id": "Txms8qLNHNlr",
    "outputId": "6488e613-5068-49d3-bda3-c39a16ad1863"
   },
   "outputs": [
    {
     "name": "stdout",
     "output_type": "stream",
     "text": [
      "[0] ELBO: 699.5\n",
      "[100] ELBO: 380.2\n",
      "[200] ELBO: 350.8\n",
      "[300] ELBO: 353.5\n",
      "[400] ELBO: 358.1\n",
      "[500] ELBO: 352.4\n",
      "[600] ELBO: 344.8\n",
      "[700] ELBO: 328.6\n",
      "[800] ELBO: 284.9\n",
      "[900] ELBO: 306.7\n",
      "[1000] ELBO: 299.3\n",
      "[1100] ELBO: 350.1\n",
      "[1200] ELBO: 287.9\n",
      "[1300] ELBO: 310.1\n",
      "[1400] ELBO: 291.7\n",
      "[1500] ELBO: 284.6\n",
      "[1600] ELBO: 283.6\n",
      "[1700] ELBO: 314.1\n",
      "[1800] ELBO: 287.3\n",
      "[1900] ELBO: 307.3\n",
      "[2000] ELBO: 290.5\n",
      "[2100] ELBO: 286.8\n",
      "[2200] ELBO: 288.2\n",
      "[2300] ELBO: 363.2\n",
      "[2400] ELBO: 309.7\n",
      "[2500] ELBO: 287.2\n",
      "[2600] ELBO: 289.8\n",
      "[2700] ELBO: 287.2\n",
      "[2800] ELBO: 317.6\n",
      "[2900] ELBO: 293.9\n"
     ]
    }
   ],
   "source": [
    "from pyro.infer import SVI, TraceEnum_ELBO\n",
    "from pyro.optim import Adam, ClippedAdam\n",
    "\n",
    "# Define the number of optimization steps\n",
    "n_steps = 3000\n",
    "\n",
    "# Setup the optimizer\n",
    "adam_params = {\"lr\": 0.01}\n",
    "optimizer = ClippedAdam(adam_params)\n",
    "\n",
    "# Setup the inference algorithm\n",
    "elbo = TraceEnum_ELBO(num_particles=1, max_plate_nesting=1)\n",
    "svi = SVI(gmm, guide, optimizer, loss=elbo)\n",
    "\n",
    "# Reset parameter values\n",
    "pyro.clear_param_store()\n",
    "\n",
    "# Do gradient steps\n",
    "for step in range(n_steps):\n",
    "    elbo = svi.step(X_torch)\n",
    "    if step % 100 == 0:\n",
    "        print(\"[%d] ELBO: %.1f\" % (step, elbo))"
   ]
  },
  {
   "cell_type": "markdown",
   "metadata": {
    "colab_type": "text",
    "id": "6ELRNu9QIQHN"
   },
   "source": [
    "Variational inference is typically much faster than MCMC methods (especially when we make use of the GPU and CUDA for the computations, which is not the case). However, as you saw in this quick demo, in some situations, it requires a bit more work to set up. \n",
    "\n",
    "Let's have a look at the predictions:"
   ]
  },
  {
   "cell_type": "code",
   "execution_count": 0,
   "metadata": {
    "colab": {},
    "colab_type": "code",
    "id": "MCcyULEeldb6"
   },
   "outputs": [],
   "source": [
    "from pyro.infer import Predictive\n",
    "\n",
    "predictive = Predictive(gmm, guide=guide, num_samples=1000,\n",
    "                        return_sites=(\"mu\",\"sigma\", \"weights\"))\n",
    "samples = predictive(X_torch)"
   ]
  },
  {
   "cell_type": "markdown",
   "metadata": {
    "colab_type": "text",
    "id": "mdtosgCBInmH"
   },
   "source": [
    "Note that we now passed the ```guide``` function to the ```Predictive``` class."
   ]
  },
  {
   "cell_type": "code",
   "execution_count": 0,
   "metadata": {
    "colab": {
     "base_uri": "https://localhost:8080/",
     "height": 51
    },
    "colab_type": "code",
    "executionInfo": {
     "elapsed": 937,
     "status": "ok",
     "timestamp": 1581942771866,
     "user": {
      "displayName": "Filipe Rodrigues",
      "photoUrl": "https://lh3.googleusercontent.com/a-/AAuE7mDaWEE0j1oWjHLxVkWKYDXRh8NUBFCgGYF0XZOsvA=s64",
      "userId": "15636531912642599438"
     },
     "user_tz": -60
    },
    "id": "PUmQEjLolnpp",
    "outputId": "9baf1d17-3bc4-4a60-c2cf-3679280f574e"
   },
   "outputs": [
    {
     "data": {
      "text/plain": [
       "tensor([[1.0189, 2.0536],\n",
       "        [4.3010, 0.9683]], grad_fn=<MeanBackward1>)"
      ]
     },
     "execution_count": 57,
     "metadata": {
      "tags": []
     },
     "output_type": "execute_result"
    }
   ],
   "source": [
    "samples[\"mu\"].mean(axis=0)"
   ]
  },
  {
   "cell_type": "code",
   "execution_count": 0,
   "metadata": {
    "colab": {
     "base_uri": "https://localhost:8080/",
     "height": 34
    },
    "colab_type": "code",
    "executionInfo": {
     "elapsed": 864,
     "status": "ok",
     "timestamp": 1581942775987,
     "user": {
      "displayName": "Filipe Rodrigues",
      "photoUrl": "https://lh3.googleusercontent.com/a-/AAuE7mDaWEE0j1oWjHLxVkWKYDXRh8NUBFCgGYF0XZOsvA=s64",
      "userId": "15636531912642599438"
     },
     "user_tz": -60
    },
    "id": "RkgqgkSEmgbU",
    "outputId": "4c9a39c5-ea20-4f27-d482-01b3b667d4b8"
   },
   "outputs": [
    {
     "data": {
      "text/plain": [
       "tensor([[0.4587, 0.5413]], grad_fn=<MeanBackward1>)"
      ]
     },
     "execution_count": 58,
     "metadata": {
      "tags": []
     },
     "output_type": "execute_result"
    }
   ],
   "source": [
    "samples[\"weights\"].mean(axis=0)"
   ]
  },
  {
   "cell_type": "code",
   "execution_count": 0,
   "metadata": {
    "colab": {
     "base_uri": "https://localhost:8080/",
     "height": 51
    },
    "colab_type": "code",
    "executionInfo": {
     "elapsed": 710,
     "status": "ok",
     "timestamp": 1581942777897,
     "user": {
      "displayName": "Filipe Rodrigues",
      "photoUrl": "https://lh3.googleusercontent.com/a-/AAuE7mDaWEE0j1oWjHLxVkWKYDXRh8NUBFCgGYF0XZOsvA=s64",
      "userId": "15636531912642599438"
     },
     "user_tz": -60
    },
    "id": "VUskjicOmivN",
    "outputId": "d26490c2-b29e-40d5-909e-307fff8b9158"
   },
   "outputs": [
    {
     "data": {
      "text/plain": [
       "tensor([[0.6584, 0.5666],\n",
       "        [0.5877, 0.6114]], grad_fn=<MeanBackward1>)"
      ]
     },
     "execution_count": 59,
     "metadata": {
      "tags": []
     },
     "output_type": "execute_result"
    }
   ],
   "source": [
    "samples[\"sigma\"].mean(axis=0)"
   ]
  },
  {
   "cell_type": "markdown",
   "metadata": {
    "colab_type": "text",
    "id": "3IlU2juYIz3r"
   },
   "source": [
    "Quite accurate too, right? :-)"
   ]
  }
 ],
 "metadata": {
  "colab": {
   "collapsed_sections": [],
   "name": "04 - Probabilistic Programming with Pyro.ipynb",
   "provenance": [
    {
     "file_id": "1HWdylPTckwuQwLNKVv97btlJ58yS76Sv",
     "timestamp": 1582636972657
    }
   ]
  },
  "kernelspec": {
   "display_name": "Python 3",
   "language": "python",
   "name": "python3"
  },
  "language_info": {
   "codemirror_mode": {
    "name": "ipython",
    "version": 3
   },
   "file_extension": ".py",
   "mimetype": "text/x-python",
   "name": "python",
   "nbconvert_exporter": "python",
   "pygments_lexer": "ipython3",
   "version": "3.7.6"
  }
 },
 "nbformat": 4,
 "nbformat_minor": 1
}
