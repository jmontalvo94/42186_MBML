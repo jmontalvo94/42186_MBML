{
 "cells": [
  {
   "cell_type": "markdown",
   "metadata": {
    "colab_type": "text",
    "id": "qziKnMNbeFT1"
   },
   "source": [
    "# Week 6 - Classification models  \n",
    "\n",
    "## Part 2: Travel mode choice - Logistic regression\n",
    "\n",
    "In this part we will consider a real world problem with discrete target variables (y): travel model choice. The goal is to model the travel mode choices (plane, train, bus or car) based on trip characteristics (features) like the terminal waiting time, cost, travel time, etc. We shall start by using a logistic regression model for this."
   ]
  },
  {
   "cell_type": "markdown",
   "metadata": {
    "colab_type": "text",
    "id": "U_5_zU42eFT3"
   },
   "source": [
    "The usual imports..."
   ]
  },
  {
   "cell_type": "code",
   "execution_count": 23,
   "metadata": {
    "colab": {
     "base_uri": "https://localhost:8080/",
     "height": 119
    },
    "colab_type": "code",
    "executionInfo": {
     "elapsed": 3690,
     "status": "ok",
     "timestamp": 1582401611780,
     "user": {
      "displayName": "Filipe Rodrigues",
      "photoUrl": "https://lh3.googleusercontent.com/a-/AAuE7mDaWEE0j1oWjHLxVkWKYDXRh8NUBFCgGYF0XZOsvA=s64",
      "userId": "15636531912642599438"
     },
     "user_tz": -60
    },
    "id": "EHAClGH8e5lm",
    "outputId": "b3cf446e-5d24-414e-a1bc-516e900535de"
   },
   "outputs": [
    {
     "name": "stdout",
     "output_type": "stream",
     "text": [
      "Error processing line 1 of /anaconda3/lib/python3.7/site-packages/protobuf-3.10.0-py3.7-nspkg.pth:\n",
      "\n",
      "  Traceback (most recent call last):\n",
      "    File \"/anaconda3/lib/python3.7/site.py\", line 168, in addpackage\n",
      "      exec(line)\n",
      "    File \"<string>\", line 1, in <module>\n",
      "    File \"<frozen importlib._bootstrap>\", line 580, in module_from_spec\n",
      "  AttributeError: 'NoneType' object has no attribute 'loader'\n",
      "\n",
      "Remainder of file ignored\n",
      "Requirement already satisfied: pyro-ppl in /anaconda3/lib/python3.7/site-packages (1.2.1)\n",
      "Requirement already satisfied: torch>=1.4.0 in /anaconda3/lib/python3.7/site-packages (from pyro-ppl) (1.4.0)\n",
      "Requirement already satisfied: opt-einsum>=2.3.2 in /anaconda3/lib/python3.7/site-packages (from pyro-ppl) (3.1.0)\n",
      "Requirement already satisfied: numpy>=1.7 in /anaconda3/lib/python3.7/site-packages (from pyro-ppl) (1.17.2)\n",
      "Requirement already satisfied: tqdm>=4.36 in /anaconda3/lib/python3.7/site-packages (from pyro-ppl) (4.36.1)\n",
      "Requirement already satisfied: pyro-api>=0.1.1 in /anaconda3/lib/python3.7/site-packages (from pyro-ppl) (0.1.1)\n"
     ]
    }
   ],
   "source": [
    "# Install Pyro, if necessary\n",
    "!pip install pyro-ppl"
   ]
  },
  {
   "cell_type": "code",
   "execution_count": 24,
   "metadata": {
    "colab": {},
    "colab_type": "code",
    "id": "OEuBbtUweFT5"
   },
   "outputs": [],
   "source": [
    "import numpy as np\n",
    "import pandas as pd\n",
    "from matplotlib import pyplot as plt\n",
    "from sklearn import linear_model\n",
    "import seaborn as sns\n",
    "import torch\n",
    "\n",
    "import pyro\n",
    "import pyro.distributions as dist\n",
    "from pyro.contrib.autoguide import AutoDiagonalNormal, AutoMultivariateNormal\n",
    "from pyro.infer import MCMC, NUTS, HMC, SVI, Trace_ELBO\n",
    "from pyro.optim import Adam, ClippedAdam\n",
    "\n",
    "# fix random generator seed (for reproducibility of results)\n",
    "np.random.seed(42)\n",
    "\n",
    "# matplotlib style options\n",
    "plt.style.use('ggplot')\n",
    "%matplotlib inline\n",
    "plt.rcParams['figure.figsize'] = (12, 8)"
   ]
  },
  {
   "cell_type": "markdown",
   "metadata": {
    "colab_type": "text",
    "id": "_H4-QvH-eFT9"
   },
   "source": [
    "Before we go to the modelling part, we need to prepare the data, which consists of a record of travel choices for a total of 80 individuals. \n",
    "\n",
    "Lets load the data using pandas:"
   ]
  },
  {
   "cell_type": "code",
   "execution_count": 25,
   "metadata": {
    "colab": {
     "base_uri": "https://localhost:8080/",
     "height": 241
    },
    "colab_type": "code",
    "executionInfo": {
     "elapsed": 1377,
     "status": "ok",
     "timestamp": 1582401650252,
     "user": {
      "displayName": "Filipe Rodrigues",
      "photoUrl": "https://lh3.googleusercontent.com/a-/AAuE7mDaWEE0j1oWjHLxVkWKYDXRh8NUBFCgGYF0XZOsvA=s64",
      "userId": "15636531912642599438"
     },
     "user_tz": -60
    },
    "id": "JGgrr9bFeFT-",
    "outputId": "97540b42-48d1-4de2-e752-adcea0b91928"
   },
   "outputs": [
    {
     "data": {
      "text/html": [
       "<div>\n",
       "<style scoped>\n",
       "    .dataframe tbody tr th:only-of-type {\n",
       "        vertical-align: middle;\n",
       "    }\n",
       "\n",
       "    .dataframe tbody tr th {\n",
       "        vertical-align: top;\n",
       "    }\n",
       "\n",
       "    .dataframe thead th {\n",
       "        text-align: right;\n",
       "    }\n",
       "</style>\n",
       "<table border=\"1\" class=\"dataframe\">\n",
       "  <thead>\n",
       "    <tr style=\"text-align: right;\">\n",
       "      <th></th>\n",
       "      <th>Unnamed: 0</th>\n",
       "      <th>individual</th>\n",
       "      <th>hinc</th>\n",
       "      <th>psize</th>\n",
       "      <th>ttme_air</th>\n",
       "      <th>invc_air</th>\n",
       "      <th>invt_air</th>\n",
       "      <th>gc_air</th>\n",
       "      <th>ttme_train</th>\n",
       "      <th>invc_train</th>\n",
       "      <th>invt_train</th>\n",
       "      <th>gc_train</th>\n",
       "      <th>ttme_bus</th>\n",
       "      <th>invc_bus</th>\n",
       "      <th>invt_bus</th>\n",
       "      <th>gc_bus</th>\n",
       "      <th>invc_car</th>\n",
       "      <th>invt_car</th>\n",
       "      <th>gc_car</th>\n",
       "      <th>mode_chosen</th>\n",
       "    </tr>\n",
       "  </thead>\n",
       "  <tbody>\n",
       "    <tr>\n",
       "      <td>0</td>\n",
       "      <td>0</td>\n",
       "      <td>70.0</td>\n",
       "      <td>30.0</td>\n",
       "      <td>4.0</td>\n",
       "      <td>10.0</td>\n",
       "      <td>61.0</td>\n",
       "      <td>80.0</td>\n",
       "      <td>73.0</td>\n",
       "      <td>44.0</td>\n",
       "      <td>24.0</td>\n",
       "      <td>350.0</td>\n",
       "      <td>77.0</td>\n",
       "      <td>53.0</td>\n",
       "      <td>19.0</td>\n",
       "      <td>395.0</td>\n",
       "      <td>79.0</td>\n",
       "      <td>4.0</td>\n",
       "      <td>314.0</td>\n",
       "      <td>52.0</td>\n",
       "      <td>1.0</td>\n",
       "    </tr>\n",
       "    <tr>\n",
       "      <td>1</td>\n",
       "      <td>1</td>\n",
       "      <td>8.0</td>\n",
       "      <td>15.0</td>\n",
       "      <td>4.0</td>\n",
       "      <td>64.0</td>\n",
       "      <td>48.0</td>\n",
       "      <td>154.0</td>\n",
       "      <td>71.0</td>\n",
       "      <td>55.0</td>\n",
       "      <td>25.0</td>\n",
       "      <td>360.0</td>\n",
       "      <td>80.0</td>\n",
       "      <td>53.0</td>\n",
       "      <td>14.0</td>\n",
       "      <td>462.0</td>\n",
       "      <td>84.0</td>\n",
       "      <td>4.0</td>\n",
       "      <td>351.0</td>\n",
       "      <td>57.0</td>\n",
       "      <td>2.0</td>\n",
       "    </tr>\n",
       "    <tr>\n",
       "      <td>2</td>\n",
       "      <td>2</td>\n",
       "      <td>62.0</td>\n",
       "      <td>35.0</td>\n",
       "      <td>2.0</td>\n",
       "      <td>64.0</td>\n",
       "      <td>58.0</td>\n",
       "      <td>74.0</td>\n",
       "      <td>69.0</td>\n",
       "      <td>30.0</td>\n",
       "      <td>21.0</td>\n",
       "      <td>295.0</td>\n",
       "      <td>66.0</td>\n",
       "      <td>53.0</td>\n",
       "      <td>24.0</td>\n",
       "      <td>389.0</td>\n",
       "      <td>83.0</td>\n",
       "      <td>7.0</td>\n",
       "      <td>315.0</td>\n",
       "      <td>55.0</td>\n",
       "      <td>2.0</td>\n",
       "    </tr>\n",
       "    <tr>\n",
       "      <td>3</td>\n",
       "      <td>3</td>\n",
       "      <td>61.0</td>\n",
       "      <td>40.0</td>\n",
       "      <td>3.0</td>\n",
       "      <td>45.0</td>\n",
       "      <td>75.0</td>\n",
       "      <td>75.0</td>\n",
       "      <td>96.0</td>\n",
       "      <td>44.0</td>\n",
       "      <td>33.0</td>\n",
       "      <td>418.0</td>\n",
       "      <td>96.0</td>\n",
       "      <td>53.0</td>\n",
       "      <td>28.0</td>\n",
       "      <td>463.0</td>\n",
       "      <td>98.0</td>\n",
       "      <td>5.0</td>\n",
       "      <td>291.0</td>\n",
       "      <td>49.0</td>\n",
       "      <td>1.0</td>\n",
       "    </tr>\n",
       "    <tr>\n",
       "      <td>4</td>\n",
       "      <td>4</td>\n",
       "      <td>27.0</td>\n",
       "      <td>70.0</td>\n",
       "      <td>1.0</td>\n",
       "      <td>20.0</td>\n",
       "      <td>106.0</td>\n",
       "      <td>190.0</td>\n",
       "      <td>127.0</td>\n",
       "      <td>34.0</td>\n",
       "      <td>72.0</td>\n",
       "      <td>659.0</td>\n",
       "      <td>143.0</td>\n",
       "      <td>35.0</td>\n",
       "      <td>33.0</td>\n",
       "      <td>653.0</td>\n",
       "      <td>104.0</td>\n",
       "      <td>44.0</td>\n",
       "      <td>592.0</td>\n",
       "      <td>108.0</td>\n",
       "      <td>1.0</td>\n",
       "    </tr>\n",
       "  </tbody>\n",
       "</table>\n",
       "</div>"
      ],
      "text/plain": [
       "   Unnamed: 0  individual  hinc  psize  ttme_air  invc_air  invt_air  gc_air  \\\n",
       "0           0        70.0  30.0    4.0      10.0      61.0      80.0    73.0   \n",
       "1           1         8.0  15.0    4.0      64.0      48.0     154.0    71.0   \n",
       "2           2        62.0  35.0    2.0      64.0      58.0      74.0    69.0   \n",
       "3           3        61.0  40.0    3.0      45.0      75.0      75.0    96.0   \n",
       "4           4        27.0  70.0    1.0      20.0     106.0     190.0   127.0   \n",
       "\n",
       "   ttme_train  invc_train  invt_train  gc_train  ttme_bus  invc_bus  invt_bus  \\\n",
       "0        44.0        24.0       350.0      77.0      53.0      19.0     395.0   \n",
       "1        55.0        25.0       360.0      80.0      53.0      14.0     462.0   \n",
       "2        30.0        21.0       295.0      66.0      53.0      24.0     389.0   \n",
       "3        44.0        33.0       418.0      96.0      53.0      28.0     463.0   \n",
       "4        34.0        72.0       659.0     143.0      35.0      33.0     653.0   \n",
       "\n",
       "   gc_bus  invc_car  invt_car  gc_car  mode_chosen  \n",
       "0    79.0       4.0     314.0    52.0          1.0  \n",
       "1    84.0       4.0     351.0    57.0          2.0  \n",
       "2    83.0       7.0     315.0    55.0          2.0  \n",
       "3    98.0       5.0     291.0    49.0          1.0  \n",
       "4   104.0      44.0     592.0   108.0          1.0  "
      ]
     },
     "execution_count": 25,
     "metadata": {},
     "output_type": "execute_result"
    }
   ],
   "source": [
    "# load csv\n",
    "df = pd.read_csv(\"http://mlsm.man.dtu.dk/mbml/modechoice_data.csv\")\n",
    "df.head()"
   ]
  },
  {
   "cell_type": "markdown",
   "metadata": {
    "colab_type": "text",
    "id": "dIiZc2sUeFUB"
   },
   "source": [
    "The mode is encoded as a integer from 1 to 4, corresponding to:\n",
    "- 1 - plane\n",
    "- 2 - train\n",
    "- 3 - bus\n",
    "- 4 - car"
   ]
  },
  {
   "cell_type": "markdown",
   "metadata": {
    "colab_type": "text",
    "id": "eMb-icxweFUC"
   },
   "source": [
    "Some basic data statistics:"
   ]
  },
  {
   "cell_type": "code",
   "execution_count": 26,
   "metadata": {
    "colab": {
     "base_uri": "https://localhost:8080/",
     "height": 534
    },
    "colab_type": "code",
    "executionInfo": {
     "elapsed": 967,
     "status": "ok",
     "timestamp": 1582401670276,
     "user": {
      "displayName": "Filipe Rodrigues",
      "photoUrl": "https://lh3.googleusercontent.com/a-/AAuE7mDaWEE0j1oWjHLxVkWKYDXRh8NUBFCgGYF0XZOsvA=s64",
      "userId": "15636531912642599438"
     },
     "user_tz": -60
    },
    "id": "p_z_w_Y9eFUD",
    "outputId": "25b2e9bc-337a-43a6-bdf7-f988d1d557c8"
   },
   "outputs": [
    {
     "name": "stdout",
     "output_type": "stream",
     "text": [
      "Dataset size: 394\n"
     ]
    },
    {
     "data": {
      "image/png": "[encoded data removed]",
      "text/plain": [
       "<Figure size 864x576 with 1 Axes>"
      ]
     },
     "metadata": {
      "needs_background": "light"
     },
     "output_type": "display_data"
    }
   ],
   "source": [
    "print(\"Dataset size:\", len(df))\n",
    "df['mode_chosen'].hist();\n",
    "plt.title('Mode chosen')\n",
    "plt.xlabel('Mode ID (1-plane, 2-train, 3-bus, 4-car)')\n",
    "plt.ylabel('Frequency')\n",
    "plt.xticks([1,2,3,4]);"
   ]
  },
  {
   "cell_type": "code",
   "execution_count": 27,
   "metadata": {
    "colab": {
     "base_uri": "https://localhost:8080/",
     "height": 500
    },
    "colab_type": "code",
    "executionInfo": {
     "elapsed": 697,
     "status": "ok",
     "timestamp": 1582401673028,
     "user": {
      "displayName": "Filipe Rodrigues",
      "photoUrl": "https://lh3.googleusercontent.com/a-/AAuE7mDaWEE0j1oWjHLxVkWKYDXRh8NUBFCgGYF0XZOsvA=s64",
      "userId": "15636531912642599438"
     },
     "user_tz": -60
    },
    "id": "tf26P8yueFUH",
    "outputId": "87941be5-5374-4a49-93f9-d1f98f8cb763"
   },
   "outputs": [
    {
     "data": {
      "image/png": "[encoded data removed]",
      "text/plain": [
       "<Figure size 864x576 with 1 Axes>"
      ]
     },
     "metadata": {
      "needs_background": "light"
     },
     "output_type": "display_data"
    }
   ],
   "source": [
    "plt.hist(df.groupby(\"individual\").count()[\"mode_chosen\"])\n",
    "plt.xticks(np.unique(df.groupby(\"individual\").count()))\n",
    "plt.xlabel('Num. observations per individual');"
   ]
  },
  {
   "cell_type": "code",
   "execution_count": 28,
   "metadata": {
    "colab": {
     "base_uri": "https://localhost:8080/",
     "height": 334
    },
    "colab_type": "code",
    "executionInfo": {
     "elapsed": 679,
     "status": "ok",
     "timestamp": 1582401683067,
     "user": {
      "displayName": "Filipe Rodrigues",
      "photoUrl": "https://lh3.googleusercontent.com/a-/AAuE7mDaWEE0j1oWjHLxVkWKYDXRh8NUBFCgGYF0XZOsvA=s64",
      "userId": "15636531912642599438"
     },
     "user_tz": -60
    },
    "id": "8D4-URLVeFUM",
    "outputId": "882e9faf-f011-4aaf-fcb3-efb3a813a240"
   },
   "outputs": [
    {
     "data": {
      "text/html": [
       "<div>\n",
       "<style scoped>\n",
       "    .dataframe tbody tr th:only-of-type {\n",
       "        vertical-align: middle;\n",
       "    }\n",
       "\n",
       "    .dataframe tbody tr th {\n",
       "        vertical-align: top;\n",
       "    }\n",
       "\n",
       "    .dataframe thead th {\n",
       "        text-align: right;\n",
       "    }\n",
       "</style>\n",
       "<table border=\"1\" class=\"dataframe\">\n",
       "  <thead>\n",
       "    <tr style=\"text-align: right;\">\n",
       "      <th></th>\n",
       "      <th>Unnamed: 0</th>\n",
       "      <th>individual</th>\n",
       "      <th>hinc</th>\n",
       "      <th>psize</th>\n",
       "      <th>ttme_air</th>\n",
       "      <th>invc_air</th>\n",
       "      <th>invt_air</th>\n",
       "      <th>gc_air</th>\n",
       "      <th>ttme_train</th>\n",
       "      <th>invc_train</th>\n",
       "      <th>invt_train</th>\n",
       "      <th>gc_train</th>\n",
       "      <th>ttme_bus</th>\n",
       "      <th>invc_bus</th>\n",
       "      <th>invt_bus</th>\n",
       "      <th>gc_bus</th>\n",
       "      <th>invc_car</th>\n",
       "      <th>invt_car</th>\n",
       "      <th>gc_car</th>\n",
       "      <th>mode_chosen</th>\n",
       "    </tr>\n",
       "  </thead>\n",
       "  <tbody>\n",
       "    <tr>\n",
       "      <td>count</td>\n",
       "      <td>394.000000</td>\n",
       "      <td>394.000000</td>\n",
       "      <td>394.000000</td>\n",
       "      <td>394.000000</td>\n",
       "      <td>394.000000</td>\n",
       "      <td>394.000000</td>\n",
       "      <td>394.000000</td>\n",
       "      <td>394.000000</td>\n",
       "      <td>394.000000</td>\n",
       "      <td>394.000000</td>\n",
       "      <td>394.000000</td>\n",
       "      <td>394.000000</td>\n",
       "      <td>394.000000</td>\n",
       "      <td>394.000000</td>\n",
       "      <td>394.000000</td>\n",
       "      <td>394.000000</td>\n",
       "      <td>394.000000</td>\n",
       "      <td>394.000000</td>\n",
       "      <td>394.000000</td>\n",
       "      <td>394.000000</td>\n",
       "    </tr>\n",
       "    <tr>\n",
       "      <td>mean</td>\n",
       "      <td>196.500000</td>\n",
       "      <td>39.032995</td>\n",
       "      <td>34.228426</td>\n",
       "      <td>1.761421</td>\n",
       "      <td>61.215736</td>\n",
       "      <td>83.350254</td>\n",
       "      <td>132.005076</td>\n",
       "      <td>100.510152</td>\n",
       "      <td>35.685279</td>\n",
       "      <td>49.832487</td>\n",
       "      <td>597.847716</td>\n",
       "      <td>127.101523</td>\n",
       "      <td>42.000000</td>\n",
       "      <td>33.073604</td>\n",
       "      <td>624.718274</td>\n",
       "      <td>114.065990</td>\n",
       "      <td>21.101523</td>\n",
       "      <td>565.667513</td>\n",
       "      <td>94.170051</td>\n",
       "      <td>2.675127</td>\n",
       "    </tr>\n",
       "    <tr>\n",
       "      <td>std</td>\n",
       "      <td>113.882249</td>\n",
       "      <td>22.816704</td>\n",
       "      <td>19.276048</td>\n",
       "      <td>1.030790</td>\n",
       "      <td>15.780674</td>\n",
       "      <td>26.625461</td>\n",
       "      <td>45.484891</td>\n",
       "      <td>29.081987</td>\n",
       "      <td>12.712417</td>\n",
       "      <td>26.727488</td>\n",
       "      <td>245.826336</td>\n",
       "      <td>55.855820</td>\n",
       "      <td>11.962409</td>\n",
       "      <td>12.787644</td>\n",
       "      <td>233.524090</td>\n",
       "      <td>43.468285</td>\n",
       "      <td>15.164236</td>\n",
       "      <td>263.027420</td>\n",
       "      <td>44.398771</td>\n",
       "      <td>1.213176</td>\n",
       "    </tr>\n",
       "    <tr>\n",
       "      <td>min</td>\n",
       "      <td>0.000000</td>\n",
       "      <td>1.000000</td>\n",
       "      <td>2.000000</td>\n",
       "      <td>1.000000</td>\n",
       "      <td>5.000000</td>\n",
       "      <td>44.000000</td>\n",
       "      <td>63.000000</td>\n",
       "      <td>56.000000</td>\n",
       "      <td>1.000000</td>\n",
       "      <td>11.000000</td>\n",
       "      <td>255.000000</td>\n",
       "      <td>42.000000</td>\n",
       "      <td>5.000000</td>\n",
       "      <td>12.000000</td>\n",
       "      <td>227.000000</td>\n",
       "      <td>45.000000</td>\n",
       "      <td>2.000000</td>\n",
       "      <td>180.000000</td>\n",
       "      <td>32.000000</td>\n",
       "      <td>1.000000</td>\n",
       "    </tr>\n",
       "    <tr>\n",
       "      <td>25%</td>\n",
       "      <td>98.250000</td>\n",
       "      <td>19.250000</td>\n",
       "      <td>18.000000</td>\n",
       "      <td>1.000000</td>\n",
       "      <td>64.000000</td>\n",
       "      <td>59.250000</td>\n",
       "      <td>95.750000</td>\n",
       "      <td>72.000000</td>\n",
       "      <td>34.000000</td>\n",
       "      <td>30.000000</td>\n",
       "      <td>357.000000</td>\n",
       "      <td>74.000000</td>\n",
       "      <td>35.000000</td>\n",
       "      <td>25.000000</td>\n",
       "      <td>406.000000</td>\n",
       "      <td>73.000000</td>\n",
       "      <td>10.000000</td>\n",
       "      <td>315.000000</td>\n",
       "      <td>52.000000</td>\n",
       "      <td>2.000000</td>\n",
       "    </tr>\n",
       "    <tr>\n",
       "      <td>50%</td>\n",
       "      <td>196.500000</td>\n",
       "      <td>39.000000</td>\n",
       "      <td>35.000000</td>\n",
       "      <td>1.000000</td>\n",
       "      <td>64.000000</td>\n",
       "      <td>81.000000</td>\n",
       "      <td>125.000000</td>\n",
       "      <td>96.000000</td>\n",
       "      <td>34.000000</td>\n",
       "      <td>36.000000</td>\n",
       "      <td>602.000000</td>\n",
       "      <td>119.000000</td>\n",
       "      <td>35.000000</td>\n",
       "      <td>31.000000</td>\n",
       "      <td>599.000000</td>\n",
       "      <td>105.000000</td>\n",
       "      <td>16.000000</td>\n",
       "      <td>577.000000</td>\n",
       "      <td>96.000000</td>\n",
       "      <td>3.000000</td>\n",
       "    </tr>\n",
       "    <tr>\n",
       "      <td>75%</td>\n",
       "      <td>294.750000</td>\n",
       "      <td>57.750000</td>\n",
       "      <td>45.000000</td>\n",
       "      <td>2.000000</td>\n",
       "      <td>69.000000</td>\n",
       "      <td>105.000000</td>\n",
       "      <td>158.000000</td>\n",
       "      <td>125.000000</td>\n",
       "      <td>44.000000</td>\n",
       "      <td>72.000000</td>\n",
       "      <td>873.000000</td>\n",
       "      <td>177.000000</td>\n",
       "      <td>53.000000</td>\n",
       "      <td>44.000000</td>\n",
       "      <td>870.000000</td>\n",
       "      <td>145.000000</td>\n",
       "      <td>31.500000</td>\n",
       "      <td>858.000000</td>\n",
       "      <td>135.000000</td>\n",
       "      <td>4.000000</td>\n",
       "    </tr>\n",
       "    <tr>\n",
       "      <td>max</td>\n",
       "      <td>393.000000</td>\n",
       "      <td>80.000000</td>\n",
       "      <td>72.000000</td>\n",
       "      <td>6.000000</td>\n",
       "      <td>90.000000</td>\n",
       "      <td>180.000000</td>\n",
       "      <td>333.000000</td>\n",
       "      <td>197.000000</td>\n",
       "      <td>99.000000</td>\n",
       "      <td>111.000000</td>\n",
       "      <td>1104.000000</td>\n",
       "      <td>269.000000</td>\n",
       "      <td>60.000000</td>\n",
       "      <td>70.000000</td>\n",
       "      <td>1110.000000</td>\n",
       "      <td>222.000000</td>\n",
       "      <td>86.000000</td>\n",
       "      <td>1440.000000</td>\n",
       "      <td>228.000000</td>\n",
       "      <td>4.000000</td>\n",
       "    </tr>\n",
       "  </tbody>\n",
       "</table>\n",
       "</div>"
      ],
      "text/plain": [
       "       Unnamed: 0  individual        hinc       psize    ttme_air    invc_air  \\\n",
       "count  394.000000  394.000000  394.000000  394.000000  394.000000  394.000000   \n",
       "mean   196.500000   39.032995   34.228426    1.761421   61.215736   83.350254   \n",
       "std    113.882249   22.816704   19.276048    1.030790   15.780674   26.625461   \n",
       "min      0.000000    1.000000    2.000000    1.000000    5.000000   44.000000   \n",
       "25%     98.250000   19.250000   18.000000    1.000000   64.000000   59.250000   \n",
       "50%    196.500000   39.000000   35.000000    1.000000   64.000000   81.000000   \n",
       "75%    294.750000   57.750000   45.000000    2.000000   69.000000  105.000000   \n",
       "max    393.000000   80.000000   72.000000    6.000000   90.000000  180.000000   \n",
       "\n",
       "         invt_air      gc_air  ttme_train  invc_train   invt_train  \\\n",
       "count  394.000000  394.000000  394.000000  394.000000   394.000000   \n",
       "mean   132.005076  100.510152   35.685279   49.832487   597.847716   \n",
       "std     45.484891   29.081987   12.712417   26.727488   245.826336   \n",
       "min     63.000000   56.000000    1.000000   11.000000   255.000000   \n",
       "25%     95.750000   72.000000   34.000000   30.000000   357.000000   \n",
       "50%    125.000000   96.000000   34.000000   36.000000   602.000000   \n",
       "75%    158.000000  125.000000   44.000000   72.000000   873.000000   \n",
       "max    333.000000  197.000000   99.000000  111.000000  1104.000000   \n",
       "\n",
       "         gc_train    ttme_bus    invc_bus     invt_bus      gc_bus  \\\n",
       "count  394.000000  394.000000  394.000000   394.000000  394.000000   \n",
       "mean   127.101523   42.000000   33.073604   624.718274  114.065990   \n",
       "std     55.855820   11.962409   12.787644   233.524090   43.468285   \n",
       "min     42.000000    5.000000   12.000000   227.000000   45.000000   \n",
       "25%     74.000000   35.000000   25.000000   406.000000   73.000000   \n",
       "50%    119.000000   35.000000   31.000000   599.000000  105.000000   \n",
       "75%    177.000000   53.000000   44.000000   870.000000  145.000000   \n",
       "max    269.000000   60.000000   70.000000  1110.000000  222.000000   \n",
       "\n",
       "         invc_car     invt_car      gc_car  mode_chosen  \n",
       "count  394.000000   394.000000  394.000000   394.000000  \n",
       "mean    21.101523   565.667513   94.170051     2.675127  \n",
       "std     15.164236   263.027420   44.398771     1.213176  \n",
       "min      2.000000   180.000000   32.000000     1.000000  \n",
       "25%     10.000000   315.000000   52.000000     2.000000  \n",
       "50%     16.000000   577.000000   96.000000     3.000000  \n",
       "75%     31.500000   858.000000  135.000000     4.000000  \n",
       "max     86.000000  1440.000000  228.000000     4.000000  "
      ]
     },
     "execution_count": 28,
     "metadata": {},
     "output_type": "execute_result"
    }
   ],
   "source": [
    "# more statistics\n",
    "df.describe()"
   ]
  },
  {
   "cell_type": "markdown",
   "metadata": {
    "colab_type": "text",
    "id": "2cchhhlQeFUP"
   },
   "source": [
    "Lets now preprocess the data by:\n",
    "- Separating the inputs (x) from the targets (y)\n",
    "- Standardizing the input variables in order to have zero mean and unit standard deviation"
   ]
  },
  {
   "cell_type": "code",
   "execution_count": 29,
   "metadata": {
    "colab": {
     "base_uri": "https://localhost:8080/",
     "height": 68
    },
    "colab_type": "code",
    "executionInfo": {
     "elapsed": 656,
     "status": "ok",
     "timestamp": 1582401688975,
     "user": {
      "displayName": "Filipe Rodrigues",
      "photoUrl": "https://lh3.googleusercontent.com/a-/AAuE7mDaWEE0j1oWjHLxVkWKYDXRh8NUBFCgGYF0XZOsvA=s64",
      "userId": "15636531912642599438"
     },
     "user_tz": -60
    },
    "id": "aJMfGwR-eFUQ",
    "outputId": "31ab29b0-b239-4999-c979-bbfc59406877"
   },
   "outputs": [
    {
     "name": "stdout",
     "output_type": "stream",
     "text": [
      "(394, 17)\n",
      "(394,)\n",
      "(394,)\n"
     ]
    }
   ],
   "source": [
    "# separate between features/inputs (X) and target/output variables (y)\n",
    "mat = df.values\n",
    "X = mat[:,2:-1]\n",
    "print(X.shape)\n",
    "y = mat[:,-1].astype(\"int\")\n",
    "print(y.shape)\n",
    "ind = mat[:,1].astype(\"int\")  #and get the indexes\n",
    "print(ind.shape)"
   ]
  },
  {
   "cell_type": "code",
   "execution_count": 30,
   "metadata": {
    "colab": {},
    "colab_type": "code",
    "id": "hwEFQvrieFUT"
   },
   "outputs": [],
   "source": [
    "# standardize input features\n",
    "X_mean = X.mean(axis=0)\n",
    "X_std = X.std(axis=0)\n",
    "X = (X - X_mean) / X_std"
   ]
  },
  {
   "cell_type": "markdown",
   "metadata": {
    "colab_type": "text",
    "id": "myrMtPbMeFUW"
   },
   "source": [
    "The next step is to split our data into a train and test set. Alternatively, we could have used something like cross-validation, but for the sake of simplicity, a train/test split will do just fine for this example."
   ]
  },
  {
   "cell_type": "code",
   "execution_count": 31,
   "metadata": {
    "colab": {
     "base_uri": "https://localhost:8080/",
     "height": 51
    },
    "colab_type": "code",
    "executionInfo": {
     "elapsed": 641,
     "status": "ok",
     "timestamp": 1582401693577,
     "user": {
      "displayName": "Filipe Rodrigues",
      "photoUrl": "https://lh3.googleusercontent.com/a-/AAuE7mDaWEE0j1oWjHLxVkWKYDXRh8NUBFCgGYF0XZOsvA=s64",
      "userId": "15636531912642599438"
     },
     "user_tz": -60
    },
    "id": "RVsSHs5DeFUW",
    "outputId": "3aaaacb6-9bdc-48a5-93c9-fb95e2684105"
   },
   "outputs": [
    {
     "name": "stdout",
     "output_type": "stream",
     "text": [
      "num train: 260\n",
      "num test: 134\n"
     ]
    }
   ],
   "source": [
    "train_perc = 0.66 # percentage of training data\n",
    "split_point = int(train_perc*len(y))\n",
    "perm = np.random.permutation(len(y)) # we also randomize the dataset\n",
    "ix_train = perm[:split_point]\n",
    "ix_test = perm[split_point:]\n",
    "X_train = X[ix_train,:]\n",
    "X_test = X[ix_test,:]\n",
    "y_train = y[ix_train]\n",
    "y_test = y[ix_test]\n",
    "print(\"num train: %d\" % len(y_train))\n",
    "print(\"num test: %d\" % len(y_test))"
   ]
  },
  {
   "cell_type": "markdown",
   "metadata": {
    "colab_type": "text",
    "id": "tpAAXY19eFUZ"
   },
   "source": [
    "Just for the sake of comparision (and for fun!), lets run logistic regression from the popular sklearn package."
   ]
  },
  {
   "cell_type": "code",
   "execution_count": 32,
   "metadata": {
    "colab": {
     "base_uri": "https://localhost:8080/",
     "height": 204
    },
    "colab_type": "code",
    "executionInfo": {
     "elapsed": 698,
     "status": "ok",
     "timestamp": 1582407675378,
     "user": {
      "displayName": "Filipe Rodrigues",
      "photoUrl": "https://lh3.googleusercontent.com/a-/AAuE7mDaWEE0j1oWjHLxVkWKYDXRh8NUBFCgGYF0XZOsvA=s64",
      "userId": "15636531912642599438"
     },
     "user_tz": -60
    },
    "id": "PmVZOKWAeFUa",
    "outputId": "94750ee7-f9f7-4ef1-a720-9d5cf5a78601"
   },
   "outputs": [
    {
     "name": "stdout",
     "output_type": "stream",
     "text": [
      "predictions: [2 2 4 4 4 2 4 1 4 4 4 3 1 4 2 1 4 2 1 4 4 4 4 4 2 4 1 4 1 2 4 4 4 2 3 4 4\n",
      " 3 2 4 4 4 2 2 2 4 1 3 2 3 1 2 4 1 1 4 2 4 4 1 3 2 4 2 4 4 4 3 2 3 2 4 2 4\n",
      " 4 4 1 4 2 2 4 4 1 4 3 4 4 2 1 4 3 1 4 2 1 4 1 4 4 4 1 1 2 1 3 2 4 4 4 4 4\n",
      " 4 4 1 3 3 1 4 3 2 4 1 4 2 1 3 2 2 2 4 4 4 4 2]\n",
      "true values: [4 2 2 4 4 2 1 2 4 4 4 4 1 2 2 1 3 4 1 2 4 3 1 4 2 4 2 1 3 2 4 4 4 4 2 1 1\n",
      " 3 2 1 4 2 2 2 4 1 1 3 2 3 1 2 4 4 1 4 2 4 4 3 3 4 4 4 4 1 1 3 2 1 2 4 2 4\n",
      " 4 4 1 2 4 2 4 4 1 4 3 1 4 4 1 4 3 1 1 2 4 4 4 4 4 1 4 3 3 1 3 2 4 4 4 1 4\n",
      " 4 4 1 4 1 1 4 3 2 1 1 4 2 4 1 2 4 2 1 1 1 4 4]\n",
      "Accuracy: 0.6194029850746269\n"
     ]
    }
   ],
   "source": [
    "# create and fit logistic regression model\n",
    "logreg = linear_model.LogisticRegression(solver='lbfgs', multi_class='auto', C=1)\n",
    "logreg.fit(X_train, y_train)\n",
    "\n",
    "# make predictions for test set\n",
    "y_hat = logreg.predict(X_test)\n",
    "print(\"predictions:\", y_hat)\n",
    "print(\"true values:\", y_test)\n",
    "\n",
    "# evaluate prediction accuracy\n",
    "print(\"Accuracy:\", 1.0*np.sum(y_hat == y_test) / len(y_test))"
   ]
  },
  {
   "cell_type": "markdown",
   "metadata": {
    "colab_type": "text",
    "id": "zR_l5ZaEeFUd"
   },
   "source": [
    "Ok, time to do it in Pyro!\n",
    "\n",
    "Since we don't have a column in the inputs (X) that is always equal to 1, we need to incorporate the bias term in our model explicitly. Hence, we shall include an extra set of bias parameters $\\boldsymbol\\alpha = \\{\\alpha_1,\\dots,\\alpha_C\\}$ in the model. The likelihood is then of the form:\n",
    "\n",
    "\\begin{align}\n",
    "y_n \\sim \\mbox{Multinomial}(\\mbox{Softmax}(\\boldsymbol\\alpha + \\textbf{B} \\textbf{x}_n^T))\n",
    "\\end{align}\n",
    "\n",
    "where $\\textbf{B} = (\\boldsymbol\\beta_1,\\dots,\\boldsymbol\\beta_C)^T$\n",
    "\n",
    "Remember that Pyro expects the targets $y_n$ as integers in {0,1,2,3}!\n",
    "\n",
    "Your turn now :-) Can you implement it in Pyro?"
   ]
  },
  {
   "cell_type": "code",
   "execution_count": 33,
   "metadata": {
    "colab": {},
    "colab_type": "code",
    "id": "0kqqAb7kghCN"
   },
   "outputs": [],
   "source": [
    "def model(X, n_cat, obs=None):\n",
    "    input_dim = X.shape[1]\n",
    "    alpha = pyro.sample(\"alpha\", dist.Normal(torch.zeros(1, n_cat), \n",
    "                                             5.*torch.ones(1, n_cat)))  # Prior for the bias/intercept\n",
    "    beta  = pyro.sample(\"beta\", dist.Normal(torch.zeros(input_dim, n_cat), \n",
    "                                            5.*torch.ones(input_dim, n_cat))) # Priors for the regression coeffcients\n",
    "    \n",
    "    with pyro.plate(\"data\"):\n",
    "        y = pyro.sample(\"y\", dist.Categorical(logits=alpha + X.matmul(beta)), obs=obs)\n",
    "        \n",
    "    return y"
   ]
  },
  {
   "cell_type": "markdown",
   "metadata": {
    "colab_type": "text",
    "id": "kPtDsCq7xl9l"
   },
   "source": [
    "Let's prepare the data for Pyro by converting it into PyTorch tensors:"
   ]
  },
  {
   "cell_type": "code",
   "execution_count": 34,
   "metadata": {
    "colab": {},
    "colab_type": "code",
    "id": "DZduqzNghR07"
   },
   "outputs": [],
   "source": [
    "n_cat = 4\n",
    "# Prepare data for Pyro\n",
    "X_train = torch.tensor(X_train).float()\n",
    "y_train = torch.tensor(y_train).float()"
   ]
  },
  {
   "cell_type": "markdown",
   "metadata": {
    "colab_type": "text",
    "id": "6mbpzhDgxxON"
   },
   "source": [
    "Run approximate Bayesian inference using SVI:"
   ]
  },
  {
   "cell_type": "code",
   "execution_count": 35,
   "metadata": {
    "colab": {
     "base_uri": "https://localhost:8080/",
     "height": 731
    },
    "colab_type": "code",
    "executionInfo": {
     "elapsed": 134128,
     "status": "ok",
     "timestamp": 1582406330295,
     "user": {
      "displayName": "Filipe Rodrigues",
      "photoUrl": "https://lh3.googleusercontent.com/a-/AAuE7mDaWEE0j1oWjHLxVkWKYDXRh8NUBFCgGYF0XZOsvA=s64",
      "userId": "15636531912642599438"
     },
     "user_tz": -60
    },
    "id": "BwoCIp9cwciQ",
    "outputId": "497ff3d7-9f46-4f18-9d26-e9a4b88f6ef0"
   },
   "outputs": [
    {
     "name": "stdout",
     "output_type": "stream",
     "text": [
      "[0] ELBO: 1226.1\n",
      "[1000] ELBO: 684.6\n",
      "[2000] ELBO: 415.6\n",
      "[3000] ELBO: 375.0\n",
      "[4000] ELBO: 353.6\n",
      "[5000] ELBO: 349.7\n",
      "[6000] ELBO: 340.6\n",
      "[7000] ELBO: 334.5\n",
      "[8000] ELBO: 334.4\n",
      "[9000] ELBO: 337.7\n",
      "[10000] ELBO: 334.1\n",
      "[11000] ELBO: 334.7\n",
      "[12000] ELBO: 324.6\n",
      "[13000] ELBO: 323.9\n",
      "[14000] ELBO: 326.3\n",
      "[15000] ELBO: 324.2\n",
      "[16000] ELBO: 345.8\n",
      "[17000] ELBO: 320.3\n",
      "[18000] ELBO: 323.3\n",
      "[19000] ELBO: 319.5\n",
      "[20000] ELBO: 315.9\n",
      "[21000] ELBO: 316.5\n",
      "[22000] ELBO: 307.4\n",
      "[23000] ELBO: 321.5\n",
      "[24000] ELBO: 306.8\n",
      "[25000] ELBO: 326.9\n",
      "[26000] ELBO: 313.3\n",
      "[27000] ELBO: 311.0\n",
      "[28000] ELBO: 321.9\n",
      "[29000] ELBO: 316.3\n",
      "[30000] ELBO: 316.2\n",
      "[31000] ELBO: 313.4\n",
      "[32000] ELBO: 315.2\n",
      "[33000] ELBO: 314.4\n",
      "[34000] ELBO: 307.7\n",
      "[35000] ELBO: 306.2\n",
      "[36000] ELBO: 314.4\n",
      "[37000] ELBO: 347.8\n",
      "[38000] ELBO: 329.9\n",
      "[39000] ELBO: 314.8\n"
     ]
    }
   ],
   "source": [
    "# Define guide function\n",
    "guide = AutoMultivariateNormal(model)\n",
    "\n",
    "# Reset parameter values\n",
    "pyro.clear_param_store()\n",
    "\n",
    "# Define the number of optimization steps\n",
    "n_steps = 40000\n",
    "\n",
    "# Setup the optimizer\n",
    "adam_params = {\"lr\": 0.001}\n",
    "optimizer = ClippedAdam(adam_params)\n",
    "\n",
    "# Setup the inference algorithm\n",
    "elbo = Trace_ELBO(num_particles=1)\n",
    "svi = SVI(model, guide, optimizer, loss=elbo)\n",
    "\n",
    "# Do gradient steps\n",
    "for step in range(n_steps):\n",
    "    elbo = svi.step(X_train, n_cat, y_train-1)\n",
    "    if step % 1000 == 0:\n",
    "        print(\"[%d] ELBO: %.1f\" % (step, elbo))"
   ]
  },
  {
   "cell_type": "markdown",
   "metadata": {
    "colab_type": "text",
    "id": "8ScS8Wtqx5-o"
   },
   "source": [
    "Upon convergence, we can use the ```Predictive``` class to extract samples from posterior:"
   ]
  },
  {
   "cell_type": "code",
   "execution_count": 36,
   "metadata": {
    "colab": {},
    "colab_type": "code",
    "id": "BLdm5lVI0mWL"
   },
   "outputs": [],
   "source": [
    "from pyro.infer import Predictive\n",
    "\n",
    "predictive = Predictive(model, guide=guide, num_samples=2000,\n",
    "                        return_sites=(\"alpha\", \"beta\"))\n",
    "samples = predictive(X_train, n_cat, y_train-1)"
   ]
  },
  {
   "cell_type": "markdown",
   "metadata": {
    "colab_type": "text",
    "id": "qe3kuhITeFUp"
   },
   "source": [
    "Plot posterior distributions for the parameters using the ```seaborn``` package:"
   ]
  },
  {
   "cell_type": "code",
   "execution_count": 37,
   "metadata": {
    "colab": {
     "base_uri": "https://localhost:8080/",
     "height": 483
    },
    "colab_type": "code",
    "executionInfo": {
     "elapsed": 1671,
     "status": "ok",
     "timestamp": 1582406983569,
     "user": {
      "displayName": "Filipe Rodrigues",
      "photoUrl": "https://lh3.googleusercontent.com/a-/AAuE7mDaWEE0j1oWjHLxVkWKYDXRh8NUBFCgGYF0XZOsvA=s64",
      "userId": "15636531912642599438"
     },
     "user_tz": -60
    },
    "id": "hIk2zn96yuPe",
    "outputId": "b9b8d154-83e4-4d8f-9a0b-fae02b3194ba"
   },
   "outputs": [
    {
     "data": {
      "image/png": "[encoded data removed]",
      "text/plain": [
       "<Figure size 864x576 with 1 Axes>"
      ]
     },
     "metadata": {
      "needs_background": "light"
     },
     "output_type": "display_data"
    }
   ],
   "source": [
    "for c in range(n_cat):\n",
    "    sns.distplot(samples[\"alpha\"][:,0,c].detach().numpy())\n",
    "plt.legend([\"alpha%d\" % c for c in range(n_cat)])\n",
    "plt.show()"
   ]
  },
  {
   "cell_type": "code",
   "execution_count": 38,
   "metadata": {
    "colab": {
     "base_uri": "https://localhost:8080/",
     "height": 483
    },
    "colab_type": "code",
    "executionInfo": {
     "elapsed": 3065,
     "status": "ok",
     "timestamp": 1582407061693,
     "user": {
      "displayName": "Filipe Rodrigues",
      "photoUrl": "https://lh3.googleusercontent.com/a-/AAuE7mDaWEE0j1oWjHLxVkWKYDXRh8NUBFCgGYF0XZOsvA=s64",
      "userId": "15636531912642599438"
     },
     "user_tz": -60
    },
    "id": "j9JNM4Nszmje",
    "outputId": "3030d31d-7d19-45be-db23-636fc0e40741"
   },
   "outputs": [
    {
     "data": {
      "image/png": "[encoded data removed]",
      "text/plain": [
       "<Figure size 864x576 with 1 Axes>"
      ]
     },
     "metadata": {
      "needs_background": "light"
     },
     "output_type": "display_data"
    }
   ],
   "source": [
    "for d in range(X.shape[1]):\n",
    "    sns.distplot(samples[\"beta\"][:,d,0].detach().numpy())\n",
    "plt.legend([\"beta1_%d\" % d for d in range(X.shape[1])])\n",
    "plt.show()"
   ]
  },
  {
   "cell_type": "markdown",
   "metadata": {
    "colab_type": "text",
    "id": "iP7bBPYkeFUz"
   },
   "source": [
    "We can now use the inferred posteriors to make predictions for the testset and compute the corresponding accuracy:"
   ]
  },
  {
   "cell_type": "code",
   "execution_count": 39,
   "metadata": {
    "colab": {},
    "colab_type": "code",
    "id": "nucJ8mtPkQKQ"
   },
   "outputs": [],
   "source": [
    "alpha_hat = samples[\"alpha\"].mean(axis=0).detach().numpy()\n",
    "beta_hat = samples[\"beta\"].mean(axis=0).detach().numpy()"
   ]
  },
  {
   "cell_type": "code",
   "execution_count": 40,
   "metadata": {
    "colab": {
     "base_uri": "https://localhost:8080/",
     "height": 170
    },
    "colab_type": "code",
    "executionInfo": {
     "elapsed": 2762,
     "status": "ok",
     "timestamp": 1582406333813,
     "user": {
      "displayName": "Filipe Rodrigues",
      "photoUrl": "https://lh3.googleusercontent.com/a-/AAuE7mDaWEE0j1oWjHLxVkWKYDXRh8NUBFCgGYF0XZOsvA=s64",
      "userId": "15636531912642599438"
     },
     "user_tz": -60
    },
    "id": "wecIoBL5w_09",
    "outputId": "c64332b7-0502-4091-d5e0-f084dc85e263"
   },
   "outputs": [
    {
     "name": "stdout",
     "output_type": "stream",
     "text": [
      "predictions: [2 2 4 4 4 2 1 1 4 4 4 3 1 4 2 1 4 2 1 2 4 4 4 4 2 4 1 4 1 2 4 4 4 2 3 4 4\n",
      " 3 2 1 4 4 2 2 2 4 1 3 2 3 1 2 4 1 1 4 2 4 4 1 3 2 4 2 4 4 4 3 2 1 2 4 2 4\n",
      " 4 4 1 4 4 2 4 4 1 4 3 4 4 4 1 4 3 1 4 2 1 4 1 1 4 4 1 1 4 4 3 2 4 4 4 4 4\n",
      " 4 4 1 3 1 1 4 3 2 4 1 4 2 1 1 2 2 2 4 4 4 4 2]\n",
      "true values: [4 2 2 4 4 2 1 2 4 4 4 4 1 2 2 1 3 4 1 2 4 3 1 4 2 4 2 1 3 2 4 4 4 4 2 1 1\n",
      " 3 2 1 4 2 2 2 4 1 1 3 2 3 1 2 4 4 1 4 2 4 4 3 3 4 4 4 4 1 1 3 2 1 2 4 2 4\n",
      " 4 4 1 2 4 2 4 4 1 4 3 1 4 4 1 4 3 1 1 2 4 4 4 4 4 1 4 3 3 1 3 2 4 4 4 1 4\n",
      " 4 4 1 4 1 1 4 3 2 1 1 4 2 4 1 2 4 2 1 1 1 4 4]\n",
      "Accuracy: 0.664179104477612\n"
     ]
    }
   ],
   "source": [
    "# make predictions for test set\n",
    "y_hat = alpha_hat + np.dot(X_test, beta_hat)\n",
    "y_hat = np.argmax(y_hat, axis=1) + 1\n",
    "print(\"predictions:\", y_hat)\n",
    "print(\"true values:\", y_test)\n",
    "\n",
    "# evaluate prediction accuracy\n",
    "print(\"Accuracy:\", 1.0*np.sum(y_hat == y_test) / len(y_test))"
   ]
  },
  {
   "cell_type": "markdown",
   "metadata": {
    "colab_type": "text",
    "collapsed": true,
    "id": "5KZ6tdV9eFU9"
   },
   "source": [
    "You should have obtained a similar accuracy to sklearn, or even better...\n",
    "\n",
    "Moreover, you now have full posterior distributions for the model parameters. Therefore, you can see how each trip characteristic affects the travel mode choices, but also how uncertain the model is about that relationship. For example, a very wide posterior distribution of a coefficient $\\beta$ around 3, would tell you that, on average, the corresponding variables contributes positively to a having preference for a given mode, but the model is not very confident about that conclusion."
   ]
  },
  {
   "cell_type": "markdown",
   "metadata": {
    "colab_type": "text",
    "id": "jcn44bBJ2ljY"
   },
   "source": [
    "### Inference with MCMC\n",
    "\n",
    "Lastly, for the sake of completeness, we show below how to approximate Bayesian inference in the model using MCMC. However, we note that the code below takes a while (approx. 10 minutes) to run."
   ]
  },
  {
   "cell_type": "markdown",
   "metadata": {
    "colab_type": "text",
    "id": "Lb-1BVxE4jkn"
   },
   "source": []
  },
  {
   "cell_type": "code",
   "execution_count": 19,
   "metadata": {
    "colab": {
     "base_uri": "https://localhost:8080/",
     "height": 34
    },
    "colab_type": "code",
    "executionInfo": {
     "elapsed": 694013,
     "status": "ok",
     "timestamp": 1582408567631,
     "user": {
      "displayName": "Filipe Rodrigues",
      "photoUrl": "https://lh3.googleusercontent.com/a-/AAuE7mDaWEE0j1oWjHLxVkWKYDXRh8NUBFCgGYF0XZOsvA=s64",
      "userId": "15636531912642599438"
     },
     "user_tz": -60
    },
    "id": "vLPfDRe-mK7h",
    "outputId": "d5b83b17-3a5d-4826-8b6d-86500ce73ac5"
   },
   "outputs": [
    {
     "name": "stderr",
     "output_type": "stream",
     "text": [
      "Sample: 100%|██████████| 600/600 [11:37,  1.16s/it, step size=9.92e-03, acc. prob=0.964]\n"
     ]
    }
   ],
   "source": [
    "nuts_kernel = NUTS(model)\n",
    "mcmc = MCMC(nuts_kernel, num_samples=500, warmup_steps=100, num_chains=1)\n",
    "mcmc.run(X_train, n_cat, y_train-1) # Pyro accepts categories starting from 0"
   ]
  },
  {
   "cell_type": "code",
   "execution_count": 20,
   "metadata": {
    "colab": {},
    "colab_type": "code",
    "id": "pJKYQp293A_A"
   },
   "outputs": [],
   "source": [
    "samples = mcmc.get_samples()\n",
    "alpha_hat = samples[\"alpha\"].mean(axis=0).numpy()\n",
    "beta_hat = samples[\"beta\"].mean(axis=0).numpy()"
   ]
  },
  {
   "cell_type": "code",
   "execution_count": 21,
   "metadata": {
    "colab": {
     "base_uri": "https://localhost:8080/",
     "height": 170
    },
    "colab_type": "code",
    "executionInfo": {
     "elapsed": 910,
     "status": "ok",
     "timestamp": 1582408569886,
     "user": {
      "displayName": "Filipe Rodrigues",
      "photoUrl": "https://lh3.googleusercontent.com/a-/AAuE7mDaWEE0j1oWjHLxVkWKYDXRh8NUBFCgGYF0XZOsvA=s64",
      "userId": "15636531912642599438"
     },
     "user_tz": -60
    },
    "id": "ETh5uTaa3CXV",
    "outputId": "cac4fdab-1d52-41df-8106-7dea38fe9627"
   },
   "outputs": [
    {
     "name": "stdout",
     "output_type": "stream",
     "text": [
      "predictions: [2 2 4 4 4 2 1 1 4 4 4 3 1 4 2 1 4 2 1 2 4 4 4 4 2 4 1 4 1 2 4 4 4 4 3 4 4\n",
      " 3 2 1 4 4 2 2 2 4 1 3 2 3 1 4 4 1 1 4 2 4 4 1 3 2 4 2 4 4 4 3 2 1 2 4 2 4\n",
      " 4 4 1 4 4 2 4 4 1 4 3 4 4 4 1 4 3 1 4 2 1 4 1 1 4 4 1 1 4 4 3 2 4 4 4 4 4\n",
      " 4 4 1 3 1 1 4 3 2 4 1 4 2 1 1 2 2 2 4 4 4 4 2]\n",
      "true values: [4 2 2 4 4 2 1 2 4 4 4 4 1 2 2 1 3 4 1 2 4 3 1 4 2 4 2 1 3 2 4 4 4 4 2 1 1\n",
      " 3 2 1 4 2 2 2 4 1 1 3 2 3 1 2 4 4 1 4 2 4 4 3 3 4 4 4 4 1 1 3 2 1 2 4 2 4\n",
      " 4 4 1 2 4 2 4 4 1 4 3 1 4 4 1 4 3 1 1 2 4 4 4 4 4 1 4 3 3 1 3 2 4 4 4 1 4\n",
      " 4 4 1 4 1 1 4 3 2 1 1 4 2 4 1 2 4 2 1 1 1 4 4]\n",
      "Accuracy: 0.664179104477612\n"
     ]
    }
   ],
   "source": [
    "# make predictions for test set\n",
    "y_hat = alpha_hat + np.dot(X_test, beta_hat)\n",
    "y_hat = np.argmax(y_hat, axis=1) + 1\n",
    "print(\"predictions:\", y_hat)\n",
    "print(\"true values:\", y_test)\n",
    "\n",
    "# evaluate prediction accuracy\n",
    "print(\"Accuracy:\", 1.0*np.sum(y_hat == y_test) / len(y_test))"
   ]
  },
  {
   "cell_type": "code",
   "execution_count": null,
   "metadata": {},
   "outputs": [],
   "source": []
  },
  {
   "cell_type": "code",
   "execution_count": null,
   "metadata": {},
   "outputs": [],
   "source": []
  }
 ],
 "metadata": {
  "colab": {
   "collapsed_sections": [],
   "name": "06 - Classification models - Part 2 - Pyro - solutions.ipynb",
   "provenance": []
  },
  "kernelspec": {
   "display_name": "Python 3",
   "language": "python",
   "name": "python3"
  },
  "language_info": {
   "codemirror_mode": {
    "name": "ipython",
    "version": 3
   },
   "file_extension": ".py",
   "mimetype": "text/x-python",
   "name": "python",
   "nbconvert_exporter": "python",
   "pygments_lexer": "ipython3",
   "version": "3.7.6"
  }
 },
 "nbformat": 4,
 "nbformat_minor": 1
}
